{
 "cells": [
  {
   "cell_type": "code",
   "execution_count": null,
   "id": "9ce0e63e",
   "metadata": {},
   "outputs": [],
   "source": []
  },
  {
   "cell_type": "code",
   "execution_count": 52,
   "id": "67f71c21",
   "metadata": {},
   "outputs": [],
   "source": [
    "import requests\n",
    "from bs4 import BeautifulSoup\n",
    "import re"
   ]
  },
  {
   "cell_type": "code",
   "execution_count": 6,
   "id": "581f7851",
   "metadata": {},
   "outputs": [],
   "source": [
    "#<p class=\"comment__09f24__gu0rG css-qgunke\"><span class=\" raw__09f24__T4Ezm\" lang=\"en\">the most authentic Indian restaurant in London by far. Every dish we had was amazing and reminded me of my home country. Also the atmosphere and vibe is real special. I've gone countless times and have never had a bad meal of substandard service..</span></p>"
   ]
  },
  {
   "cell_type": "code",
   "execution_count": null,
   "id": "f7eba9a9",
   "metadata": {},
   "outputs": [],
   "source": [
    "class=\" undefined list__09f24__ynIEd\""
   ]
  },
  {
   "cell_type": "code",
   "execution_count": 5,
   "id": "1dd9b4c4",
   "metadata": {},
   "outputs": [],
   "source": [
    "#<span class=\" raw__09f24__T4Ezm\" lang=\"en\">the most authentic Indian restaurant in London by far. Every dish we had was amazing and reminded me of my home country. Also the atmosphere and vibe is real special. I've gone countless times and have never had a bad meal of substandard service..</span></p>"
   ]
  },
  {
   "cell_type": "code",
   "execution_count": 8,
   "id": "462b4051",
   "metadata": {},
   "outputs": [],
   "source": [
    "url = \"https://www.yelp.co.uk/biz/dishoom-london\"\n",
    "headers = {}\n",
    "response = requests.get(url, headers)\n",
    "soup = BeautifulSoup(response.content, \"html.parser\")\n",
    "\n",
    "#reviews = []\n",
    "#for review in soup.find_all(\"div\", class_=\"lister-item-content\"):\n",
    "#    title = movie.find(\"h3\").find(\"a\").string\n",
    "#    duration = int(movie.find(\"span\", class_=\"runtime\").string.strip(' min'))\n",
    "#    movies.append({'title': title, 'duration': duration})"
   ]
  },
  {
   "cell_type": "code",
   "execution_count": 42,
   "id": "62edb6a6",
   "metadata": {},
   "outputs": [],
   "source": [
    "#x = soup.find_all(\"ul\", class_=\"undefined list__09f24__ynIEd\")[7].text"
   ]
  },
  {
   "cell_type": "code",
   "execution_count": 43,
   "id": "44642c37",
   "metadata": {},
   "outputs": [],
   "source": [
    "#soup.find_all(\"span\", class_=\"raw__09f24__T4Ezm\")"
   ]
  },
  {
   "cell_type": "code",
   "execution_count": null,
   "id": "81c4e8dc",
   "metadata": {},
   "outputs": [],
   "source": []
  },
  {
   "cell_type": "code",
   "execution_count": 59,
   "id": "221418e0",
   "metadata": {},
   "outputs": [],
   "source": [
    "#<span class=\" raw__09f24__T4Ezm\" lang=\"en\">Dishoom came highly recommended by a friend. \n",
    "#I didn't make a reservation because I figured it would be quick for a single person to get seated but I was wrong, it was still 30+ minute wait standing in line in the heat. <br><br>The cocktails were delicious! I had the Fizz and the Cabana Colada which was amazing. <br><br>The food was good but I think I set the bar too high. I got the veggie samosas which were good but nothing out of this world and I got the Veggie mash dish which came with a side of a roll. \n",
    "#I would have preferred if it came with a side of Naan. I ordered that separately which was very tasty.</span>\n",
    "\n",
    "\n"
   ]
  },
  {
   "cell_type": "code",
   "execution_count": null,
   "id": "5bcee1ce",
   "metadata": {},
   "outputs": [],
   "source": [
    "#https://www.yelp.co.uk/biz/dishoom-london?start=20"
   ]
  },
  {
   "cell_type": "code",
   "execution_count": 63,
   "id": "1453d812",
   "metadata": {},
   "outputs": [],
   "source": [
    "url = \"https://www.yelp.co.uk/biz/dishoom-london\"\n",
    "response = requests.get(url)\n",
    "soup = BeautifulSoup(response.content, \"html.parser\")\n"
   ]
  },
  {
   "cell_type": "code",
   "execution_count": 85,
   "id": "c4b01499",
   "metadata": {},
   "outputs": [],
   "source": [
    "x = soup.find_all(\"span\", class_=lambda value: value and value.startswith(\"raw_\"))"
   ]
  },
  {
   "cell_type": "code",
   "execution_count": 86,
   "id": "ac3fafe7",
   "metadata": {},
   "outputs": [
    {
     "name": "stdout",
     "output_type": "stream",
     "text": [
      "Your trust is our top concern, so businesses can't pay to alter or remove their reviews. Learn more.\n",
      "Start your review of Dishoom.\n",
      "the most authentic Indian restaurant in London by far. Every dish we had was amazing and reminded me of my home country. Also the atmosphere and vibe is real special. I've gone countless times and have never had a bad meal of substandard service..\n",
      "Hundreds of happy customers come through every hour.  Don't let the outdoor queue scare you off as it did me last night but I came back for lunch today and the line, albeit the length of the restaurant, only took 20 minutes or less.  All the employees were very courteous and pleasant.The chicken ruby was just amazing and very complex. There was not a drop left. The paneer tikka is probably meant to be shared  and was a bit underwhelming.  We got a downstairs table near the bar and dishwasher so it was terribly noisy with all the silverware.  But, it was also indicative just how popular this place is.\n",
      "Have been wanting to go to Dishoom for years and I was glad it conveniently fit into my morning schedule. I passed it several times in the days before in the afternoons and the line gets insanely long for dinner time. I walked in and got seated with ease.The store itself is absolutely stunning. The area is huge. Even going downstairs to use the bathroom is like a different experience. I came around 9am during their breakfast menu, which I didn't know about. Guess I have to come back during later meals to try their other items.I got the keema per eedu. It was super flavorful and rich. Maybe I got too excited and scarfed it down too fast. It put me in a huge food coma. The liver, egg, and savory flavors felt heavy. It was an explosion in your mouth. I washed this down with chai and a cappuccino. The service was prompt. The store was scattered with some people out for leisure and business meals. There was always a consistent amount of people filling the shop throughout my meal. Gotta come back to try their regular menu--likely when I have more time in London!\n",
      "Wow wow wow.. A very memorable experience and service provided by ALEX at this location on 3rd of November. Alex was attentive and charming, he made sure that my friends and I were well taken care of for the evening. I happen to have a mango allergy but the manager was able to resolve that issue quickly with a special menu that was checked off by the chef with all the dishes that did not have Mango in it. I was grateful and very appreciative of such wonderful gesture and hope the restaurant continues to provide this caliber of service in our future visits. Marvelous time spent and would highly recommend this location to anyone who is visiting London. Thank you Alex!Food was also absolutely delicious, dare I say some of the best Indian cuisine I've had so far? Make reservations if you can to avoid the long long line outside.\n",
      "The best Indian food in London!This is my 3rd visit to London and Dishoom, the quality of food hasn't changed and it's still the best Indian food in town\n",
      "4.5/5 stars As someone who isn't well versed in Indian food, the menu can be overwhelming. Our waiter was kind enough to explain that the dishes were meant to be shared, and he made recommendations for what dishes would be good. We got a few small plates: the Pau Bhaji (Mashed vegetables with buns) and the lamb samosa. Both of these were excellent. The lamb samosa was so crispy, hot, and flavorful. The Pau Bhaji was new for me. The bun was so fluffy and buttery and was perfect with the mashed vegetables. It just tasted like a herb/spice sauce.For our main entrees, we got the chicken berry biryani (chicken and rice dish) and the mutton pepper fry (curry dish) and added the raita (yogurt sauce). The chicken biryani was quite good, and the chicken was pretty tender. The raita was supposed to be used with the biryani, but it kinda made the dish too cold for my liking. The mutton pepper fry was tender and flavorful! It was spicy, but I was surprisingly able to tolerate it. We ordered garlic naan, which was perfect for scooping all the sauce. It didn't have a strong garlic flavor, and it wasn't piping hot. We also ordered the chili broccoli salad, which was divine! The combination of pistachios, seeds, and dates made the broccoli so tasty! Overall, I enjoyed our meal here and loved trying new foods! We came around 5:15 pm and didn't need to wait for a table, but when we left the restaurant, there was a huge line, so definitely try to go during off peak hours.\n",
      "Food 5/5Ambiance 5/5Service 5/5You'll likely have to wait anywhere from 30 minutes to an hour for a table depending on the timing and your group size, but it's well worth it. They will sometimes pass out drinks to those waiting in line which is a nice touch. The food is stellar, though a bit different from your typical Indian restaurant in that it's more of a small plates style. Since portions are smaller, they recommend at least 2-3 plates per person here. My favorite was the Dishoom House Chaat, a dish that was recommended by our waiter. Note that unlike other Indian restaurants, they don't ask you for a preferred spice level on their dishes, so if you're particularly sensitive to spice, ask your waiter for specific recommendations. Ambiance is lively and there are neat booths downstairs where you can control the music level and (if I remember correctly) the fan as well- something I haven't seen at another restaurant. Bathrooms are also quite nice and clean- something that is always hugely appreciated in a big city like London. I will be making this a regular spot for anytime I'm in London!\n",
      "It is a chain restaurant but nothing about it lacks the quality. This place is incredible and they need to come to the States! Its Indian cuisines and its has a wide array of options. I feel like this is perfect for people that might be intimidated by Indian food and want to try it for the first time. Theres so much great choices for various diets: vegetarians, vegans, carnivores, etc. My partner is a vegan and she was pleased with all the options. I went with the Ruby Chicken which is essentially a tika masala chicken. Run don't walk to get it. Very delicious and the sauce with some basmati rice is outstanding. The samosas are a great appetizer as well. The gunpowder potatoes was a great side. Never had potatoes that seasoned before.Disroom please please please make your way to New York. They longing for a restaurant like this.\n",
      "Came here for an early lunch when passing through the UK a while back and wow...the best indian food I have eaten out at a restaurant!! I generally don't eat indian food out because my parents are amazing cooks and we can enjoy good food from the comfort of our home most times. Before I came to the UK, numerous people raved about Dishoom telling me it was a must go!We had a quick stopover in the UK and made it a priority to come here! One thing to note is that they have breakfast hours where they serve a completely different menu from the regular lunch/dinner food. We had showed up early and they were still serving brunch. Call and check this in advance because we ended up waiting over an hour in the restaurant to get lunch food! Nonetheless, the wait was worth it!The ambiance of this spot it really pleasant and unique. We were treated so wonderfully by the staff and service was quite quick once lunch opened. We ordered a few different entrees -- chili chicken, chicken, daal, chicken tikka, and naan. We also got a mango lassi and rice on the side. The food was amazing! Flavors were solid, and meat was tender. I highly recommend all the dishes we ordered because I would 100% order them all again.\n",
      "This was a stop during our first trip to London. The food was worth the hype for us. We had the uttapam pancakes with Shrikhand, chicken ruby, cheese toast, jackfruit biryani, and the chicken tikka roll. The breakfast menu wasn't our thing but lunch was absolutely delicious. The chicken was perfectly cooked, the service was excellent, and the ambience was perfect for brunch. I would return.\n"
     ]
    }
   ],
   "source": [
    "for review in x[2:]:    \n",
    "    cleaned_text = re.sub('<[^<]+?>','', review.text)\n",
    "    print(cleaned_text)\n"
   ]
  },
  {
   "cell_type": "code",
   "execution_count": 87,
   "id": "1d7d4a88",
   "metadata": {},
   "outputs": [],
   "source": [
    "y = soup.find_all(\"div\", class_=\"five-stars__09f24__mBKym\")"
   ]
  },
  {
   "cell_type": "code",
   "execution_count": 117,
   "id": "e10ea246",
   "metadata": {},
   "outputs": [],
   "source": [
    "#3-12 of y are the actual reviews"
   ]
  },
  {
   "cell_type": "code",
   "execution_count": 132,
   "id": "048367f3",
   "metadata": {},
   "outputs": [
    {
     "data": {
      "text/plain": [
       "<div class=\"review__09f24__oHr9V border-color--default__09f24__NPAKY\"><div class=\"margin-b3__09f24__l9v5d border-color--default__09f24__NPAKY\"><div class=\"arrange__09f24__LDfbs gutter-auto__09f24__W9jlL border-color--default__09f24__NPAKY\"><div class=\"arrange-unit__09f24__rqHTg arrange-unit-fill__09f24__CUubG border-color--default__09f24__NPAKY\"><div aria-label=\"Irfan S.\" class=\"border-color--default__09f24__NPAKY\" role=\"region\"><div class=\"arrange__09f24__LDfbs gutter-1-5__09f24__vMtpw vertical-align-middle__09f24__zU9sE border-color--default__09f24__NPAKY\"><div class=\"arrange-unit__09f24__rqHTg border-color--default__09f24__NPAKY\"><div class=\"css-w8rns border-color--default__09f24__NPAKY\"><a class=\"css-1fkqezt\" href=\"/user_details?userid=_o59bKVoTxXGkpV8QTkooQ\" target=\"_self\"><img alt=\"Photo of Irfan S.\" class=\"css-1pz4y59\" draggable=\"true\" height=\"64\" loading=\"lazy\" src=\"https://s3-media0.fl.yelpcdn.com/photo/e64jh_hTN5wk8Aa8DanyQw/60s.jpg\" srcset=\"https://s3-media0.fl.yelpcdn.com/photo/e64jh_hTN5wk8Aa8DanyQw/ms.jpg 1.67x,https://s3-media0.fl.yelpcdn.com/photo/e64jh_hTN5wk8Aa8DanyQw/120s.jpg 2.00x,https://s3-media0.fl.yelpcdn.com/photo/e64jh_hTN5wk8Aa8DanyQw/90s.jpg 1.50x,https://s3-media0.fl.yelpcdn.com/photo/e64jh_hTN5wk8Aa8DanyQw/168s.jpg 2.80x,https://s3-media0.fl.yelpcdn.com/photo/e64jh_hTN5wk8Aa8DanyQw/180s.jpg 3.00x\" width=\"64\"/></a></div></div><div class=\"arrange-unit__09f24__rqHTg arrange-unit-fill__09f24__CUubG border-color--default__09f24__NPAKY\"><div class=\"user-passport-info border-color--default__09f24__NPAKY\"><span class=\"fs-block css-ux5mu6\" data-font-weight=\"bold\"><a class=\"css-1m051bw\" href=\"/user_details?userid=_o59bKVoTxXGkpV8QTkooQ\" role=\"link\">Irfan S.</a></span><div class=\"responsive-hidden-small__09f24__qQFtj border-color--default__09f24__NPAKY\"><div class=\"border-color--default__09f24__NPAKY\"><span class=\"css-qgunke\">San Mateo, United States</span></div></div></div><div class=\"margin-t0-5__09f24__gboxT border-color--default__09f24__NPAKY\"><div class=\"display--inline-block__09f24__fEDiJ border-color--default__09f24__NPAKY\"><div class=\"user-passport-stats__09f24__NQxB4 border-color--default__09f24__NPAKY\"><div aria-label=\"Friends\" class=\"display--inline-block__09f24__fEDiJ margin-r1__09f24__rN_ga border-color--default__09f24__NPAKY\"><span alt=\"\" aria-hidden=\"true\" class=\"icon--16-friends-v2 css-1nrzw89\" role=\"img\"><svg class=\"icon_svg\" height=\"16\" width=\"16\"><path d=\"M11.231 1.25H4.769A3.523 3.523 0 001.25 4.77v6.46a3.523 3.523 0 003.519 3.52h6.462a3.524 3.524 0 003.519-3.52V4.77a3.523 3.523 0 00-3.519-3.52zm-6.462 1.5h6.462a2.022 2.022 0 012.019 2.02v6.223a8.71 8.71 0 00-2.218-1.177c.164-.395.249-.819.25-1.247V7.562a3.281 3.281 0 10-6.563 0v1.007c0 .428.085.852.249 1.247-.792.283-1.54.68-2.218 1.177V4.77a2.022 2.022 0 012.019-2.02zm5.012 5.82a1.781 1.781 0 01-3.562 0V7.561a1.781 1.781 0 013.562 0v1.007zm1.45 4.68H4.769a2.007 2.007 0 01-1.49-.668.415.415 0 01.15-.237 7.259 7.259 0 012.498-1.254 3.21 3.21 0 004.144.002c.907.25 1.756.676 2.5 1.252.076.06.129.143.15.237a2.007 2.007 0 01-1.49.668z\"></path></svg></span><span class=\"display--inline__09f24__c6N_k padding-l0-5__09f24__tBn3z border-color--default__09f24__NPAKY\"><span class=\"css-1fnccdf\" data-font-weight=\"semibold\">0</span></span></div><div aria-label=\"Reviews\" class=\"display--inline-block__09f24__fEDiJ margin-r1__09f24__rN_ga border-color--default__09f24__NPAKY\"><span alt=\"\" aria-hidden=\"true\" class=\"icon--16-review-v2 css-1nrzw89\" role=\"img\"><svg class=\"icon_svg\" height=\"16\" width=\"16\"><path d=\"M11.231 14.75H4.769a3.524 3.524 0 01-3.519-3.52V4.77a3.523 3.523 0 013.519-3.52h6.462a3.523 3.523 0 013.519 3.52v6.46a3.523 3.523 0 01-3.519 3.52zm-6.462-12A2.022 2.022 0 002.75 4.77v6.46a2.022 2.022 0 002.019 2.02h6.462a2.022 2.022 0 002.019-2.02V4.77a2.022 2.022 0 00-2.019-2.02H4.769z\"></path><path d=\"M11.226 7.229a.5.5 0 00-.404-.341l-1.64-.239-.734-1.486a.522.522 0 00-.896 0L6.818 6.65l-1.64.239a.5.5 0 00-.277.853l1.187 1.156-.28 1.633a.5.5 0 00.725.528L8 10.286l1.467.772a.498.498 0 00.725-.528l-.28-1.633L11.1 7.741a.5.5 0 00.127-.512z\"></path></svg></span><span class=\"display--inline__09f24__c6N_k padding-l0-5__09f24__tBn3z border-color--default__09f24__NPAKY\"><span class=\"css-1fnccdf\" data-font-weight=\"semibold\">12</span></span></div><div aria-label=\"Photos\" class=\"display--inline-block__09f24__fEDiJ margin-r1__09f24__rN_ga border-color--default__09f24__NPAKY\"><span alt=\"\" aria-hidden=\"true\" class=\"icon--16-photos-v2 css-1nrzw89\" role=\"img\"><svg class=\"icon_svg\" height=\"16\" width=\"16\"><path d=\"M5.076 6.674a1.5 1.5 0 100-3 1.5 1.5 0 000 3z\"></path><path d=\"M11.231 1.25H4.769A3.523 3.523 0 001.25 4.77v6.46c.002.441.087.878.252 1.287l-.003.003.005.005a3.519 3.519 0 003.265 2.225h6.462a3.524 3.524 0 003.519-3.52V4.77a3.523 3.523 0 00-3.519-3.52zM2.75 11.23V4.77a2.022 2.022 0 012.019-2.02h6.462a2.022 2.022 0 012.019 2.02v4.096l-1.363-1.08a4.097 4.097 0 00-5.3.163l-3.822 3.433c-.004-.05-.015-.1-.015-.152zm8.481 2.02H4.769a2 2 0 01-1.298-.486l4.118-3.7a2.6 2.6 0 013.365-.103l2.296 1.82v.45a2.022 2.022 0 01-2.019 2.019z\"></path></svg></span><span class=\"display--inline__09f24__c6N_k padding-l0-5__09f24__tBn3z border-color--default__09f24__NPAKY\"><span class=\"css-1fnccdf\" data-font-weight=\"semibold\">6</span></span></div></div></div></div></div></div></div></div><div class=\"arrange-unit__09f24__rqHTg border-color--default__09f24__NPAKY\"><div class=\"inline__09f24__zZaGy\"><div class=\"\" role=\"presentation\"><div><div class=\"menu-popover-container__09f24__JN_XM display--inline-block__09f24__fEDiJ border-color--default__09f24__NPAKY\"><button aria-expanded=\"false\" aria-haspopup=\"true\" aria-label=\"Menu\" class=\"css-1food7o\" data-activated=\"false\" data-button=\"true\" type=\"submit\" value=\"submit\"><span class=\"css-1enow5j\" data-font-weight=\"semibold\"><span alt=\"\" aria-hidden=\"true\" class=\"icon--24-more-v2 css-ije6j5\" role=\"img\"><svg class=\"icon_svg\" height=\"24\" width=\"24\"><path d=\"M12 13.5a1.5 1.5 0 100-3 1.5 1.5 0 000 3zm8 0a1.5 1.5 0 100-3 1.5 1.5 0 000 3zm-16 0a1.5 1.5 0 100-3 1.5 1.5 0 000 3z\"></path></svg></span></span></button></div></div></div></div></div></div></div><div class=\"margin-t1__09f24__w96jn margin-b1-5__09f24__NHcQi border-color--default__09f24__NPAKY\"><div class=\"arrange__09f24__LDfbs gutter-1__09f24__yAbCL vertical-align-middle__09f24__zU9sE border-color--default__09f24__NPAKY\"><div class=\"arrange-unit__09f24__rqHTg border-color--default__09f24__NPAKY\"><span class=\"display--inline__09f24__c6N_k border-color--default__09f24__NPAKY\"><div aria-label=\"5 star rating\" class=\"five-stars__09f24__mBKym five-stars--regular__09f24__DgBNj display--inline-block__09f24__fEDiJ border-color--default__09f24__NPAKY\" role=\"img\"><div class=\"star__09f24__YoVH5 star--regular__09f24__IopbI display--inline-block__09f24__fEDiJ border-color--default__09f24__NPAKY\"><svg height=\"20\" viewbox=\"0 0 20 20\" width=\"20\"><path d=\"M0 4C0 1.79086 1.79086 0 4 0H10V20H4C1.79086 20 0 18.2091 0 16V4Z\" fill=\"rgba(251,67,60,1)\" opacity=\"1\"></path><path d=\"M20 4C20 1.79086 18.2091 0 16 0H10V20H16C18.2091 20 20 18.2091 20 16V4Z\" fill=\"rgba(251,67,60,1)\" opacity=\"1\"></path><path clip-rule=\"evenodd\" d=\"M10 13.3736L12.5949 14.7111C12.7378 14.7848 12.9006 14.8106 13.0593 14.7847C13.4681 14.718 13.7454 14.3325 13.6787 13.9237L13.2085 11.0425L15.2824 8.98796C15.3967 8.8748 15.4715 8.72792 15.4959 8.569C15.5588 8.15958 15.2779 7.77672 14.8685 7.71384L11.983 7.2707L10.6699 4.66338C10.5975 4.51978 10.481 4.40322 10.3374 4.33089C9.96742 4.14458 9.51648 4.29344 9.33017 4.66338L8.01705 7.2707L5.13157 7.71384C4.97265 7.73825 4.82577 7.81309 4.71261 7.92731C4.42109 8.22158 4.42332 8.69645 4.71759 8.98796L6.79152 11.0425L6.32131 13.9237C6.29541 14.0824 6.3212 14.2452 6.39486 14.3881C6.58464 14.7563 7.03696 14.9009 7.40514 14.7111L10 13.3736Z\" fill=\"white\" fill-rule=\"evenodd\"></path></svg></div><div class=\"star__09f24__YoVH5 star--regular__09f24__IopbI display--inline-block__09f24__fEDiJ border-color--default__09f24__NPAKY\"><svg height=\"20\" viewbox=\"0 0 20 20\" width=\"20\"><path d=\"M0 4C0 1.79086 1.79086 0 4 0H10V20H4C1.79086 20 0 18.2091 0 16V4Z\" fill=\"rgba(251,67,60,1)\" opacity=\"1\"></path><path d=\"M20 4C20 1.79086 18.2091 0 16 0H10V20H16C18.2091 20 20 18.2091 20 16V4Z\" fill=\"rgba(251,67,60,1)\" opacity=\"1\"></path><path clip-rule=\"evenodd\" d=\"M10 13.3736L12.5949 14.7111C12.7378 14.7848 12.9006 14.8106 13.0593 14.7847C13.4681 14.718 13.7454 14.3325 13.6787 13.9237L13.2085 11.0425L15.2824 8.98796C15.3967 8.8748 15.4715 8.72792 15.4959 8.569C15.5588 8.15958 15.2779 7.77672 14.8685 7.71384L11.983 7.2707L10.6699 4.66338C10.5975 4.51978 10.481 4.40322 10.3374 4.33089C9.96742 4.14458 9.51648 4.29344 9.33017 4.66338L8.01705 7.2707L5.13157 7.71384C4.97265 7.73825 4.82577 7.81309 4.71261 7.92731C4.42109 8.22158 4.42332 8.69645 4.71759 8.98796L6.79152 11.0425L6.32131 13.9237C6.29541 14.0824 6.3212 14.2452 6.39486 14.3881C6.58464 14.7563 7.03696 14.9009 7.40514 14.7111L10 13.3736Z\" fill=\"white\" fill-rule=\"evenodd\"></path></svg></div><div class=\"star__09f24__YoVH5 star--regular__09f24__IopbI display--inline-block__09f24__fEDiJ border-color--default__09f24__NPAKY\"><svg height=\"20\" viewbox=\"0 0 20 20\" width=\"20\"><path d=\"M0 4C0 1.79086 1.79086 0 4 0H10V20H4C1.79086 20 0 18.2091 0 16V4Z\" fill=\"rgba(251,67,60,1)\" opacity=\"1\"></path><path d=\"M20 4C20 1.79086 18.2091 0 16 0H10V20H16C18.2091 20 20 18.2091 20 16V4Z\" fill=\"rgba(251,67,60,1)\" opacity=\"1\"></path><path clip-rule=\"evenodd\" d=\"M10 13.3736L12.5949 14.7111C12.7378 14.7848 12.9006 14.8106 13.0593 14.7847C13.4681 14.718 13.7454 14.3325 13.6787 13.9237L13.2085 11.0425L15.2824 8.98796C15.3967 8.8748 15.4715 8.72792 15.4959 8.569C15.5588 8.15958 15.2779 7.77672 14.8685 7.71384L11.983 7.2707L10.6699 4.66338C10.5975 4.51978 10.481 4.40322 10.3374 4.33089C9.96742 4.14458 9.51648 4.29344 9.33017 4.66338L8.01705 7.2707L5.13157 7.71384C4.97265 7.73825 4.82577 7.81309 4.71261 7.92731C4.42109 8.22158 4.42332 8.69645 4.71759 8.98796L6.79152 11.0425L6.32131 13.9237C6.29541 14.0824 6.3212 14.2452 6.39486 14.3881C6.58464 14.7563 7.03696 14.9009 7.40514 14.7111L10 13.3736Z\" fill=\"white\" fill-rule=\"evenodd\"></path></svg></div><div class=\"star__09f24__YoVH5 star--regular__09f24__IopbI display--inline-block__09f24__fEDiJ border-color--default__09f24__NPAKY\"><svg height=\"20\" viewbox=\"0 0 20 20\" width=\"20\"><path d=\"M0 4C0 1.79086 1.79086 0 4 0H10V20H4C1.79086 20 0 18.2091 0 16V4Z\" fill=\"rgba(251,67,60,1)\" opacity=\"1\"></path><path d=\"M20 4C20 1.79086 18.2091 0 16 0H10V20H16C18.2091 20 20 18.2091 20 16V4Z\" fill=\"rgba(251,67,60,1)\" opacity=\"1\"></path><path clip-rule=\"evenodd\" d=\"M10 13.3736L12.5949 14.7111C12.7378 14.7848 12.9006 14.8106 13.0593 14.7847C13.4681 14.718 13.7454 14.3325 13.6787 13.9237L13.2085 11.0425L15.2824 8.98796C15.3967 8.8748 15.4715 8.72792 15.4959 8.569C15.5588 8.15958 15.2779 7.77672 14.8685 7.71384L11.983 7.2707L10.6699 4.66338C10.5975 4.51978 10.481 4.40322 10.3374 4.33089C9.96742 4.14458 9.51648 4.29344 9.33017 4.66338L8.01705 7.2707L5.13157 7.71384C4.97265 7.73825 4.82577 7.81309 4.71261 7.92731C4.42109 8.22158 4.42332 8.69645 4.71759 8.98796L6.79152 11.0425L6.32131 13.9237C6.29541 14.0824 6.3212 14.2452 6.39486 14.3881C6.58464 14.7563 7.03696 14.9009 7.40514 14.7111L10 13.3736Z\" fill=\"white\" fill-rule=\"evenodd\"></path></svg></div><div class=\"star__09f24__YoVH5 star--5__09f24__Ux2S1 star--regular__09f24__IopbI display--inline-block__09f24__fEDiJ border-color--default__09f24__NPAKY\"><svg height=\"20\" viewbox=\"0 0 20 20\" width=\"20\"><path d=\"M0 4C0 1.79086 1.79086 0 4 0H10V20H4C1.79086 20 0 18.2091 0 16V4Z\" fill=\"rgba(251,67,60,1)\" opacity=\"1\"></path><path d=\"M20 4C20 1.79086 18.2091 0 16 0H10V20H16C18.2091 20 20 18.2091 20 16V4Z\" fill=\"rgba(251,67,60,1)\" opacity=\"1\"></path><path clip-rule=\"evenodd\" d=\"M10 13.3736L12.5949 14.7111C12.7378 14.7848 12.9006 14.8106 13.0593 14.7847C13.4681 14.718 13.7454 14.3325 13.6787 13.9237L13.2085 11.0425L15.2824 8.98796C15.3967 8.8748 15.4715 8.72792 15.4959 8.569C15.5588 8.15958 15.2779 7.77672 14.8685 7.71384L11.983 7.2707L10.6699 4.66338C10.5975 4.51978 10.481 4.40322 10.3374 4.33089C9.96742 4.14458 9.51648 4.29344 9.33017 4.66338L8.01705 7.2707L5.13157 7.71384C4.97265 7.73825 4.82577 7.81309 4.71261 7.92731C4.42109 8.22158 4.42332 8.69645 4.71759 8.98796L6.79152 11.0425L6.32131 13.9237C6.29541 14.0824 6.3212 14.2452 6.39486 14.3881C6.58464 14.7563 7.03696 14.9009 7.40514 14.7111L10 13.3736Z\" fill=\"white\" fill-rule=\"evenodd\"></path></svg></div></div></span></div><div class=\"arrange-unit__09f24__rqHTg arrange-unit-fill__09f24__CUubG border-color--default__09f24__NPAKY\"><span class=\"css-chan6m\">26/11/2022</span></div></div></div><div class=\"margin-b2__09f24__CEMjT border-color--default__09f24__NPAKY\"><div class=\"display--inline-block__09f24__fEDiJ margin-r2__09f24__XL72f margin-b0-5__09f24__BgShQ border-color--default__09f24__NPAKY\"><div class=\"display--inline-block__09f24__fEDiJ margin-r0-5__09f24___nKcQ border-color--default__09f24__NPAKY\"><span alt=\"\" aria-hidden=\"true\" class=\"icon--16-camera-v2 css-6a0jil\" role=\"img\"><svg class=\"icon_svg\" height=\"16\" width=\"16\"><path d=\"M3.06 14.76a2.086 2.086 0 01-2.084-2.083V5.344A2.091 2.091 0 013.06 3.25h1.393l.496-1.487a.75.75 0 01.711-.513h4.334a.75.75 0 01.711.513l.496 1.487h1.74a2.086 2.086 0 012.083 2.083v7.334a2.086 2.086 0 01-2.084 2.083l-9.88.01zm0-10.01a.59.59 0 00-.584.594v7.333a.584.584 0 00.584.584l9.88-.011a.584.584 0 00.584-.583V5.333a.584.584 0 00-.584-.583h-2.28a.75.75 0 01-.711-.513L9.453 2.75H6.201l-.496 1.487a.75.75 0 01-.711.513H3.06z\"></path><path d=\"M8 12.556a3.75 3.75 0 110-7.501 3.75 3.75 0 010 7.5zm0-6a2.25 2.25 0 100 4.5 2.25 2.25 0 000-4.5z\"></path></svg></span></div><span class=\"css-1oibaro\" data-font-weight=\"semibold\"><a class=\"css-1m051bw\" href=\"/biz_photos/dishoom-london?userid=_o59bKVoTxXGkpV8QTkooQ\">1 photo</a></span></div></div><div class=\"margin-b2__09f24__CEMjT border-color--default__09f24__NPAKY\"><p class=\"comment__09f24__gu0rG css-qgunke\"><span class=\"raw__09f24__T4Ezm\" lang=\"en\">The best Indian food in London!<br/>This is my 3rd visit to London and Dishoom, the quality of food hasn't changed and it's still the best Indian food in town</span></p></div><div class=\"margin-t3__09f24__riq4X margin-b2__09f24__CEMjT border-color--default__09f24__NPAKY\"><div class=\"arrange__09f24__LDfbs gutter-2__09f24__CCmUo layout-wrap__09f24__GEBlv margin-b1__09f24__vaLrm border-color--default__09f24__NPAKY\"><div class=\"arrange-unit__09f24__rqHTg border-color--default__09f24__NPAKY\"><div class=\"photo-container-large__09f24__fUgaj border-color--default__09f24__NPAKY\"><div class=\"css-1u04129 border-color--default__09f24__NPAKY\"><a class=\"css-8dlaw4\" href=\"/biz_photos/dishoom-london?reviewid=0OSeUC7wRUtNZy70IGA8_w&amp;select=9Y9xFQSIxjWrIFihEcMZMw\" target=\"_self\"><img alt=\"Photo of Dishoom - London, United Kingdom\" class=\"css-xlzvdl\" draggable=\"true\" height=\"300\" loading=\"lazy\" src=\"https://s3-media0.fl.yelpcdn.com/bphoto/9Y9xFQSIxjWrIFihEcMZMw/300s.jpg\" width=\"300\"/></a></div></div></div></div></div><div class=\"arrange__09f24__LDfbs vertical-align-middle__09f24__zU9sE border-color--default__09f24__NPAKY\"><div class=\"arrange-unit__09f24__rqHTg arrange-unit-fill__09f24__CUubG border-color--default__09f24__NPAKY\"><span class=\"display--inline__09f24__c6N_k margin-r1-5__09f24__ot4bd border-color--default__09f24__NPAKY\"><button class=\"button__09f24__x2pTP css-15ai72i\" data-activated=\"false\" data-button=\"true\" type=\"submit\" value=\"submit\"><span class=\"css-inq9gi\" data-font-weight=\"semibold\"><div class=\"arrange__09f24__LDfbs gutter-0-5__09f24__PjGWv vertical-align-middle__09f24__zU9sE border-color--default__09f24__NPAKY\"><div class=\"arrange-unit__09f24__rqHTg border-color--default__09f24__NPAKY\"><span alt=\"\" aria-hidden=\"true\" class=\"icon--16-useful-v2 css-1c2abjj\" role=\"img\"><svg class=\"icon_svg\" height=\"16\" width=\"16\"><path d=\"M8 14.75A6.75 6.75 0 1114.75 8 6.758 6.758 0 018 14.75zm0-12A5.25 5.25 0 1013.25 8 5.256 5.256 0 008 2.75z\"></path><path d=\"M11.25 7.2a3.25 3.25 0 10-5 2.73v.87a1.251 1.251 0 001.25 1.25h1a1.251 1.251 0 001.25-1.25v-.87a3.243 3.243 0 001.5-2.73zM8 8.95a1.75 1.75 0 110-3.5 1.75 1.75 0 010 3.5z\"></path></svg></span></div><div class=\"arrange-unit__09f24__rqHTg arrange-unit-fill__09f24__CUubG border-color--default__09f24__NPAKY\"><span class=\"display--inline__09f24__c6N_k border-color--default__09f24__NPAKY\"><span class=\"css-12i50in\">Useful<span class=\"css-1lr1m88\" data-font-weight=\"bold\"> <!-- -->1</span></span></span></div></div></span></button></span><span class=\"display--inline__09f24__c6N_k margin-r1-5__09f24__ot4bd border-color--default__09f24__NPAKY\"><button class=\"button__09f24__x2pTP css-15ai72i\" data-activated=\"false\" data-button=\"true\" type=\"submit\" value=\"submit\"><span class=\"css-inq9gi\" data-font-weight=\"semibold\"><div class=\"arrange__09f24__LDfbs gutter-0-5__09f24__PjGWv vertical-align-middle__09f24__zU9sE border-color--default__09f24__NPAKY\"><div class=\"arrange-unit__09f24__rqHTg border-color--default__09f24__NPAKY\"><span alt=\"\" aria-hidden=\"true\" class=\"icon--16-funny-v2 css-1c2abjj\" role=\"img\"><svg class=\"icon_svg\" height=\"16\" width=\"16\"><path d=\"M8 14.75A6.75 6.75 0 1114.75 8 6.758 6.758 0 018 14.75zm0-12A5.25 5.25 0 1013.25 8 5.256 5.256 0 008 2.75zm.706 4.65a1.1 1.1 0 112.2 0m-5.812 0a1.1 1.1 0 112.2 0\"></path><path d=\"M4.572 9a.151.151 0 00-.147.176 3.62 3.62 0 007.15 0A.151.151 0 0011.428 9H4.572z\"></path></svg></span></div><div class=\"arrange-unit__09f24__rqHTg arrange-unit-fill__09f24__CUubG border-color--default__09f24__NPAKY\"><span class=\"display--inline__09f24__c6N_k border-color--default__09f24__NPAKY\"><span class=\"css-12i50in\">Funny</span></span></div></div></span></button></span><span class=\"display--inline__09f24__c6N_k margin-r1-5__09f24__ot4bd border-color--default__09f24__NPAKY\"><button class=\"button__09f24__x2pTP css-15ai72i\" data-activated=\"false\" data-button=\"true\" type=\"submit\" value=\"submit\"><span class=\"css-inq9gi\" data-font-weight=\"semibold\"><div class=\"arrange__09f24__LDfbs gutter-0-5__09f24__PjGWv vertical-align-middle__09f24__zU9sE border-color--default__09f24__NPAKY\"><div class=\"arrange-unit__09f24__rqHTg border-color--default__09f24__NPAKY\"><span alt=\"\" aria-hidden=\"true\" class=\"icon--16-cool-v2 css-1c2abjj\" role=\"img\"><svg class=\"icon_svg\" height=\"16\" width=\"16\"><path d=\"M8 14.75A6.75 6.75 0 1114.75 8 6.758 6.758 0 018 14.75zm0-12A5.25 5.25 0 1013.25 8 5.256 5.256 0 008 2.75z\"></path><path d=\"M3.513 6.98l.506 1.518a1.772 1.772 0 003.363 0l.17-.51a.473.473 0 01.896 0l.17.51a1.772 1.772 0 003.363 0l.506-1.518a.256.256 0 00-.243-.336H3.756a.255.255 0 00-.243.336zm1.907 3.369a.149.149 0 00-.157.234A3.432 3.432 0 008 12.035a3.431 3.431 0 002.737-1.452.148.148 0 00-.158-.234 9.75 9.75 0 01-5.158 0z\"></path></svg></span></div><div class=\"arrange-unit__09f24__rqHTg arrange-unit-fill__09f24__CUubG border-color--default__09f24__NPAKY\"><span class=\"display--inline__09f24__c6N_k border-color--default__09f24__NPAKY\"><span class=\"css-12i50in\">Cool</span></span></div></div></span></button></span></div></div></div>"
      ]
     },
     "execution_count": 132,
     "metadata": {},
     "output_type": "execute_result"
    }
   ],
   "source": [
    "z = soup.find_all(\"div\", class_=\"review__09f24__oHr9V border-color--default__09f24__NPAKY\")\n",
    "z[4]\n",
    "#within here after \"<span class=\"raw__09f24__T4Ezm\" lang=\"en\">\" is the review"
   ]
  },
  {
   "cell_type": "code",
   "execution_count": null,
   "id": "f077a61a",
   "metadata": {},
   "outputs": [],
   "source": []
  }
 ],
 "metadata": {
  "kernelspec": {
   "display_name": "Python 3 (ipykernel)",
   "language": "python",
   "name": "python3"
  },
  "language_info": {
   "codemirror_mode": {
    "name": "ipython",
    "version": 3
   },
   "file_extension": ".py",
   "mimetype": "text/x-python",
   "name": "python",
   "nbconvert_exporter": "python",
   "pygments_lexer": "ipython3",
   "version": "3.10.6"
  },
  "toc": {
   "base_numbering": 1,
   "nav_menu": {},
   "number_sections": true,
   "sideBar": true,
   "skip_h1_title": false,
   "title_cell": "Table of Contents",
   "title_sidebar": "Contents",
   "toc_cell": false,
   "toc_position": {},
   "toc_section_display": true,
   "toc_window_display": false
  }
 },
 "nbformat": 4,
 "nbformat_minor": 5
}
