{
 "cells": [
  {
   "cell_type": "code",
   "execution_count": 182,
   "id": "6c5ea8e1",
   "metadata": {},
   "outputs": [],
   "source": [
    "import pandas as pd\n",
    "import os\n",
    "import numpy as np\n",
    "from wordcloud import WordCloud\n",
    "from nltk.corpus import stopwords\n",
    "import matplotlib.pyplot as plt"
   ]
  },
  {
   "cell_type": "code",
   "execution_count": 183,
   "id": "4e435519",
   "metadata": {},
   "outputs": [],
   "source": [
    "df = pd.read_csv('/Users/marikhomeriki/code/marikhomeriki/raw_data/train.csv', header = None)\n",
    "# df_test = pd.read_csv('/Users/marikhomeriki/code/marikhomeriki/product_review_analysis/raw_data/test_data/test.csv', header=None)\n",
    "# df_test = df.rename({0: 'label', 1: 'text'}, axis = 1)\n",
    "df = df.rename({0: 'label', 1: 'text'}, axis = 1)"
   ]
  },
  {
   "cell_type": "code",
   "execution_count": 184,
   "id": "b6bead00",
   "metadata": {},
   "outputs": [],
   "source": [
    "df = df.dropna()"
   ]
  },
  {
   "cell_type": "code",
   "execution_count": 185,
   "id": "8bf4bf76",
   "metadata": {},
   "outputs": [],
   "source": [
    "from nltk.corpus import stopwords \n",
    "import string\n",
    "from nltk.stem.wordnet import WordNetLemmatizer\n",
    "from nltk import word_tokenize \n",
    "\n",
    "def clean (text):\n",
    "    for punctuation in string.punctuation:\n",
    "        text = text.replace(punctuation, ' ') # Remove Punctuation\n",
    "    lowercased = text.lower() # Lower Case\n",
    "    tokenized = word_tokenize(lowercased) # Tokenize\n",
    "    words_only = [word for word in tokenized if word.isalpha()] # Remove numbers\n",
    "    stop_words = set(stopwords.words('english')) # Make stopword list\n",
    "    without_stopwords = [word for word in words_only if not word in stop_words] # Remove Stop Words\n",
    "    lemma=WordNetLemmatizer() # Initiate Lemmatizer\n",
    "    lemmatized = [lemma.lemmatize(word) for word in without_stopwords] # Lemmatize\n",
    "    return lemmatized"
   ]
  },
  {
   "cell_type": "code",
   "execution_count": 186,
   "id": "f8a8e322",
   "metadata": {},
   "outputs": [
    {
     "data": {
      "text/html": [
       "<div>\n",
       "<style scoped>\n",
       "    .dataframe tbody tr th:only-of-type {\n",
       "        vertical-align: middle;\n",
       "    }\n",
       "\n",
       "    .dataframe tbody tr th {\n",
       "        vertical-align: top;\n",
       "    }\n",
       "\n",
       "    .dataframe thead th {\n",
       "        text-align: right;\n",
       "    }\n",
       "</style>\n",
       "<table border=\"1\" class=\"dataframe\">\n",
       "  <thead>\n",
       "    <tr style=\"text-align: right;\">\n",
       "      <th></th>\n",
       "      <th>label</th>\n",
       "      <th>text</th>\n",
       "    </tr>\n",
       "  </thead>\n",
       "  <tbody>\n",
       "    <tr>\n",
       "      <th>0</th>\n",
       "      <td>1</td>\n",
       "      <td>Unfortunately, the frustration of being Dr. Go...</td>\n",
       "    </tr>\n",
       "    <tr>\n",
       "      <th>1</th>\n",
       "      <td>2</td>\n",
       "      <td>Been going to Dr. Goldberg for over 10 years. ...</td>\n",
       "    </tr>\n",
       "    <tr>\n",
       "      <th>2</th>\n",
       "      <td>1</td>\n",
       "      <td>I don't know what Dr. Goldberg was like before...</td>\n",
       "    </tr>\n",
       "    <tr>\n",
       "      <th>3</th>\n",
       "      <td>1</td>\n",
       "      <td>I'm writing this review to give you a heads up...</td>\n",
       "    </tr>\n",
       "    <tr>\n",
       "      <th>4</th>\n",
       "      <td>2</td>\n",
       "      <td>All the food is great here. But the best thing...</td>\n",
       "    </tr>\n",
       "    <tr>\n",
       "      <th>...</th>\n",
       "      <td>...</td>\n",
       "      <td>...</td>\n",
       "    </tr>\n",
       "    <tr>\n",
       "      <th>559995</th>\n",
       "      <td>2</td>\n",
       "      <td>Ryan was as good as everyone on yelp has claim...</td>\n",
       "    </tr>\n",
       "    <tr>\n",
       "      <th>559996</th>\n",
       "      <td>2</td>\n",
       "      <td>Professional \\nFriendly\\nOn time AND affordabl...</td>\n",
       "    </tr>\n",
       "    <tr>\n",
       "      <th>559997</th>\n",
       "      <td>1</td>\n",
       "      <td>Phone calls always go to voicemail and message...</td>\n",
       "    </tr>\n",
       "    <tr>\n",
       "      <th>559998</th>\n",
       "      <td>1</td>\n",
       "      <td>Looks like all of the good reviews have gone t...</td>\n",
       "    </tr>\n",
       "    <tr>\n",
       "      <th>559999</th>\n",
       "      <td>2</td>\n",
       "      <td>Ryan Rocks! I called him this morning for some...</td>\n",
       "    </tr>\n",
       "  </tbody>\n",
       "</table>\n",
       "<p>560000 rows × 2 columns</p>\n",
       "</div>"
      ],
      "text/plain": [
       "        label                                               text\n",
       "0           1  Unfortunately, the frustration of being Dr. Go...\n",
       "1           2  Been going to Dr. Goldberg for over 10 years. ...\n",
       "2           1  I don't know what Dr. Goldberg was like before...\n",
       "3           1  I'm writing this review to give you a heads up...\n",
       "4           2  All the food is great here. But the best thing...\n",
       "...       ...                                                ...\n",
       "559995      2  Ryan was as good as everyone on yelp has claim...\n",
       "559996      2  Professional \\nFriendly\\nOn time AND affordabl...\n",
       "559997      1  Phone calls always go to voicemail and message...\n",
       "559998      1  Looks like all of the good reviews have gone t...\n",
       "559999      2  Ryan Rocks! I called him this morning for some...\n",
       "\n",
       "[560000 rows x 2 columns]"
      ]
     },
     "execution_count": 186,
     "metadata": {},
     "output_type": "execute_result"
    }
   ],
   "source": [
    "df"
   ]
  },
  {
   "cell_type": "code",
   "execution_count": 187,
   "id": "9fbe6539",
   "metadata": {},
   "outputs": [],
   "source": [
    "df_text = df.text"
   ]
  },
  {
   "cell_type": "code",
   "execution_count": 188,
   "id": "e0851ad5",
   "metadata": {},
   "outputs": [],
   "source": [
    "df_text = pd.DataFrame(df_text)"
   ]
  },
  {
   "cell_type": "code",
   "execution_count": 189,
   "id": "04095137",
   "metadata": {},
   "outputs": [
    {
     "data": {
      "text/html": [
       "<div>\n",
       "<style scoped>\n",
       "    .dataframe tbody tr th:only-of-type {\n",
       "        vertical-align: middle;\n",
       "    }\n",
       "\n",
       "    .dataframe tbody tr th {\n",
       "        vertical-align: top;\n",
       "    }\n",
       "\n",
       "    .dataframe thead th {\n",
       "        text-align: right;\n",
       "    }\n",
       "</style>\n",
       "<table border=\"1\" class=\"dataframe\">\n",
       "  <thead>\n",
       "    <tr style=\"text-align: right;\">\n",
       "      <th></th>\n",
       "      <th>text</th>\n",
       "    </tr>\n",
       "  </thead>\n",
       "  <tbody>\n",
       "    <tr>\n",
       "      <th>0</th>\n",
       "      <td>Unfortunately, the frustration of being Dr. Go...</td>\n",
       "    </tr>\n",
       "    <tr>\n",
       "      <th>1</th>\n",
       "      <td>Been going to Dr. Goldberg for over 10 years. ...</td>\n",
       "    </tr>\n",
       "    <tr>\n",
       "      <th>2</th>\n",
       "      <td>I don't know what Dr. Goldberg was like before...</td>\n",
       "    </tr>\n",
       "    <tr>\n",
       "      <th>3</th>\n",
       "      <td>I'm writing this review to give you a heads up...</td>\n",
       "    </tr>\n",
       "    <tr>\n",
       "      <th>4</th>\n",
       "      <td>All the food is great here. But the best thing...</td>\n",
       "    </tr>\n",
       "    <tr>\n",
       "      <th>...</th>\n",
       "      <td>...</td>\n",
       "    </tr>\n",
       "    <tr>\n",
       "      <th>559995</th>\n",
       "      <td>Ryan was as good as everyone on yelp has claim...</td>\n",
       "    </tr>\n",
       "    <tr>\n",
       "      <th>559996</th>\n",
       "      <td>Professional \\nFriendly\\nOn time AND affordabl...</td>\n",
       "    </tr>\n",
       "    <tr>\n",
       "      <th>559997</th>\n",
       "      <td>Phone calls always go to voicemail and message...</td>\n",
       "    </tr>\n",
       "    <tr>\n",
       "      <th>559998</th>\n",
       "      <td>Looks like all of the good reviews have gone t...</td>\n",
       "    </tr>\n",
       "    <tr>\n",
       "      <th>559999</th>\n",
       "      <td>Ryan Rocks! I called him this morning for some...</td>\n",
       "    </tr>\n",
       "  </tbody>\n",
       "</table>\n",
       "<p>560000 rows × 1 columns</p>\n",
       "</div>"
      ],
      "text/plain": [
       "                                                     text\n",
       "0       Unfortunately, the frustration of being Dr. Go...\n",
       "1       Been going to Dr. Goldberg for over 10 years. ...\n",
       "2       I don't know what Dr. Goldberg was like before...\n",
       "3       I'm writing this review to give you a heads up...\n",
       "4       All the food is great here. But the best thing...\n",
       "...                                                   ...\n",
       "559995  Ryan was as good as everyone on yelp has claim...\n",
       "559996  Professional \\nFriendly\\nOn time AND affordabl...\n",
       "559997  Phone calls always go to voicemail and message...\n",
       "559998  Looks like all of the good reviews have gone t...\n",
       "559999  Ryan Rocks! I called him this morning for some...\n",
       "\n",
       "[560000 rows x 1 columns]"
      ]
     },
     "execution_count": 189,
     "metadata": {},
     "output_type": "execute_result"
    }
   ],
   "source": [
    "df_text"
   ]
  },
  {
   "cell_type": "code",
   "execution_count": 190,
   "id": "cd2a7a98",
   "metadata": {},
   "outputs": [],
   "source": [
    "df_text['clean_text'] = df_text.text.apply(clean)\n",
    "df_text['clean_text'] = df_text['clean_text'].astype('str')"
   ]
  },
  {
   "cell_type": "code",
   "execution_count": 191,
   "id": "37b8c836",
   "metadata": {},
   "outputs": [
    {
     "data": {
      "text/html": [
       "<div>\n",
       "<style scoped>\n",
       "    .dataframe tbody tr th:only-of-type {\n",
       "        vertical-align: middle;\n",
       "    }\n",
       "\n",
       "    .dataframe tbody tr th {\n",
       "        vertical-align: top;\n",
       "    }\n",
       "\n",
       "    .dataframe thead th {\n",
       "        text-align: right;\n",
       "    }\n",
       "</style>\n",
       "<table border=\"1\" class=\"dataframe\">\n",
       "  <thead>\n",
       "    <tr style=\"text-align: right;\">\n",
       "      <th></th>\n",
       "      <th>text</th>\n",
       "      <th>clean_text</th>\n",
       "    </tr>\n",
       "  </thead>\n",
       "  <tbody>\n",
       "    <tr>\n",
       "      <th>0</th>\n",
       "      <td>Unfortunately, the frustration of being Dr. Go...</td>\n",
       "      <td>['unfortunately', 'frustration', 'dr', 'goldbe...</td>\n",
       "    </tr>\n",
       "    <tr>\n",
       "      <th>1</th>\n",
       "      <td>Been going to Dr. Goldberg for over 10 years. ...</td>\n",
       "      <td>['going', 'dr', 'goldberg', 'year', 'think', '...</td>\n",
       "    </tr>\n",
       "    <tr>\n",
       "      <th>2</th>\n",
       "      <td>I don't know what Dr. Goldberg was like before...</td>\n",
       "      <td>['know', 'dr', 'goldberg', 'like', 'moving', '...</td>\n",
       "    </tr>\n",
       "    <tr>\n",
       "      <th>3</th>\n",
       "      <td>I'm writing this review to give you a heads up...</td>\n",
       "      <td>['writing', 'review', 'give', 'head', 'see', '...</td>\n",
       "    </tr>\n",
       "    <tr>\n",
       "      <th>4</th>\n",
       "      <td>All the food is great here. But the best thing...</td>\n",
       "      <td>['food', 'great', 'best', 'thing', 'wing', 'wi...</td>\n",
       "    </tr>\n",
       "    <tr>\n",
       "      <th>...</th>\n",
       "      <td>...</td>\n",
       "      <td>...</td>\n",
       "    </tr>\n",
       "    <tr>\n",
       "      <th>559995</th>\n",
       "      <td>Ryan was as good as everyone on yelp has claim...</td>\n",
       "      <td>['ryan', 'good', 'everyone', 'yelp', 'claimed'...</td>\n",
       "    </tr>\n",
       "    <tr>\n",
       "      <th>559996</th>\n",
       "      <td>Professional \\nFriendly\\nOn time AND affordabl...</td>\n",
       "      <td>['professional', 'nfriendly', 'non', 'time', '...</td>\n",
       "    </tr>\n",
       "    <tr>\n",
       "      <th>559997</th>\n",
       "      <td>Phone calls always go to voicemail and message...</td>\n",
       "      <td>['phone', 'call', 'always', 'go', 'voicemail',...</td>\n",
       "    </tr>\n",
       "    <tr>\n",
       "      <th>559998</th>\n",
       "      <td>Looks like all of the good reviews have gone t...</td>\n",
       "      <td>['look', 'like', 'good', 'review', 'gone', 'he...</td>\n",
       "    </tr>\n",
       "    <tr>\n",
       "      <th>559999</th>\n",
       "      <td>Ryan Rocks! I called him this morning for some...</td>\n",
       "      <td>['ryan', 'rock', 'called', 'morning', 'sprinkl...</td>\n",
       "    </tr>\n",
       "  </tbody>\n",
       "</table>\n",
       "<p>560000 rows × 2 columns</p>\n",
       "</div>"
      ],
      "text/plain": [
       "                                                     text  \\\n",
       "0       Unfortunately, the frustration of being Dr. Go...   \n",
       "1       Been going to Dr. Goldberg for over 10 years. ...   \n",
       "2       I don't know what Dr. Goldberg was like before...   \n",
       "3       I'm writing this review to give you a heads up...   \n",
       "4       All the food is great here. But the best thing...   \n",
       "...                                                   ...   \n",
       "559995  Ryan was as good as everyone on yelp has claim...   \n",
       "559996  Professional \\nFriendly\\nOn time AND affordabl...   \n",
       "559997  Phone calls always go to voicemail and message...   \n",
       "559998  Looks like all of the good reviews have gone t...   \n",
       "559999  Ryan Rocks! I called him this morning for some...   \n",
       "\n",
       "                                               clean_text  \n",
       "0       ['unfortunately', 'frustration', 'dr', 'goldbe...  \n",
       "1       ['going', 'dr', 'goldberg', 'year', 'think', '...  \n",
       "2       ['know', 'dr', 'goldberg', 'like', 'moving', '...  \n",
       "3       ['writing', 'review', 'give', 'head', 'see', '...  \n",
       "4       ['food', 'great', 'best', 'thing', 'wing', 'wi...  \n",
       "...                                                   ...  \n",
       "559995  ['ryan', 'good', 'everyone', 'yelp', 'claimed'...  \n",
       "559996  ['professional', 'nfriendly', 'non', 'time', '...  \n",
       "559997  ['phone', 'call', 'always', 'go', 'voicemail',...  \n",
       "559998  ['look', 'like', 'good', 'review', 'gone', 'he...  \n",
       "559999  ['ryan', 'rock', 'called', 'morning', 'sprinkl...  \n",
       "\n",
       "[560000 rows x 2 columns]"
      ]
     },
     "execution_count": 191,
     "metadata": {},
     "output_type": "execute_result"
    }
   ],
   "source": [
    "df_text"
   ]
  },
  {
   "cell_type": "code",
   "execution_count": 192,
   "id": "cd411451",
   "metadata": {},
   "outputs": [],
   "source": [
    "from sklearn.decomposition import LatentDirichletAllocation\n",
    "from sklearn.feature_extraction.text import CountVectorizer\n",
    "\n",
    "vectorizer = CountVectorizer()\n",
    "\n",
    "data_vectorized = vectorizer.fit_transform(df_text['clean_text'])\n",
    "\n",
    "lda_model = LatentDirichletAllocation(n_components=4)\n",
    "\n",
    "lda_vectors = lda_model.fit_transform(data_vectorized)"
   ]
  },
  {
   "cell_type": "code",
   "execution_count": 193,
   "id": "4a38686f",
   "metadata": {},
   "outputs": [],
   "source": [
    "def print_topics(model, vectorizer):\n",
    "    for idx, topic in enumerate(model.components_):\n",
    "        print(\"Topic %d:\" % (idx))\n",
    "        print([(vectorizer.get_feature_names_out()[i], topic[i])\n",
    "                        for i in topic.argsort()[:-10 - 1:-1]])"
   ]
  },
  {
   "cell_type": "code",
   "execution_count": 194,
   "id": "a5090802",
   "metadata": {},
   "outputs": [],
   "source": [
    "def get_topics(model, vectorizer):\n",
    "    topics = {}\n",
    "    for idx, topic in enumerate(model.components_):\n",
    "        topics[idx] = [(vectorizer.get_feature_names_out()[i], topic[i])\n",
    "                        for i in topic.argsort()[:-10 - 1:-1]]\n",
    "    return topics\n",
    "   "
   ]
  },
  {
   "cell_type": "code",
   "execution_count": 195,
   "id": "496501b0",
   "metadata": {},
   "outputs": [],
   "source": [
    "topic = get_topics(lda_model, vectorizer)"
   ]
  },
  {
   "cell_type": "code",
   "execution_count": 196,
   "id": "ee31b7b4",
   "metadata": {},
   "outputs": [
    {
     "data": {
      "text/plain": [
       "{0: [('time', 121215.28839785181),\n",
       "  ('service', 107646.23306184231),\n",
       "  ('get', 97487.11327635209),\n",
       "  ('would', 96100.72126346477),\n",
       "  ('back', 90840.20841675645),\n",
       "  ('one', 80354.35723940835),\n",
       "  ('said', 72839.60836391435),\n",
       "  ('minute', 72205.27272559225),\n",
       "  ('told', 66229.33770951461),\n",
       "  ('go', 63890.14269810194)],\n",
       " 1: [('food', 190707.10070899353),\n",
       "  ('good', 156255.87646325378),\n",
       "  ('place', 111586.79872632735),\n",
       "  ('like', 101578.89978465888),\n",
       "  ('ordered', 92189.91686153611),\n",
       "  ('restaurant', 88248.47975476096),\n",
       "  ('chicken', 80851.65154949098),\n",
       "  ('one', 71162.09327670265),\n",
       "  ('really', 67046.2365351746),\n",
       "  ('time', 66840.11692431553)],\n",
       " 2: [('room', 93477.56771091431),\n",
       "  ('like', 54323.76451450782),\n",
       "  ('hotel', 54198.78756073477),\n",
       "  ('get', 49724.51501610672),\n",
       "  ('one', 49139.709803195095),\n",
       "  ('time', 44145.57174474518),\n",
       "  ('place', 40033.532738771726),\n",
       "  ('would', 36819.3163671642),\n",
       "  ('store', 34654.67804546),\n",
       "  ('great', 34489.18282284033)],\n",
       " 3: [('place', 144485.50907040824),\n",
       "  ('great', 97142.44583315404),\n",
       "  ('good', 93573.25521186984),\n",
       "  ('food', 87721.66849135954),\n",
       "  ('like', 63786.83011127442),\n",
       "  ('bar', 58384.91510517865),\n",
       "  ('get', 54276.95675547705),\n",
       "  ('go', 53269.798201961756),\n",
       "  ('drink', 49941.927032321684),\n",
       "  ('love', 47981.11458670967)]}"
      ]
     },
     "execution_count": 196,
     "metadata": {},
     "output_type": "execute_result"
    }
   ],
   "source": [
    "topic"
   ]
  },
  {
   "cell_type": "code",
   "execution_count": 197,
   "id": "0ee6eb03",
   "metadata": {},
   "outputs": [
    {
     "name": "stdout",
     "output_type": "stream",
     "text": [
      "Topic 0:\n",
      "[('time', 121215.28839785181), ('service', 107646.23306184231), ('get', 97487.11327635209), ('would', 96100.72126346477), ('back', 90840.20841675645), ('one', 80354.35723940835), ('said', 72839.60836391435), ('minute', 72205.27272559225), ('told', 66229.33770951461), ('go', 63890.14269810194)]\n",
      "Topic 1:\n",
      "[('food', 190707.10070899353), ('good', 156255.87646325378), ('place', 111586.79872632735), ('like', 101578.89978465888), ('ordered', 92189.91686153611), ('restaurant', 88248.47975476096), ('chicken', 80851.65154949098), ('one', 71162.09327670265), ('really', 67046.2365351746), ('time', 66840.11692431553)]\n",
      "Topic 2:\n",
      "[('room', 93477.56771091431), ('like', 54323.76451450782), ('hotel', 54198.78756073477), ('get', 49724.51501610672), ('one', 49139.709803195095), ('time', 44145.57174474518), ('place', 40033.532738771726), ('would', 36819.3163671642), ('store', 34654.67804546), ('great', 34489.18282284033)]\n",
      "Topic 3:\n",
      "[('place', 144485.50907040824), ('great', 97142.44583315404), ('good', 93573.25521186984), ('food', 87721.66849135954), ('like', 63786.83011127442), ('bar', 58384.91510517865), ('get', 54276.95675547705), ('go', 53269.798201961756), ('drink', 49941.927032321684), ('love', 47981.11458670967)]\n"
     ]
    }
   ],
   "source": [
    "print_topics(lda_model, vectorizer)"
   ]
  },
  {
   "cell_type": "code",
   "execution_count": null,
   "id": "657c27cd",
   "metadata": {},
   "outputs": [],
   "source": []
  },
  {
   "cell_type": "code",
   "execution_count": 198,
   "id": "c3852c1a",
   "metadata": {},
   "outputs": [
    {
     "data": {
      "image/png": "[encoded data removed]",
      "text/plain": [
       "<Figure size 2000x1000 with 4 Axes>"
      ]
     },
     "metadata": {},
     "output_type": "display_data"
    }
   ],
   "source": [
    "fig = plt.figure(figsize=(20,10))\n",
    "\n",
    "for key in topic.keys():\n",
    "    plt.subplot(2, 3, key + 1)\n",
    "    words = [tup[0] for tup in topic[key]]\n",
    "    scores = [tup[1] for tup in topic[key]]\n",
    "    plt.barh(words, scores)\n",
    "    plt.title(f\"Topic {key}\")\n",
    "    \n",
    "\n",
    "plt.show()"
   ]
  },
  {
   "cell_type": "code",
   "execution_count": 177,
   "id": "0fefe70c",
   "metadata": {},
   "outputs": [
    {
     "data": {
      "text/plain": [
       "{0: [('food', 340.6760917628495),\n",
       "  ('chicken', 231.0691350549607),\n",
       "  ('indian', 208.02885538449584),\n",
       "  ('wait', 190.73424156910218),\n",
       "  ('naan', 182.3301188907647),\n",
       "  ('line', 171.30190095420372),\n",
       "  ('london', 170.90063253440087),\n",
       "  ('time', 139.66541897572702),\n",
       "  ('dishoom', 138.1600507420893),\n",
       "  ('restaurant', 137.75557494082238)],\n",
       " 1: [('chicken', 67.60532649721733),\n",
       "  ('dish', 62.41683760297641),\n",
       "  ('food', 53.22250271115066),\n",
       "  ('naan', 46.423223141154956),\n",
       "  ('dishoom', 43.39247701071862),\n",
       "  ('good', 41.528068213495125),\n",
       "  ('ruby', 37.80566783335858),\n",
       "  ('great', 34.65708665258963),\n",
       "  ('indian', 32.57243245472354),\n",
       "  ('london', 31.888070385442106)],\n",
       " 2: [('food', 152.44950983012282),\n",
       "  ('chicken', 100.69434281284394),\n",
       "  ('wait', 95.53445268732193),\n",
       "  ('indian', 81.34336673457965),\n",
       "  ('london', 81.33259841981095),\n",
       "  ('dishoom', 71.29323128632994),\n",
       "  ('good', 68.69283932614898),\n",
       "  ('naan', 68.01819421795264),\n",
       "  ('great', 67.86996903112315),\n",
       "  ('place', 66.63600334352627)],\n",
       " 3: [('good', 48.08435763865076),\n",
       "  ('chicken', 39.63119563497038),\n",
       "  ('dish', 32.88329015513481),\n",
       "  ('dishoom', 28.154240960854423),\n",
       "  ('really', 26.67445820483801),\n",
       "  ('rice', 23.573253340307144),\n",
       "  ('biryani', 21.152511501528803),\n",
       "  ('ordered', 21.075095629329947),\n",
       "  ('also', 20.524874778949293),\n",
       "  ('bit', 20.22972207328228)]}"
      ]
     },
     "execution_count": 177,
     "metadata": {},
     "output_type": "execute_result"
    }
   ],
   "source": [
    "topic"
   ]
  },
  {
   "cell_type": "code",
   "execution_count": null,
   "id": "dbecd7f6",
   "metadata": {},
   "outputs": [],
   "source": []
  },
  {
   "cell_type": "code",
   "execution_count": null,
   "id": "aa47663b",
   "metadata": {},
   "outputs": [],
   "source": []
  }
 ],
 "metadata": {
  "kernelspec": {
   "display_name": "Python 3 (ipykernel)",
   "language": "python",
   "name": "python3"
  },
  "language_info": {
   "codemirror_mode": {
    "name": "ipython",
    "version": 3
   },
   "file_extension": ".py",
   "mimetype": "text/x-python",
   "name": "python",
   "nbconvert_exporter": "python",
   "pygments_lexer": "ipython3",
   "version": "3.10.6"
  },
  "toc": {
   "base_numbering": 1,
   "nav_menu": {},
   "number_sections": true,
   "sideBar": true,
   "skip_h1_title": false,
   "title_cell": "Table of Contents",
   "title_sidebar": "Contents",
   "toc_cell": false,
   "toc_position": {},
   "toc_section_display": true,
   "toc_window_display": false
  }
 },
 "nbformat": 4,
 "nbformat_minor": 5
}
