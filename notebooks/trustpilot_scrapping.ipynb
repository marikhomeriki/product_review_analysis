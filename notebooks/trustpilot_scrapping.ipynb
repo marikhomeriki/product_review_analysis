{
 "cells": [
  {
   "cell_type": "code",
   "execution_count": 1,
   "id": "c766f81a",
   "metadata": {},
   "outputs": [],
   "source": [
    "# imports\n",
    "import requests\n",
    "from bs4 import BeautifulSoup\n",
    "import re\n",
    "import pandas as pd\n",
    "import time"
   ]
  },
  {
   "cell_type": "code",
   "execution_count": 2,
   "id": "29c9c76e",
   "metadata": {},
   "outputs": [],
   "source": [
    "# variable declaration\n",
    "customer_reviews = {}"
   ]
  },
  {
   "cell_type": "code",
   "execution_count": 42,
   "id": "fe70915e",
   "metadata": {},
   "outputs": [],
   "source": [
    "def get_data_trustpilot(url, pages = 1):\n",
    "    print(\"📝Scraping from trustpilot started\")\n",
    "    for i in range(1, pages + 1):\n",
    "        page = url + f\"?page={i}\"\n",
    "        response = requests.get(page)\n",
    "        time.sleep(2)\n",
    "        soup = BeautifulSoup(response.content, \"html.parser\")\n",
    "        reviews = soup.find_all(\"section\", class_ = \"styles_reviewContentwrapper__zH_9M\")\n",
    "        for review in reviews:\n",
    "            text = review.find(\"p\", class_=\"typography_body-l__KUYFJ\").get_text()\n",
    "            review_rating = int(review.find(\"div\", class_=\"star-rating_starRating__4rrcf star-rating_medium__iN6Ty\").find(\"img\")[\"alt\"][6])\n",
    "            customer_reviews[text] = review_rating\n",
    "    print(\"📝Scraping from turstpilot completed. Converting to a dataframe.\")\n",
    "    df_reviews = pd.DataFrame(customer_reviews.items(),columns=['text', 'score'])\n",
    "    review_count = df_reviews.shape[0]\n",
    "    average_score = df_reviews.score.mean()\n",
    "    return df_reviews, review_count, average_score\n"
   ]
  },
  {
   "cell_type": "code",
   "execution_count": 4,
   "id": "26748511",
   "metadata": {},
   "outputs": [],
   "source": [
    "url = \"https://uk.trustpilot.com/review/www.hsbc.co.uk\"\n",
    "pages = 3"
   ]
  },
  {
   "cell_type": "code",
   "execution_count": 5,
   "id": "78edd79c",
   "metadata": {},
   "outputs": [
    {
     "name": "stdout",
     "output_type": "stream",
     "text": [
      "📝Scraping from trustpilot started\n"
     ]
    }
   ],
   "source": [
    "print(\"📝Scraping from trustpilot started\")\n",
    "for i in range(1,pages+1):\n",
    "        page = url + f\"?page={i}\"\n",
    "        response = requests.get(page)\n",
    "        time.sleep(2)\n",
    "        soup = BeautifulSoup(response.content, \"html.parser\")\n",
    "        reviews = soup.find_all(\"section\", class_ = \"styles_reviewContentwrapper__zH_9M\")\n",
    "        for review in reviews:\n",
    "            text = review.find(\"p\", class_=\"typography_body-l__KUYFJ\").get_text()\n",
    "            review_rating = int(review.find(\"div\", class_=\"star-rating_starRating__4rrcf star-rating_medium__iN6Ty\").find(\"img\")[\"alt\"][6])\n",
    "            customer_reviews[text] = review_rating"
   ]
  },
  {
   "cell_type": "code",
   "execution_count": 7,
   "id": "6586f70a",
   "metadata": {},
   "outputs": [
    {
     "name": "stdout",
     "output_type": "stream",
     "text": [
      "📝Scraping from turstpilot completed. Converting to a dataframe.\n"
     ]
    }
   ],
   "source": [
    "print(\"📝Scraping from turstpilot completed. Converting to a dataframe.\")\n",
    "df_reviews = pd.DataFrame(customer_reviews.items(),columns=['text', 'score'])"
   ]
  },
  {
   "cell_type": "code",
   "execution_count": 10,
   "id": "eccdfb8b",
   "metadata": {},
   "outputs": [
    {
     "data": {
      "text/plain": [
       "60"
      ]
     },
     "execution_count": 10,
     "metadata": {},
     "output_type": "execute_result"
    }
   ],
   "source": [
    "review_count = df_reviews.shape[0]\n",
    "review_count"
   ]
  },
  {
   "cell_type": "code",
   "execution_count": 11,
   "id": "e362611c",
   "metadata": {},
   "outputs": [
    {
     "data": {
      "text/plain": [
       "1.2833333333333334"
      ]
     },
     "execution_count": 11,
     "metadata": {},
     "output_type": "execute_result"
    }
   ],
   "source": [
    "average_score = df_reviews.score.mean()\n",
    "average_score"
   ]
  },
  {
   "cell_type": "code",
   "execution_count": 15,
   "id": "dc886afa",
   "metadata": {},
   "outputs": [
    {
     "data": {
      "text/plain": [
       "1.2833333333333334"
      ]
     },
     "execution_count": 15,
     "metadata": {},
     "output_type": "execute_result"
    }
   ],
   "source": [
    "output = (df_reviews, review_count, average_score)\n",
    "output[2]"
   ]
  }
 ],
 "metadata": {
  "kernelspec": {
   "display_name": "Python 3.10.6 64-bit ('shims')",
   "language": "python",
   "name": "python3"
  },
  "language_info": {
   "codemirror_mode": {
    "name": "ipython",
    "version": 3
   },
   "file_extension": ".py",
   "mimetype": "text/x-python",
   "name": "python",
   "nbconvert_exporter": "python",
   "pygments_lexer": "ipython3",
   "version": "3.10.6"
  },
  "toc": {
   "base_numbering": 1,
   "nav_menu": {},
   "number_sections": true,
   "sideBar": true,
   "skip_h1_title": false,
   "title_cell": "Table of Contents",
   "title_sidebar": "Contents",
   "toc_cell": false,
   "toc_position": {},
   "toc_section_display": true,
   "toc_window_display": false
  },
  "vscode": {
   "interpreter": {
    "hash": "9ec2cbac477f291ac53674f67357881269fe4a54873e7882af6ef0f49cc2e736"
   }
  }
 },
 "nbformat": 4,
 "nbformat_minor": 5
}
