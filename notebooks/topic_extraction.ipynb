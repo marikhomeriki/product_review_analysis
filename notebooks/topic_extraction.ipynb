{
 "cells": [
  {
   "cell_type": "code",
   "execution_count": 72,
   "id": "6c5ea8e1",
   "metadata": {},
   "outputs": [],
   "source": [
    "import pandas as pd\n",
    "import os\n",
    "import numpy as np\n",
    "from wordcloud import WordCloud\n",
    "from nltk.corpus import stopwords\n",
    "import matplotlib.pyplot as plt"
   ]
  },
  {
   "cell_type": "code",
   "execution_count": 73,
   "id": "4e435519",
   "metadata": {},
   "outputs": [],
   "source": [
    "df = pd.read_csv('/Users/marikhomeriki/code/marikhomeriki/raw_data/data_mc.csv', header = None)\n",
    "# df_test = pd.read_csv('/Users/marikhomeriki/code/marikhomeriki/product_review_analysis/raw_data/test_data/test.csv', header=None)\n",
    "# df_test = df.rename({0: 'label', 1: 'text'}, axis = 1)\n",
    "df = df.rename({0: 'label', 1: 'text'}, axis = 1)"
   ]
  },
  {
   "cell_type": "code",
   "execution_count": 74,
   "id": "b6bead00",
   "metadata": {},
   "outputs": [],
   "source": [
    "df = df.dropna()"
   ]
  },
  {
   "cell_type": "code",
   "execution_count": 75,
   "id": "8bf4bf76",
   "metadata": {},
   "outputs": [],
   "source": [
    "from nltk.corpus import stopwords \n",
    "import string\n",
    "from nltk.stem.wordnet import WordNetLemmatizer\n",
    "from nltk import word_tokenize \n",
    "\n",
    "def clean (text):\n",
    "    for punctuation in string.punctuation:\n",
    "        text = text.replace(punctuation, ' ') # Remove Punctuation\n",
    "    lowercased = text.lower() # Lower Case\n",
    "    tokenized = word_tokenize(lowercased) # Tokenize\n",
    "    words_only = [word for word in tokenized if word.isalpha()] # Remove numbers\n",
    "    stop_words = set(stopwords.words('english')) # Make stopword list\n",
    "    without_stopwords = [word for word in words_only if not word in stop_words] # Remove Stop Words\n",
    "    lemma=WordNetLemmatizer() # Initiate Lemmatizer\n",
    "    lemmatized = [lemma.lemmatize(word) for word in without_stopwords] # Lemmatize\n",
    "    return lemmatized"
   ]
  },
  {
   "cell_type": "code",
   "execution_count": 81,
   "id": "9fbe6539",
   "metadata": {},
   "outputs": [],
   "source": [
    "df_text = df.label"
   ]
  },
  {
   "cell_type": "code",
   "execution_count": 82,
   "id": "e0851ad5",
   "metadata": {},
   "outputs": [],
   "source": [
    "df_text = pd.DataFrame(df_text)"
   ]
  },
  {
   "cell_type": "code",
   "execution_count": 83,
   "id": "04095137",
   "metadata": {},
   "outputs": [
    {
     "data": {
      "text/html": [
       "<div>\n",
       "<style scoped>\n",
       "    .dataframe tbody tr th:only-of-type {\n",
       "        vertical-align: middle;\n",
       "    }\n",
       "\n",
       "    .dataframe tbody tr th {\n",
       "        vertical-align: top;\n",
       "    }\n",
       "\n",
       "    .dataframe thead th {\n",
       "        text-align: right;\n",
       "    }\n",
       "</style>\n",
       "<table border=\"1\" class=\"dataframe\">\n",
       "  <thead>\n",
       "    <tr style=\"text-align: right;\">\n",
       "      <th></th>\n",
       "      <th>label</th>\n",
       "    </tr>\n",
       "  </thead>\n",
       "  <tbody>\n",
       "    <tr>\n",
       "      <th>0</th>\n",
       "      <td>I'm not a huge mcds lover, but I've been to be...</td>\n",
       "    </tr>\n",
       "    <tr>\n",
       "      <th>1</th>\n",
       "      <td>Terrible customer service. Î¾I came in at 9:30...</td>\n",
       "    </tr>\n",
       "    <tr>\n",
       "      <th>2</th>\n",
       "      <td>First they \"lost\" my order, actually they gave...</td>\n",
       "    </tr>\n",
       "    <tr>\n",
       "      <th>3</th>\n",
       "      <td>I see I'm not the only one giving 1 star. Only...</td>\n",
       "    </tr>\n",
       "    <tr>\n",
       "      <th>4</th>\n",
       "      <td>Well, it's McDonald's, so you know what the fo...</td>\n",
       "    </tr>\n",
       "    <tr>\n",
       "      <th>...</th>\n",
       "      <td>...</td>\n",
       "    </tr>\n",
       "    <tr>\n",
       "      <th>1520</th>\n",
       "      <td>I enjoyed the part where I repeatedly asked if...</td>\n",
       "    </tr>\n",
       "    <tr>\n",
       "      <th>1521</th>\n",
       "      <td>Worst McDonalds I've been in in a long time! D...</td>\n",
       "    </tr>\n",
       "    <tr>\n",
       "      <th>1522</th>\n",
       "      <td>When I am really craving for McDonald's, this ...</td>\n",
       "    </tr>\n",
       "    <tr>\n",
       "      <th>1523</th>\n",
       "      <td>Two points right out of the gate: 1. Thuggery ...</td>\n",
       "    </tr>\n",
       "    <tr>\n",
       "      <th>1524</th>\n",
       "      <td>I wanted to grab breakfast one morning before ...</td>\n",
       "    </tr>\n",
       "  </tbody>\n",
       "</table>\n",
       "<p>1525 rows × 1 columns</p>\n",
       "</div>"
      ],
      "text/plain": [
       "                                                  label\n",
       "0     I'm not a huge mcds lover, but I've been to be...\n",
       "1     Terrible customer service. Î¾I came in at 9:30...\n",
       "2     First they \"lost\" my order, actually they gave...\n",
       "3     I see I'm not the only one giving 1 star. Only...\n",
       "4     Well, it's McDonald's, so you know what the fo...\n",
       "...                                                 ...\n",
       "1520  I enjoyed the part where I repeatedly asked if...\n",
       "1521  Worst McDonalds I've been in in a long time! D...\n",
       "1522  When I am really craving for McDonald's, this ...\n",
       "1523  Two points right out of the gate: 1. Thuggery ...\n",
       "1524  I wanted to grab breakfast one morning before ...\n",
       "\n",
       "[1525 rows x 1 columns]"
      ]
     },
     "execution_count": 83,
     "metadata": {},
     "output_type": "execute_result"
    }
   ],
   "source": [
    "df_text"
   ]
  },
  {
   "cell_type": "code",
   "execution_count": 84,
   "id": "cd2a7a98",
   "metadata": {},
   "outputs": [],
   "source": [
    "df_text['clean_text'] = df_text.label.apply(clean)\n",
    "df_text['clean_text'] = df_text['clean_text'].astype('str')"
   ]
  },
  {
   "cell_type": "code",
   "execution_count": 85,
   "id": "37b8c836",
   "metadata": {},
   "outputs": [
    {
     "data": {
      "text/html": [
       "<div>\n",
       "<style scoped>\n",
       "    .dataframe tbody tr th:only-of-type {\n",
       "        vertical-align: middle;\n",
       "    }\n",
       "\n",
       "    .dataframe tbody tr th {\n",
       "        vertical-align: top;\n",
       "    }\n",
       "\n",
       "    .dataframe thead th {\n",
       "        text-align: right;\n",
       "    }\n",
       "</style>\n",
       "<table border=\"1\" class=\"dataframe\">\n",
       "  <thead>\n",
       "    <tr style=\"text-align: right;\">\n",
       "      <th></th>\n",
       "      <th>label</th>\n",
       "      <th>clean_text</th>\n",
       "    </tr>\n",
       "  </thead>\n",
       "  <tbody>\n",
       "    <tr>\n",
       "      <th>0</th>\n",
       "      <td>I'm not a huge mcds lover, but I've been to be...</td>\n",
       "      <td>['huge', 'mcds', 'lover', 'better', 'one', 'fa...</td>\n",
       "    </tr>\n",
       "    <tr>\n",
       "      <th>1</th>\n",
       "      <td>Terrible customer service. Î¾I came in at 9:30...</td>\n",
       "      <td>['terrible', 'customer', 'service', 'came', 's...</td>\n",
       "    </tr>\n",
       "    <tr>\n",
       "      <th>2</th>\n",
       "      <td>First they \"lost\" my order, actually they gave...</td>\n",
       "      <td>['first', 'lost', 'order', 'actually', 'gave',...</td>\n",
       "    </tr>\n",
       "    <tr>\n",
       "      <th>3</th>\n",
       "      <td>I see I'm not the only one giving 1 star. Only...</td>\n",
       "      <td>['see', 'one', 'giving', 'star', 'star', 'need...</td>\n",
       "    </tr>\n",
       "    <tr>\n",
       "      <th>4</th>\n",
       "      <td>Well, it's McDonald's, so you know what the fo...</td>\n",
       "      <td>['well', 'mcdonald', 'know', 'food', 'review',...</td>\n",
       "    </tr>\n",
       "    <tr>\n",
       "      <th>...</th>\n",
       "      <td>...</td>\n",
       "      <td>...</td>\n",
       "    </tr>\n",
       "    <tr>\n",
       "      <th>1520</th>\n",
       "      <td>I enjoyed the part where I repeatedly asked if...</td>\n",
       "      <td>['enjoyed', 'part', 'repeatedly', 'asked', 'ri...</td>\n",
       "    </tr>\n",
       "    <tr>\n",
       "      <th>1521</th>\n",
       "      <td>Worst McDonalds I've been in in a long time! D...</td>\n",
       "      <td>['worst', 'mcdonalds', 'long', 'time', 'dirt',...</td>\n",
       "    </tr>\n",
       "    <tr>\n",
       "      <th>1522</th>\n",
       "      <td>When I am really craving for McDonald's, this ...</td>\n",
       "      <td>['really', 'craving', 'mcdonald', 'seems', 'cl...</td>\n",
       "    </tr>\n",
       "    <tr>\n",
       "      <th>1523</th>\n",
       "      <td>Two points right out of the gate: 1. Thuggery ...</td>\n",
       "      <td>['two', 'point', 'right', 'gate', 'thuggery', ...</td>\n",
       "    </tr>\n",
       "    <tr>\n",
       "      <th>1524</th>\n",
       "      <td>I wanted to grab breakfast one morning before ...</td>\n",
       "      <td>['wanted', 'grab', 'breakfast', 'one', 'mornin...</td>\n",
       "    </tr>\n",
       "  </tbody>\n",
       "</table>\n",
       "<p>1525 rows × 2 columns</p>\n",
       "</div>"
      ],
      "text/plain": [
       "                                                  label  \\\n",
       "0     I'm not a huge mcds lover, but I've been to be...   \n",
       "1     Terrible customer service. Î¾I came in at 9:30...   \n",
       "2     First they \"lost\" my order, actually they gave...   \n",
       "3     I see I'm not the only one giving 1 star. Only...   \n",
       "4     Well, it's McDonald's, so you know what the fo...   \n",
       "...                                                 ...   \n",
       "1520  I enjoyed the part where I repeatedly asked if...   \n",
       "1521  Worst McDonalds I've been in in a long time! D...   \n",
       "1522  When I am really craving for McDonald's, this ...   \n",
       "1523  Two points right out of the gate: 1. Thuggery ...   \n",
       "1524  I wanted to grab breakfast one morning before ...   \n",
       "\n",
       "                                             clean_text  \n",
       "0     ['huge', 'mcds', 'lover', 'better', 'one', 'fa...  \n",
       "1     ['terrible', 'customer', 'service', 'came', 's...  \n",
       "2     ['first', 'lost', 'order', 'actually', 'gave',...  \n",
       "3     ['see', 'one', 'giving', 'star', 'star', 'need...  \n",
       "4     ['well', 'mcdonald', 'know', 'food', 'review',...  \n",
       "...                                                 ...  \n",
       "1520  ['enjoyed', 'part', 'repeatedly', 'asked', 'ri...  \n",
       "1521  ['worst', 'mcdonalds', 'long', 'time', 'dirt',...  \n",
       "1522  ['really', 'craving', 'mcdonald', 'seems', 'cl...  \n",
       "1523  ['two', 'point', 'right', 'gate', 'thuggery', ...  \n",
       "1524  ['wanted', 'grab', 'breakfast', 'one', 'mornin...  \n",
       "\n",
       "[1525 rows x 2 columns]"
      ]
     },
     "execution_count": 85,
     "metadata": {},
     "output_type": "execute_result"
    }
   ],
   "source": [
    "df_text"
   ]
  },
  {
   "cell_type": "code",
   "execution_count": 113,
   "id": "cd411451",
   "metadata": {},
   "outputs": [],
   "source": [
    "from sklearn.decomposition import LatentDirichletAllocation\n",
    "from sklearn.feature_extraction.text import CountVectorizer\n",
    "\n",
    "vectorizer = CountVectorizer(ngram_range=(2,2))\n",
    "\n",
    "data_vectorized = vectorizer.fit_transform(df_text['clean_text'])\n",
    "\n",
    "lda_model = LatentDirichletAllocation(n_components=5)\n",
    "\n",
    "lda_vectors = lda_model.fit_transform(data_vectorized)"
   ]
  },
  {
   "cell_type": "code",
   "execution_count": 115,
   "id": "4a38686f",
   "metadata": {},
   "outputs": [],
   "source": [
    "def print_topics(model, vectorizer):\n",
    "    for idx, topic in enumerate(model.components_):\n",
    "        print(\"Topic %d:\" % (idx))\n",
    "        print([(vectorizer.get_feature_names_out()[i], topic[i])\n",
    "                        for i in topic.argsort()[:-10 - 1:-1]])"
   ]
  },
  {
   "cell_type": "code",
   "execution_count": 116,
   "id": "a5090802",
   "metadata": {},
   "outputs": [],
   "source": [
    "def get_topics(model, vectorizer):\n",
    "    topics = {}\n",
    "    for idx, topic in enumerate(model.components_):\n",
    "        topics[idx] = [(vectorizer.get_feature_names_out()[i], topic[i])\n",
    "                        for i in topic.argsort()[:-10 - 1:-1]]\n",
    "    return topics\n",
    "   "
   ]
  },
  {
   "cell_type": "code",
   "execution_count": 117,
   "id": "496501b0",
   "metadata": {},
   "outputs": [],
   "source": [
    "topic = get_topics(lda_model, vectorizer)"
   ]
  },
  {
   "cell_type": "code",
   "execution_count": 118,
   "id": "ee31b7b4",
   "metadata": {},
   "outputs": [
    {
     "data": {
      "text/plain": [
       "{0: [('drive thru', 187.28364848060025),\n",
       "  ('customer service', 38.20603322662517),\n",
       "  ('ice cream', 22.21625721009382),\n",
       "  ('order wrong', 21.200844675575233),\n",
       "  ('fast food', 20.18763162971549),\n",
       "  ('parking lot', 19.205152045255986),\n",
       "  ('every time', 18.205370030413306),\n",
       "  ('get order', 18.200331047875007),\n",
       "  ('mcdonald ever', 16.21852261970967),\n",
       "  ('last time', 16.20332777928664)],\n",
       " 1: [('drive thru', 46.17380097047247),\n",
       "  ('fast food', 40.201877830314565),\n",
       "  ('customer service', 17.201152288772754),\n",
       "  ('chicken nugget', 15.207052581905236),\n",
       "  ('big mac', 15.199716789674797),\n",
       "  ('every time', 11.19744549907991),\n",
       "  ('order wrong', 10.198943750621927),\n",
       "  ('order right', 10.19681168204729),\n",
       "  ('get order', 10.195468131046761),\n",
       "  ('french fry', 9.201865449485231)],\n",
       " 2: [('drive thru', 69.13158997826432),\n",
       "  ('fast food', 30.200774079255456),\n",
       "  ('big mac', 25.20496242889622),\n",
       "  ('customer service', 21.194026005539786),\n",
       "  ('worst mcdonald', 19.199194210175566),\n",
       "  ('mcdonald ever', 18.18739899566691),\n",
       "  ('worst mcdonalds', 17.201069218592462),\n",
       "  ('ice cream', 16.205782002292743),\n",
       "  ('late night', 15.206817334419691),\n",
       "  ('order right', 15.199284804560978)],\n",
       " 3: [('drive thru', 93.21524759784396),\n",
       "  ('worst mcdonalds', 17.21357222442946),\n",
       "  ('fast food', 17.197104636879658),\n",
       "  ('get order', 15.20073834217463),\n",
       "  ('went drive', 13.202479697098521),\n",
       "  ('order wrong', 13.200932432114076),\n",
       "  ('chicken nugget', 12.205360080704658),\n",
       "  ('long time', 12.205045913919996),\n",
       "  ('ice cream', 12.199095818537826),\n",
       "  ('big mac', 12.198873186588841)],\n",
       " 4: [('drive thru', 56.1957129727916),\n",
       "  ('fast food', 51.21261182380706),\n",
       "  ('customer service', 33.20209228211619),\n",
       "  ('get order', 19.20793287157314),\n",
       "  ('apple pie', 14.204851107197427),\n",
       "  ('order wrong', 14.20310648397927),\n",
       "  ('go back', 12.203584373560103),\n",
       "  ('taking order', 12.20304633649212),\n",
       "  ('chicken sandwich', 11.209715217050356),\n",
       "  ('food restaurant', 11.204823067709462)]}"
      ]
     },
     "execution_count": 118,
     "metadata": {},
     "output_type": "execute_result"
    }
   ],
   "source": [
    "topic"
   ]
  },
  {
   "cell_type": "code",
   "execution_count": 15,
   "id": "0ee6eb03",
   "metadata": {},
   "outputs": [
    {
     "name": "stdout",
     "output_type": "stream",
     "text": [
      "Topic 0:\n",
      "[('food', 86.07588367373073), ('london', 49.16536959312687), ('place', 48.95682946718051), ('service', 46.04695811339066), ('indian', 43.57049759873087), ('dish', 43.48773001434189), ('restaurant', 35.97729663704628), ('naan', 32.96438742352339), ('delicious', 31.61159106991054), ('wait', 31.01260089403546)]\n",
      "Topic 1:\n",
      "[('breakfast', 67.68361975742702), ('naan', 46.71787015383095), ('bacon', 38.534845679439556), ('food', 34.70084759539025), ('egg', 30.525784578578893), ('roll', 28.191414301879384), ('indian', 25.904201649509748), ('dishoom', 21.018283410461553), ('came', 20.933540626820204), ('amazing', 20.47950608568313)]\n",
      "Topic 2:\n",
      "[('food', 150.92207330238654), ('chicken', 144.88442834063744), ('naan', 104.69756848675166), ('line', 102.18816779286124), ('good', 98.91131168655438), ('dish', 98.605806075053), ('get', 95.8669815665093), ('indian', 85.45614242813377), ('wait', 85.15859623603644), ('great', 74.546358216264)]\n",
      "Topic 3:\n",
      "[('wait', 30.8986839918849), ('time', 30.153154680271893), ('food', 24.51202989833256), ('good', 21.052113320777657), ('flavor', 19.90229235497983), ('indian', 19.39248455468774), ('dish', 19.32762401789908), ('london', 18.894072629387566), ('experience', 18.78969743396591), ('back', 18.748130826468287)]\n",
      "Topic 4:\n",
      "[('food', 269.7891655301521), ('chicken', 254.31080401522408), ('indian', 156.67667376893016), ('dishoom', 155.13717685245652), ('wait', 149.86099219278879), ('london', 145.27308401640113), ('good', 134.1213376345878), ('naan', 118.85877571122931), ('time', 113.08876780063902), ('ruby', 110.76954779575838)]\n"
     ]
    }
   ],
   "source": [
    "print_topics(lda_model, vectorizer)"
   ]
  },
  {
   "cell_type": "code",
   "execution_count": null,
   "id": "657c27cd",
   "metadata": {},
   "outputs": [],
   "source": []
  },
  {
   "cell_type": "code",
   "execution_count": 151,
   "id": "c3852c1a",
   "metadata": {},
   "outputs": [
    {
     "data": {
      "image/png": "[encoded data removed]",
      "text/plain": [
       "<Figure size 2000x1000 with 5 Axes>"
      ]
     },
     "metadata": {},
     "output_type": "display_data"
    }
   ],
   "source": [
    "fig = plt.figure(figsize=(20,10))\n",
    "\n",
    "for key in topic.keys():\n",
    "    plt.subplot(2, 3, key + 1)\n",
    "    words = [tup[0] for tup in topic[key]]\n",
    "    scores = [tup[1] for tup in topic[key]]\n",
    "    plt.barh(words, scores)\n",
    "    plt.title(f\"Topic {key}\")\n",
    "    \n",
    "\n",
    "plt.show()"
   ]
  },
  {
   "cell_type": "code",
   "execution_count": null,
   "id": "0fefe70c",
   "metadata": {},
   "outputs": [],
   "source": []
  },
  {
   "cell_type": "code",
   "execution_count": null,
   "id": "dbecd7f6",
   "metadata": {},
   "outputs": [],
   "source": []
  }
 ],
 "metadata": {
  "kernelspec": {
   "display_name": "Python 3 (ipykernel)",
   "language": "python",
   "name": "python3"
  },
  "language_info": {
   "codemirror_mode": {
    "name": "ipython",
    "version": 3
   },
   "file_extension": ".py",
   "mimetype": "text/x-python",
   "name": "python",
   "nbconvert_exporter": "python",
   "pygments_lexer": "ipython3",
   "version": "3.10.6"
  },
  "toc": {
   "base_numbering": 1,
   "nav_menu": {},
   "number_sections": true,
   "sideBar": true,
   "skip_h1_title": false,
   "title_cell": "Table of Contents",
   "title_sidebar": "Contents",
   "toc_cell": false,
   "toc_position": {},
   "toc_section_display": true,
   "toc_window_display": false
  },
  "vscode": {
   "interpreter": {
    "hash": "dcbbb6ab3b2ed2d74857d529a011259f79bd5f71036b1905b35d8aa73ad25904"
   }
  }
 },
 "nbformat": 4,
 "nbformat_minor": 5
}
