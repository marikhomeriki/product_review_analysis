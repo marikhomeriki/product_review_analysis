{
 "cells": [
  {
   "cell_type": "code",
   "execution_count": 82,
   "id": "cc24506c",
   "metadata": {},
   "outputs": [],
   "source": [
    "import pandas as pd\n",
    "import os\n",
    "import numpy as np"
   ]
  },
  {
   "cell_type": "code",
   "execution_count": 83,
   "id": "6f98b488",
   "metadata": {},
   "outputs": [],
   "source": [
    "df = pd.read_csv('/Users/marikhomeriki/code/marikhomeriki/raw_data/train.csv', header=None)"
   ]
  },
  {
   "cell_type": "code",
   "execution_count": 84,
   "id": "2a4e2faf",
   "metadata": {},
   "outputs": [],
   "source": [
    "df_test = pd.read_csv('/Users/marikhomeriki/code/marikhomeriki/raw_data/test.csv', header=None)"
   ]
  },
  {
   "cell_type": "code",
   "execution_count": 85,
   "id": "881091ce",
   "metadata": {},
   "outputs": [],
   "source": [
    "df_test = df_test.rename({0: 'label', 1: 'text'}, axis = 1)"
   ]
  },
  {
   "cell_type": "code",
   "execution_count": 86,
   "id": "cbd3e089",
   "metadata": {},
   "outputs": [],
   "source": [
    "df = df.rename({0: 'label', 1: 'text'}, axis = 1)"
   ]
  },
  {
   "cell_type": "code",
   "execution_count": 87,
   "id": "1d0b5428",
   "metadata": {},
   "outputs": [
    {
     "data": {
      "text/html": [
       "<div>\n",
       "<style scoped>\n",
       "    .dataframe tbody tr th:only-of-type {\n",
       "        vertical-align: middle;\n",
       "    }\n",
       "\n",
       "    .dataframe tbody tr th {\n",
       "        vertical-align: top;\n",
       "    }\n",
       "\n",
       "    .dataframe thead th {\n",
       "        text-align: right;\n",
       "    }\n",
       "</style>\n",
       "<table border=\"1\" class=\"dataframe\">\n",
       "  <thead>\n",
       "    <tr style=\"text-align: right;\">\n",
       "      <th></th>\n",
       "      <th>label</th>\n",
       "      <th>text</th>\n",
       "    </tr>\n",
       "  </thead>\n",
       "  <tbody>\n",
       "    <tr>\n",
       "      <th>0</th>\n",
       "      <td>2</td>\n",
       "      <td>Contrary to other reviews, I have zero complai...</td>\n",
       "    </tr>\n",
       "    <tr>\n",
       "      <th>1</th>\n",
       "      <td>1</td>\n",
       "      <td>Last summer I had an appointment to get new ti...</td>\n",
       "    </tr>\n",
       "    <tr>\n",
       "      <th>2</th>\n",
       "      <td>2</td>\n",
       "      <td>Friendly staff, same starbucks fair you get an...</td>\n",
       "    </tr>\n",
       "    <tr>\n",
       "      <th>3</th>\n",
       "      <td>1</td>\n",
       "      <td>The food is good. Unfortunately the service is...</td>\n",
       "    </tr>\n",
       "    <tr>\n",
       "      <th>4</th>\n",
       "      <td>2</td>\n",
       "      <td>Even when we didn't have a car Filene's Baseme...</td>\n",
       "    </tr>\n",
       "    <tr>\n",
       "      <th>...</th>\n",
       "      <td>...</td>\n",
       "      <td>...</td>\n",
       "    </tr>\n",
       "    <tr>\n",
       "      <th>37995</th>\n",
       "      <td>1</td>\n",
       "      <td>If I could give 0...I would.  Don't do it.</td>\n",
       "    </tr>\n",
       "    <tr>\n",
       "      <th>37996</th>\n",
       "      <td>2</td>\n",
       "      <td>Items Selected:\\nChocolate Cinnamon Horn\\nSmal...</td>\n",
       "    </tr>\n",
       "    <tr>\n",
       "      <th>37997</th>\n",
       "      <td>1</td>\n",
       "      <td>Expensive lunch meals.  Fried pickles were goo...</td>\n",
       "    </tr>\n",
       "    <tr>\n",
       "      <th>37998</th>\n",
       "      <td>1</td>\n",
       "      <td>Highly overpriced and food was cold. Our waitr...</td>\n",
       "    </tr>\n",
       "    <tr>\n",
       "      <th>37999</th>\n",
       "      <td>1</td>\n",
       "      <td>I have been using this company for 11 months. ...</td>\n",
       "    </tr>\n",
       "  </tbody>\n",
       "</table>\n",
       "<p>38000 rows × 2 columns</p>\n",
       "</div>"
      ],
      "text/plain": [
       "       label                                               text\n",
       "0          2  Contrary to other reviews, I have zero complai...\n",
       "1          1  Last summer I had an appointment to get new ti...\n",
       "2          2  Friendly staff, same starbucks fair you get an...\n",
       "3          1  The food is good. Unfortunately the service is...\n",
       "4          2  Even when we didn't have a car Filene's Baseme...\n",
       "...      ...                                                ...\n",
       "37995      1         If I could give 0...I would.  Don't do it.\n",
       "37996      2  Items Selected:\\nChocolate Cinnamon Horn\\nSmal...\n",
       "37997      1  Expensive lunch meals.  Fried pickles were goo...\n",
       "37998      1  Highly overpriced and food was cold. Our waitr...\n",
       "37999      1  I have been using this company for 11 months. ...\n",
       "\n",
       "[38000 rows x 2 columns]"
      ]
     },
     "execution_count": 87,
     "metadata": {},
     "output_type": "execute_result"
    }
   ],
   "source": [
    "df_test"
   ]
  },
  {
   "cell_type": "code",
   "execution_count": 88,
   "id": "9e438392",
   "metadata": {},
   "outputs": [],
   "source": [
    "from tensorflow.keras.preprocessing.text import text_to_word_sequence\n",
    "\n",
    "def load_data(data, percentage_of_sentences=None):\n",
    "    \n",
    "    train_sentences = data['text']\n",
    "    y_train = data['label']\n",
    "    \n",
    "    \n",
    "    # Take only a given percentage of the entire data\n",
    "    if percentage_of_sentences is not None:\n",
    "        assert(percentage_of_sentences> 0 and percentage_of_sentences<=100)\n",
    "        \n",
    "        len_train = int(percentage_of_sentences/100*len(train_sentences))\n",
    "        train_sentences, y_train = train_sentences[:len_train], y_train[:len_train]\n",
    "    X_train = [text_to_word_sequence(_) for _ in train_sentences]\n",
    "    \n",
    "  \n",
    "    return X_train, y_train\n",
    "\n"
   ]
  },
  {
   "cell_type": "code",
   "execution_count": 89,
   "id": "cbe2431c",
   "metadata": {},
   "outputs": [],
   "source": [
    "X_train, y_train = load_data(df, percentage_of_sentences=10)"
   ]
  },
  {
   "cell_type": "code",
   "execution_count": 90,
   "id": "eb7488d3",
   "metadata": {},
   "outputs": [],
   "source": [
    "X_test, y_test = load_data(df_test, percentage_of_sentences=10)"
   ]
  },
  {
   "cell_type": "code",
   "execution_count": 53,
   "id": "5dd4e993",
   "metadata": {},
   "outputs": [
    {
     "data": {
      "text/plain": [
       "list"
      ]
     },
     "execution_count": 53,
     "metadata": {},
     "output_type": "execute_result"
    }
   ],
   "source": [
    "type(X_train)"
   ]
  },
  {
   "cell_type": "code",
   "execution_count": 16,
   "id": "02b74304",
   "metadata": {},
   "outputs": [],
   "source": [
    "len_train = int(10/100*len(df_test['text']))\n",
    "X_test = df_test['text']\n",
    "X_test = X_test[:len_train]"
   ]
  },
  {
   "cell_type": "code",
   "execution_count": null,
   "id": "0dfd9efb",
   "metadata": {},
   "outputs": [],
   "source": []
  },
  {
   "cell_type": "code",
   "execution_count": 92,
   "id": "9a2c941c",
   "metadata": {},
   "outputs": [],
   "source": [
    "y_test_adj = y_test -1"
   ]
  },
  {
   "cell_type": "code",
   "execution_count": 93,
   "id": "2e8f9aea",
   "metadata": {},
   "outputs": [],
   "source": [
    "from tensorflow.keras.preprocessing.text import Tokenizer\n",
    "from tensorflow.keras.preprocessing.sequence import pad_sequences\n",
    "\n",
    "tokenizer = Tokenizer()\n",
    "tokenizer.fit_on_texts(X_train)\n",
    "    \n",
    "# We apply the tokenization to the train and test set\n",
    "X_train_token = tokenizer.texts_to_sequences(X_train)\n",
    "X_test_token = tokenizer.texts_to_sequences(X_test)\n",
    "\n",
    "\n",
    "X_train_pad = pad_sequences(X_train_token, maxlen=50, dtype='float32', padding=\"post\")\n",
    "X_test_pad = pad_sequences(X_test_token, maxlen=50, dtype='float32', padding=\"post\")\n",
    "\n",
    "vocab_size = len(tokenizer.word_index)"
   ]
  },
  {
   "cell_type": "code",
   "execution_count": 136,
   "id": "024c2761",
   "metadata": {},
   "outputs": [],
   "source": [
    "import pickle"
   ]
  },
  {
   "cell_type": "code",
   "execution_count": 137,
   "id": "b5d40de2",
   "metadata": {},
   "outputs": [],
   "source": [
    "with open('tokenizer.pickle', 'wb') as handle:\n",
    "    pickle.dump(tokenizer, handle, protocol=pickle.HIGHEST_PROTOCOL)"
   ]
  },
  {
   "cell_type": "code",
   "execution_count": 94,
   "id": "cde48348",
   "metadata": {},
   "outputs": [
    {
     "data": {
      "text/plain": [
       "numpy.ndarray"
      ]
     },
     "execution_count": 94,
     "metadata": {},
     "output_type": "execute_result"
    }
   ],
   "source": [
    "type(X_train_pad)"
   ]
  },
  {
   "cell_type": "code",
   "execution_count": null,
   "id": "9d1742c7",
   "metadata": {},
   "outputs": [],
   "source": []
  },
  {
   "cell_type": "code",
   "execution_count": 95,
   "id": "5041e6d0",
   "metadata": {},
   "outputs": [],
   "source": [
    "from tensorflow.keras import Sequential, layers\n",
    "\n",
    "def init_cnn_model(vocab_size):\n",
    "    model = Sequential()\n",
    "    model.add(layers.Embedding(input_dim=vocab_size + 1, output_dim=20, mask_zero=True, input_length=50))\n",
    "    model.add(layers.Conv1D(32, 3))\n",
    "    model.add(layers.Flatten())\n",
    "    model.add(layers.Dense(50, activation=\"relu\"))\n",
    "    model.add(layers.Dense(1, activation='sigmoid'))\n",
    "\n",
    "    model.compile(loss='binary_crossentropy', optimizer='adam', metrics=['accuracy'])\n",
    "    return model\n",
    "\n",
    "model_cnn = init_cnn_model(vocab_size)"
   ]
  },
  {
   "cell_type": "code",
   "execution_count": 96,
   "id": "7cac7020",
   "metadata": {},
   "outputs": [
    {
     "name": "stdout",
     "output_type": "stream",
     "text": [
      "Model: \"sequential_2\"\n",
      "_________________________________________________________________\n",
      " Layer (type)                Output Shape              Param #   \n",
      "=================================================================\n",
      " embedding_2 (Embedding)     (None, 50, 20)            1378040   \n",
      "                                                                 \n",
      " conv1d_2 (Conv1D)           (None, 48, 32)            1952      \n",
      "                                                                 \n",
      " flatten_2 (Flatten)         (None, 1536)              0         \n",
      "                                                                 \n",
      " dense_4 (Dense)             (None, 50)                76850     \n",
      "                                                                 \n",
      " dense_5 (Dense)             (None, 1)                 51        \n",
      "                                                                 \n",
      "=================================================================\n",
      "Total params: 1,456,893\n",
      "Trainable params: 1,456,893\n",
      "Non-trainable params: 0\n",
      "_________________________________________________________________\n"
     ]
    }
   ],
   "source": [
    "model_cnn.summary()"
   ]
  },
  {
   "cell_type": "code",
   "execution_count": 97,
   "id": "d926d329",
   "metadata": {},
   "outputs": [],
   "source": [
    "y_train_adj = y_train -1"
   ]
  },
  {
   "cell_type": "code",
   "execution_count": 98,
   "id": "2a142dae",
   "metadata": {},
   "outputs": [
    {
     "name": "stdout",
     "output_type": "stream",
     "text": [
      "Epoch 1/20\n",
      "1225/1225 [==============================] - 7s 5ms/step - loss: 0.3593 - accuracy: 0.8326 - val_loss: 0.2841 - val_accuracy: 0.8824\n",
      "Epoch 2/20\n",
      "1225/1225 [==============================] - 6s 5ms/step - loss: 0.1914 - accuracy: 0.9231 - val_loss: 0.3276 - val_accuracy: 0.8679\n",
      "Epoch 3/20\n",
      "1225/1225 [==============================] - 6s 5ms/step - loss: 0.0718 - accuracy: 0.9728 - val_loss: 0.4842 - val_accuracy: 0.8552\n",
      "Epoch 4/20\n",
      "1225/1225 [==============================] - 6s 5ms/step - loss: 0.0235 - accuracy: 0.9922 - val_loss: 0.7559 - val_accuracy: 0.8468\n",
      "Epoch 5/20\n",
      "1225/1225 [==============================] - 6s 5ms/step - loss: 0.0121 - accuracy: 0.9956 - val_loss: 0.9035 - val_accuracy: 0.8511\n",
      "Epoch 6/20\n",
      "1225/1225 [==============================] - 6s 5ms/step - loss: 0.0131 - accuracy: 0.9956 - val_loss: 0.9769 - val_accuracy: 0.8510\n"
     ]
    },
    {
     "data": {
      "text/plain": [
       "<keras.callbacks.History at 0x2bd3dda80>"
      ]
     },
     "execution_count": 98,
     "metadata": {},
     "output_type": "execute_result"
    }
   ],
   "source": [
    "from tensorflow.keras.callbacks import EarlyStopping\n",
    "\n",
    "es = EarlyStopping(patience=5, restore_best_weights=True)\n",
    "\n",
    "model_cnn.fit(X_train_pad, y_train_adj, \n",
    "          epochs=20, \n",
    "          batch_size=32,\n",
    "          validation_split=0.3,\n",
    "          callbacks=[es]\n",
    "         )\n"
   ]
  },
  {
   "cell_type": "code",
   "execution_count": 99,
   "id": "bc7445a5",
   "metadata": {},
   "outputs": [
    {
     "name": "stdout",
     "output_type": "stream",
     "text": [
      "119/119 [==============================] - 0s 649us/step - loss: 0.2800 - accuracy: 0.8837\n"
     ]
    }
   ],
   "source": [
    "res = model_cnn.evaluate(X_test_pad, y_test_adj)"
   ]
  },
  {
   "cell_type": "code",
   "execution_count": 100,
   "id": "9f243fce",
   "metadata": {},
   "outputs": [
    {
     "data": {
      "text/plain": [
       "<keras.engine.sequential.Sequential at 0x2b74afdc0>"
      ]
     },
     "execution_count": 100,
     "metadata": {},
     "output_type": "execute_result"
    }
   ],
   "source": [
    "model_cnn"
   ]
  },
  {
   "cell_type": "code",
   "execution_count": 101,
   "id": "dca78825",
   "metadata": {},
   "outputs": [],
   "source": [
    "df_test = pd.read_csv('/Users/marikhomeriki/code/marikhomeriki/raw_data/data_dishoom.csv', header = None)\n",
    "df_test = df_test.rename({1: 'text'}, axis = 1)\n",
    "df_test = df_test.dropna()\n",
    "df_test = pd.DataFrame(df_test.text)"
   ]
  },
  {
   "cell_type": "code",
   "execution_count": 103,
   "id": "1ad0c5c4",
   "metadata": {},
   "outputs": [],
   "source": [
    "df_test = [text_to_word_sequence(_) for _ in df_test.text]"
   ]
  },
  {
   "cell_type": "code",
   "execution_count": 105,
   "id": "d8454784",
   "metadata": {},
   "outputs": [],
   "source": [
    "df_test_token = tokenizer.texts_to_sequences(df_test)\n",
    "\n",
    "df_token_pad = pad_sequences(df_test_token, maxlen=50, dtype='float32', padding=\"post\")\n"
   ]
  },
  {
   "cell_type": "code",
   "execution_count": 126,
   "id": "b014d19c",
   "metadata": {},
   "outputs": [
    {
     "name": "stdout",
     "output_type": "stream",
     "text": [
      "16/16 [==============================] - 0s 8ms/step\n"
     ]
    }
   ],
   "source": [
    "df_pred = model_cnn.predict(df_token_pad)"
   ]
  },
  {
   "cell_type": "code",
   "execution_count": 127,
   "id": "13017544",
   "metadata": {},
   "outputs": [],
   "source": [
    "df_pred = [0 if pred <0.5 else 1 for pred in df_pred]"
   ]
  },
  {
   "cell_type": "code",
   "execution_count": 129,
   "id": "3124d721",
   "metadata": {},
   "outputs": [],
   "source": [
    "df_pred = ['Negative' if sent == 0 else 'Positive' for sent in df_pred]\n"
   ]
  },
  {
   "cell_type": "code",
   "execution_count": 130,
   "id": "f2a203a7",
   "metadata": {},
   "outputs": [],
   "source": [
    "from collections import Counter\n"
   ]
  },
  {
   "cell_type": "code",
   "execution_count": 132,
   "id": "a14999f3",
   "metadata": {},
   "outputs": [
    {
     "data": {
      "text/plain": [
       "Counter({'Negative': 72, 'Positive': 428})"
      ]
     },
     "execution_count": 132,
     "metadata": {},
     "output_type": "execute_result"
    }
   ],
   "source": [
    "Counter(df_pred)"
   ]
  },
  {
   "cell_type": "code",
   "execution_count": 36,
   "id": "4c2bbb73",
   "metadata": {},
   "outputs": [
    {
     "name": "stdout",
     "output_type": "stream",
     "text": [
      "119/119 [==============================] - 0s 745us/step\n"
     ]
    }
   ],
   "source": [
    "y_pred = model_cnn.predict(X_test_pad)"
   ]
  },
  {
   "cell_type": "code",
   "execution_count": 37,
   "id": "9394e387",
   "metadata": {},
   "outputs": [
    {
     "data": {
      "text/plain": [
       "array([[0.19294204],\n",
       "       [0.03920677],\n",
       "       [0.9462042 ],\n",
       "       ...,\n",
       "       [0.04279505],\n",
       "       [0.08128761],\n",
       "       [0.25588748]], dtype=float32)"
      ]
     },
     "execution_count": 37,
     "metadata": {},
     "output_type": "execute_result"
    }
   ],
   "source": [
    "y_pred"
   ]
  },
  {
   "cell_type": "code",
   "execution_count": 39,
   "id": "618e3a4f",
   "metadata": {},
   "outputs": [
    {
     "name": "stderr",
     "output_type": "stream",
     "text": [
      "WARNING:absl:Found untraced functions such as _jit_compiled_convolution_op while saving (showing 1 of 1). These functions will not be directly callable after loading.\n"
     ]
    },
    {
     "name": "stdout",
     "output_type": "stream",
     "text": [
      "INFO:tensorflow:Assets written to: CNN_model/assets\n"
     ]
    },
    {
     "name": "stderr",
     "output_type": "stream",
     "text": [
      "INFO:tensorflow:Assets written to: CNN_model/assets\n"
     ]
    }
   ],
   "source": [
    "model_cnn.save(\"CNN_model\")"
   ]
  },
  {
   "cell_type": "code",
   "execution_count": 38,
   "id": "0e3b35a8",
   "metadata": {},
   "outputs": [],
   "source": [
    "y_pred = np.round(y_pred)"
   ]
  },
  {
   "cell_type": "code",
   "execution_count": 61,
   "id": "dc865b43",
   "metadata": {},
   "outputs": [],
   "source": [
    "y_pred = y_pred+1"
   ]
  },
  {
   "cell_type": "code",
   "execution_count": 81,
   "id": "60eab307",
   "metadata": {},
   "outputs": [],
   "source": [
    "y_pred\n",
    "y_sent = ['Negative' if sent == 1 else 'Positive' for sent in y_pred]\n",
    "\n"
   ]
  },
  {
   "cell_type": "code",
   "execution_count": 73,
   "id": "d8816496",
   "metadata": {},
   "outputs": [],
   "source": [
    "y_sent = pd.DataFrame(y_sent)"
   ]
  },
  {
   "cell_type": "code",
   "execution_count": 78,
   "id": "08057cff",
   "metadata": {
    "scrolled": true
   },
   "outputs": [],
   "source": [
    "result = y_sent[0].value_counts(normalize=True)"
   ]
  },
  {
   "cell_type": "code",
   "execution_count": 80,
   "id": "710bcc44",
   "metadata": {},
   "outputs": [
    {
     "data": {
      "text/plain": [
       "Negative    0.561842\n",
       "Positive    0.438158\n",
       "Name: 0, dtype: float64"
      ]
     },
     "execution_count": 80,
     "metadata": {},
     "output_type": "execute_result"
    }
   ],
   "source": [
    "result"
   ]
  },
  {
   "cell_type": "code",
   "execution_count": 49,
   "id": "5f59e2ca",
   "metadata": {},
   "outputs": [],
   "source": [
    "X_test = pd.DataFrame(X_test)"
   ]
  },
  {
   "cell_type": "code",
   "execution_count": 50,
   "id": "9bc4185f",
   "metadata": {},
   "outputs": [],
   "source": [
    "X_test['label_pred'] = y_pred"
   ]
  },
  {
   "cell_type": "code",
   "execution_count": 51,
   "id": "8526686c",
   "metadata": {},
   "outputs": [
    {
     "data": {
      "text/html": [
       "<div>\n",
       "<style scoped>\n",
       "    .dataframe tbody tr th:only-of-type {\n",
       "        vertical-align: middle;\n",
       "    }\n",
       "\n",
       "    .dataframe tbody tr th {\n",
       "        vertical-align: top;\n",
       "    }\n",
       "\n",
       "    .dataframe thead th {\n",
       "        text-align: right;\n",
       "    }\n",
       "</style>\n",
       "<table border=\"1\" class=\"dataframe\">\n",
       "  <thead>\n",
       "    <tr style=\"text-align: right;\">\n",
       "      <th></th>\n",
       "      <th>text</th>\n",
       "      <th>label_pred</th>\n",
       "    </tr>\n",
       "  </thead>\n",
       "  <tbody>\n",
       "    <tr>\n",
       "      <th>0</th>\n",
       "      <td>Contrary to other reviews, I have zero complai...</td>\n",
       "      <td>1.0</td>\n",
       "    </tr>\n",
       "    <tr>\n",
       "      <th>1</th>\n",
       "      <td>Last summer I had an appointment to get new ti...</td>\n",
       "      <td>1.0</td>\n",
       "    </tr>\n",
       "    <tr>\n",
       "      <th>2</th>\n",
       "      <td>Friendly staff, same starbucks fair you get an...</td>\n",
       "      <td>2.0</td>\n",
       "    </tr>\n",
       "    <tr>\n",
       "      <th>3</th>\n",
       "      <td>The food is good. Unfortunately the service is...</td>\n",
       "      <td>1.0</td>\n",
       "    </tr>\n",
       "    <tr>\n",
       "      <th>4</th>\n",
       "      <td>Even when we didn't have a car Filene's Baseme...</td>\n",
       "      <td>2.0</td>\n",
       "    </tr>\n",
       "    <tr>\n",
       "      <th>...</th>\n",
       "      <td>...</td>\n",
       "      <td>...</td>\n",
       "    </tr>\n",
       "    <tr>\n",
       "      <th>3795</th>\n",
       "      <td>Came here on a Tues night at 6pm. Warning. If ...</td>\n",
       "      <td>1.0</td>\n",
       "    </tr>\n",
       "    <tr>\n",
       "      <th>3796</th>\n",
       "      <td>I've been here since my teeny bopper years and...</td>\n",
       "      <td>2.0</td>\n",
       "    </tr>\n",
       "    <tr>\n",
       "      <th>3797</th>\n",
       "      <td>Friendly staff and quick service for auto tint...</td>\n",
       "      <td>1.0</td>\n",
       "    </tr>\n",
       "    <tr>\n",
       "      <th>3798</th>\n",
       "      <td>Please be warned! Do not patronize Home Fabric...</td>\n",
       "      <td>1.0</td>\n",
       "    </tr>\n",
       "    <tr>\n",
       "      <th>3799</th>\n",
       "      <td>I only went for an event in the back room. As ...</td>\n",
       "      <td>1.0</td>\n",
       "    </tr>\n",
       "  </tbody>\n",
       "</table>\n",
       "<p>3800 rows × 2 columns</p>\n",
       "</div>"
      ],
      "text/plain": [
       "                                                   text  label_pred\n",
       "0     Contrary to other reviews, I have zero complai...         1.0\n",
       "1     Last summer I had an appointment to get new ti...         1.0\n",
       "2     Friendly staff, same starbucks fair you get an...         2.0\n",
       "3     The food is good. Unfortunately the service is...         1.0\n",
       "4     Even when we didn't have a car Filene's Baseme...         2.0\n",
       "...                                                 ...         ...\n",
       "3795  Came here on a Tues night at 6pm. Warning. If ...         1.0\n",
       "3796  I've been here since my teeny bopper years and...         2.0\n",
       "3797  Friendly staff and quick service for auto tint...         1.0\n",
       "3798  Please be warned! Do not patronize Home Fabric...         1.0\n",
       "3799  I only went for an event in the back room. As ...         1.0\n",
       "\n",
       "[3800 rows x 2 columns]"
      ]
     },
     "execution_count": 51,
     "metadata": {},
     "output_type": "execute_result"
    }
   ],
   "source": [
    "X_test"
   ]
  },
  {
   "cell_type": "code",
   "execution_count": 52,
   "id": "3f3ee574",
   "metadata": {},
   "outputs": [],
   "source": [
    "X_test['sentiment'] = X_test['label_pred'].apply(lambda x: 'negative' if x == 1.0 else 'positive')"
   ]
  },
  {
   "cell_type": "code",
   "execution_count": 53,
   "id": "b776a6a6",
   "metadata": {},
   "outputs": [
    {
     "data": {
      "text/html": [
       "<div>\n",
       "<style scoped>\n",
       "    .dataframe tbody tr th:only-of-type {\n",
       "        vertical-align: middle;\n",
       "    }\n",
       "\n",
       "    .dataframe tbody tr th {\n",
       "        vertical-align: top;\n",
       "    }\n",
       "\n",
       "    .dataframe thead th {\n",
       "        text-align: right;\n",
       "    }\n",
       "</style>\n",
       "<table border=\"1\" class=\"dataframe\">\n",
       "  <thead>\n",
       "    <tr style=\"text-align: right;\">\n",
       "      <th></th>\n",
       "      <th>text</th>\n",
       "      <th>label_pred</th>\n",
       "      <th>sentiment</th>\n",
       "    </tr>\n",
       "  </thead>\n",
       "  <tbody>\n",
       "    <tr>\n",
       "      <th>0</th>\n",
       "      <td>Contrary to other reviews, I have zero complai...</td>\n",
       "      <td>1.0</td>\n",
       "      <td>negative</td>\n",
       "    </tr>\n",
       "    <tr>\n",
       "      <th>1</th>\n",
       "      <td>Last summer I had an appointment to get new ti...</td>\n",
       "      <td>1.0</td>\n",
       "      <td>negative</td>\n",
       "    </tr>\n",
       "    <tr>\n",
       "      <th>2</th>\n",
       "      <td>Friendly staff, same starbucks fair you get an...</td>\n",
       "      <td>2.0</td>\n",
       "      <td>positive</td>\n",
       "    </tr>\n",
       "    <tr>\n",
       "      <th>3</th>\n",
       "      <td>The food is good. Unfortunately the service is...</td>\n",
       "      <td>1.0</td>\n",
       "      <td>negative</td>\n",
       "    </tr>\n",
       "    <tr>\n",
       "      <th>4</th>\n",
       "      <td>Even when we didn't have a car Filene's Baseme...</td>\n",
       "      <td>2.0</td>\n",
       "      <td>positive</td>\n",
       "    </tr>\n",
       "    <tr>\n",
       "      <th>...</th>\n",
       "      <td>...</td>\n",
       "      <td>...</td>\n",
       "      <td>...</td>\n",
       "    </tr>\n",
       "    <tr>\n",
       "      <th>3795</th>\n",
       "      <td>Came here on a Tues night at 6pm. Warning. If ...</td>\n",
       "      <td>1.0</td>\n",
       "      <td>negative</td>\n",
       "    </tr>\n",
       "    <tr>\n",
       "      <th>3796</th>\n",
       "      <td>I've been here since my teeny bopper years and...</td>\n",
       "      <td>2.0</td>\n",
       "      <td>positive</td>\n",
       "    </tr>\n",
       "    <tr>\n",
       "      <th>3797</th>\n",
       "      <td>Friendly staff and quick service for auto tint...</td>\n",
       "      <td>1.0</td>\n",
       "      <td>negative</td>\n",
       "    </tr>\n",
       "    <tr>\n",
       "      <th>3798</th>\n",
       "      <td>Please be warned! Do not patronize Home Fabric...</td>\n",
       "      <td>1.0</td>\n",
       "      <td>negative</td>\n",
       "    </tr>\n",
       "    <tr>\n",
       "      <th>3799</th>\n",
       "      <td>I only went for an event in the back room. As ...</td>\n",
       "      <td>1.0</td>\n",
       "      <td>negative</td>\n",
       "    </tr>\n",
       "  </tbody>\n",
       "</table>\n",
       "<p>3800 rows × 3 columns</p>\n",
       "</div>"
      ],
      "text/plain": [
       "                                                   text  label_pred sentiment\n",
       "0     Contrary to other reviews, I have zero complai...         1.0  negative\n",
       "1     Last summer I had an appointment to get new ti...         1.0  negative\n",
       "2     Friendly staff, same starbucks fair you get an...         2.0  positive\n",
       "3     The food is good. Unfortunately the service is...         1.0  negative\n",
       "4     Even when we didn't have a car Filene's Baseme...         2.0  positive\n",
       "...                                                 ...         ...       ...\n",
       "3795  Came here on a Tues night at 6pm. Warning. If ...         1.0  negative\n",
       "3796  I've been here since my teeny bopper years and...         2.0  positive\n",
       "3797  Friendly staff and quick service for auto tint...         1.0  negative\n",
       "3798  Please be warned! Do not patronize Home Fabric...         1.0  negative\n",
       "3799  I only went for an event in the back room. As ...         1.0  negative\n",
       "\n",
       "[3800 rows x 3 columns]"
      ]
     },
     "execution_count": 53,
     "metadata": {},
     "output_type": "execute_result"
    }
   ],
   "source": [
    "X_test"
   ]
  },
  {
   "cell_type": "code",
   "execution_count": 54,
   "id": "771516ee",
   "metadata": {
    "scrolled": true
   },
   "outputs": [
    {
     "data": {
      "text/html": [
       "<div>\n",
       "<style scoped>\n",
       "    .dataframe tbody tr th:only-of-type {\n",
       "        vertical-align: middle;\n",
       "    }\n",
       "\n",
       "    .dataframe tbody tr th {\n",
       "        vertical-align: top;\n",
       "    }\n",
       "\n",
       "    .dataframe thead th {\n",
       "        text-align: right;\n",
       "    }\n",
       "</style>\n",
       "<table border=\"1\" class=\"dataframe\">\n",
       "  <thead>\n",
       "    <tr style=\"text-align: right;\">\n",
       "      <th></th>\n",
       "      <th>text</th>\n",
       "      <th>sentiment</th>\n",
       "    </tr>\n",
       "  </thead>\n",
       "  <tbody>\n",
       "    <tr>\n",
       "      <th>0</th>\n",
       "      <td>Contrary to other reviews, I have zero complai...</td>\n",
       "      <td>negative</td>\n",
       "    </tr>\n",
       "    <tr>\n",
       "      <th>1</th>\n",
       "      <td>Last summer I had an appointment to get new ti...</td>\n",
       "      <td>negative</td>\n",
       "    </tr>\n",
       "    <tr>\n",
       "      <th>2</th>\n",
       "      <td>Friendly staff, same starbucks fair you get an...</td>\n",
       "      <td>positive</td>\n",
       "    </tr>\n",
       "    <tr>\n",
       "      <th>3</th>\n",
       "      <td>The food is good. Unfortunately the service is...</td>\n",
       "      <td>negative</td>\n",
       "    </tr>\n",
       "    <tr>\n",
       "      <th>4</th>\n",
       "      <td>Even when we didn't have a car Filene's Baseme...</td>\n",
       "      <td>positive</td>\n",
       "    </tr>\n",
       "    <tr>\n",
       "      <th>...</th>\n",
       "      <td>...</td>\n",
       "      <td>...</td>\n",
       "    </tr>\n",
       "    <tr>\n",
       "      <th>3795</th>\n",
       "      <td>Came here on a Tues night at 6pm. Warning. If ...</td>\n",
       "      <td>negative</td>\n",
       "    </tr>\n",
       "    <tr>\n",
       "      <th>3796</th>\n",
       "      <td>I've been here since my teeny bopper years and...</td>\n",
       "      <td>positive</td>\n",
       "    </tr>\n",
       "    <tr>\n",
       "      <th>3797</th>\n",
       "      <td>Friendly staff and quick service for auto tint...</td>\n",
       "      <td>negative</td>\n",
       "    </tr>\n",
       "    <tr>\n",
       "      <th>3798</th>\n",
       "      <td>Please be warned! Do not patronize Home Fabric...</td>\n",
       "      <td>negative</td>\n",
       "    </tr>\n",
       "    <tr>\n",
       "      <th>3799</th>\n",
       "      <td>I only went for an event in the back room. As ...</td>\n",
       "      <td>negative</td>\n",
       "    </tr>\n",
       "  </tbody>\n",
       "</table>\n",
       "<p>3800 rows × 2 columns</p>\n",
       "</div>"
      ],
      "text/plain": [
       "                                                   text sentiment\n",
       "0     Contrary to other reviews, I have zero complai...  negative\n",
       "1     Last summer I had an appointment to get new ti...  negative\n",
       "2     Friendly staff, same starbucks fair you get an...  positive\n",
       "3     The food is good. Unfortunately the service is...  negative\n",
       "4     Even when we didn't have a car Filene's Baseme...  positive\n",
       "...                                                 ...       ...\n",
       "3795  Came here on a Tues night at 6pm. Warning. If ...  negative\n",
       "3796  I've been here since my teeny bopper years and...  positive\n",
       "3797  Friendly staff and quick service for auto tint...  negative\n",
       "3798  Please be warned! Do not patronize Home Fabric...  negative\n",
       "3799  I only went for an event in the back room. As ...  negative\n",
       "\n",
       "[3800 rows x 2 columns]"
      ]
     },
     "execution_count": 54,
     "metadata": {},
     "output_type": "execute_result"
    }
   ],
   "source": [
    "X_test.drop(columns='label_pred')"
   ]
  },
  {
   "cell_type": "code",
   "execution_count": null,
   "id": "ea5e72ad",
   "metadata": {},
   "outputs": [],
   "source": []
  },
  {
   "cell_type": "code",
   "execution_count": 66,
   "id": "da9e2e76",
   "metadata": {},
   "outputs": [
    {
     "ename": "AttributeError",
     "evalue": "'list' object has no attribute 'sentiment'",
     "output_type": "error",
     "traceback": [
      "\u001b[0;31m---------------------------------------------------------------------------\u001b[0m",
      "\u001b[0;31mAttributeError\u001b[0m                            Traceback (most recent call last)",
      "Cell \u001b[0;32mIn [66], line 1\u001b[0m\n\u001b[0;32m----> 1\u001b[0m \u001b[43mX_test\u001b[49m\u001b[38;5;241;43m.\u001b[39;49m\u001b[43msentiment\u001b[49m\u001b[38;5;241m.\u001b[39mvalue_counts()\n",
      "\u001b[0;31mAttributeError\u001b[0m: 'list' object has no attribute 'sentiment'"
     ]
    }
   ],
   "source": [
    "X_test.sentiment.value_counts()"
   ]
  },
  {
   "cell_type": "code",
   "execution_count": null,
   "id": "b559f7aa",
   "metadata": {},
   "outputs": [],
   "source": []
  }
 ],
 "metadata": {
  "kernelspec": {
   "display_name": "Python 3 (ipykernel)",
   "language": "python",
   "name": "python3"
  },
  "language_info": {
   "codemirror_mode": {
    "name": "ipython",
    "version": 3
   },
   "file_extension": ".py",
   "mimetype": "text/x-python",
   "name": "python",
   "nbconvert_exporter": "python",
   "pygments_lexer": "ipython3",
   "version": "3.10.6"
  },
  "toc": {
   "base_numbering": 1,
   "nav_menu": {},
   "number_sections": true,
   "sideBar": true,
   "skip_h1_title": false,
   "title_cell": "Table of Contents",
   "title_sidebar": "Contents",
   "toc_cell": false,
   "toc_position": {},
   "toc_section_display": true,
   "toc_window_display": false
  },
  "vscode": {
   "interpreter": {
    "hash": "ea0e7ef60c28ff33ddfdfe82d339f0b9700433ae3bfa8cf7780f713fc04da71b"
   }
  }
 },
 "nbformat": 4,
 "nbformat_minor": 5
}
