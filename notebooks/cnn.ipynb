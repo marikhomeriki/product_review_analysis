{
 "cells": [
  {
   "cell_type": "code",
   "execution_count": 2,
   "id": "cc24506c",
   "metadata": {},
   "outputs": [],
   "source": [
    "import pandas as pd\n",
    "import os\n",
    "import numpy as np"
   ]
  },
  {
   "cell_type": "code",
   "execution_count": 3,
   "id": "6f98b488",
   "metadata": {},
   "outputs": [],
   "source": [
    "df = pd.read_csv('/Users/marikhomeriki/code/marikhomeriki/raw_data/data_mc.csv', header=None)"
   ]
  },
  {
   "cell_type": "code",
   "execution_count": 6,
   "id": "2a4e2faf",
   "metadata": {},
   "outputs": [],
   "source": [
    "df_test = pd.read_csv('/Users/marikhomeriki/code/marikhomeriki/raw_data/test.csv', header=None)"
   ]
  },
  {
   "cell_type": "code",
   "execution_count": 4,
   "id": "ba10f89c",
   "metadata": {},
   "outputs": [
    {
     "data": {
      "text/html": [
       "<div>\n",
       "<style scoped>\n",
       "    .dataframe tbody tr th:only-of-type {\n",
       "        vertical-align: middle;\n",
       "    }\n",
       "\n",
       "    .dataframe tbody tr th {\n",
       "        vertical-align: top;\n",
       "    }\n",
       "\n",
       "    .dataframe thead th {\n",
       "        text-align: right;\n",
       "    }\n",
       "</style>\n",
       "<table border=\"1\" class=\"dataframe\">\n",
       "  <thead>\n",
       "    <tr style=\"text-align: right;\">\n",
       "      <th></th>\n",
       "      <th>0</th>\n",
       "    </tr>\n",
       "  </thead>\n",
       "  <tbody>\n",
       "    <tr>\n",
       "      <th>0</th>\n",
       "      <td>I'm not a huge mcds lover, but I've been to be...</td>\n",
       "    </tr>\n",
       "    <tr>\n",
       "      <th>1</th>\n",
       "      <td>Terrible customer service. Î¾I came in at 9:30...</td>\n",
       "    </tr>\n",
       "    <tr>\n",
       "      <th>2</th>\n",
       "      <td>First they \"lost\" my order, actually they gave...</td>\n",
       "    </tr>\n",
       "    <tr>\n",
       "      <th>3</th>\n",
       "      <td>I see I'm not the only one giving 1 star. Only...</td>\n",
       "    </tr>\n",
       "    <tr>\n",
       "      <th>4</th>\n",
       "      <td>Well, it's McDonald's, so you know what the fo...</td>\n",
       "    </tr>\n",
       "  </tbody>\n",
       "</table>\n",
       "</div>"
      ],
      "text/plain": [
       "                                                   0\n",
       "0  I'm not a huge mcds lover, but I've been to be...\n",
       "1  Terrible customer service. Î¾I came in at 9:30...\n",
       "2  First they \"lost\" my order, actually they gave...\n",
       "3  I see I'm not the only one giving 1 star. Only...\n",
       "4  Well, it's McDonald's, so you know what the fo..."
      ]
     },
     "execution_count": 4,
     "metadata": {},
     "output_type": "execute_result"
    }
   ],
   "source": [
    "df.head()"
   ]
  },
  {
   "cell_type": "code",
   "execution_count": 7,
   "id": "881091ce",
   "metadata": {},
   "outputs": [],
   "source": [
    "df_test = df_test.rename({0: 'label', 1: 'text'}, axis = 1)"
   ]
  },
  {
   "cell_type": "code",
   "execution_count": 8,
   "id": "cbd3e089",
   "metadata": {},
   "outputs": [],
   "source": [
    "df = df.rename({0: 'label', 1: 'text'}, axis = 1)"
   ]
  },
  {
   "cell_type": "code",
   "execution_count": 9,
   "id": "1d0b5428",
   "metadata": {},
   "outputs": [
    {
     "data": {
      "text/html": [
       "<div>\n",
       "<style scoped>\n",
       "    .dataframe tbody tr th:only-of-type {\n",
       "        vertical-align: middle;\n",
       "    }\n",
       "\n",
       "    .dataframe tbody tr th {\n",
       "        vertical-align: top;\n",
       "    }\n",
       "\n",
       "    .dataframe thead th {\n",
       "        text-align: right;\n",
       "    }\n",
       "</style>\n",
       "<table border=\"1\" class=\"dataframe\">\n",
       "  <thead>\n",
       "    <tr style=\"text-align: right;\">\n",
       "      <th></th>\n",
       "      <th>label</th>\n",
       "      <th>text</th>\n",
       "    </tr>\n",
       "  </thead>\n",
       "  <tbody>\n",
       "    <tr>\n",
       "      <th>0</th>\n",
       "      <td>2</td>\n",
       "      <td>Contrary to other reviews, I have zero complai...</td>\n",
       "    </tr>\n",
       "    <tr>\n",
       "      <th>1</th>\n",
       "      <td>1</td>\n",
       "      <td>Last summer I had an appointment to get new ti...</td>\n",
       "    </tr>\n",
       "    <tr>\n",
       "      <th>2</th>\n",
       "      <td>2</td>\n",
       "      <td>Friendly staff, same starbucks fair you get an...</td>\n",
       "    </tr>\n",
       "    <tr>\n",
       "      <th>3</th>\n",
       "      <td>1</td>\n",
       "      <td>The food is good. Unfortunately the service is...</td>\n",
       "    </tr>\n",
       "    <tr>\n",
       "      <th>4</th>\n",
       "      <td>2</td>\n",
       "      <td>Even when we didn't have a car Filene's Baseme...</td>\n",
       "    </tr>\n",
       "    <tr>\n",
       "      <th>...</th>\n",
       "      <td>...</td>\n",
       "      <td>...</td>\n",
       "    </tr>\n",
       "    <tr>\n",
       "      <th>37995</th>\n",
       "      <td>1</td>\n",
       "      <td>If I could give 0...I would.  Don't do it.</td>\n",
       "    </tr>\n",
       "    <tr>\n",
       "      <th>37996</th>\n",
       "      <td>2</td>\n",
       "      <td>Items Selected:\\nChocolate Cinnamon Horn\\nSmal...</td>\n",
       "    </tr>\n",
       "    <tr>\n",
       "      <th>37997</th>\n",
       "      <td>1</td>\n",
       "      <td>Expensive lunch meals.  Fried pickles were goo...</td>\n",
       "    </tr>\n",
       "    <tr>\n",
       "      <th>37998</th>\n",
       "      <td>1</td>\n",
       "      <td>Highly overpriced and food was cold. Our waitr...</td>\n",
       "    </tr>\n",
       "    <tr>\n",
       "      <th>37999</th>\n",
       "      <td>1</td>\n",
       "      <td>I have been using this company for 11 months. ...</td>\n",
       "    </tr>\n",
       "  </tbody>\n",
       "</table>\n",
       "<p>38000 rows × 2 columns</p>\n",
       "</div>"
      ],
      "text/plain": [
       "       label                                               text\n",
       "0          2  Contrary to other reviews, I have zero complai...\n",
       "1          1  Last summer I had an appointment to get new ti...\n",
       "2          2  Friendly staff, same starbucks fair you get an...\n",
       "3          1  The food is good. Unfortunately the service is...\n",
       "4          2  Even when we didn't have a car Filene's Baseme...\n",
       "...      ...                                                ...\n",
       "37995      1         If I could give 0...I would.  Don't do it.\n",
       "37996      2  Items Selected:\\nChocolate Cinnamon Horn\\nSmal...\n",
       "37997      1  Expensive lunch meals.  Fried pickles were goo...\n",
       "37998      1  Highly overpriced and food was cold. Our waitr...\n",
       "37999      1  I have been using this company for 11 months. ...\n",
       "\n",
       "[38000 rows x 2 columns]"
      ]
     },
     "execution_count": 9,
     "metadata": {},
     "output_type": "execute_result"
    }
   ],
   "source": [
    "df_test"
   ]
  },
  {
   "cell_type": "code",
   "execution_count": 10,
   "id": "9e438392",
   "metadata": {},
   "outputs": [],
   "source": [
    "from tensorflow.keras.preprocessing.text import text_to_word_sequence\n",
    "\n",
    "def load_data(data, percentage_of_sentences=None):\n",
    "    \n",
    "    train_sentences = data['text']\n",
    "    y_train = data['label']\n",
    "    \n",
    "    \n",
    "    # Take only a given percentage of the entire data\n",
    "    if percentage_of_sentences is not None:\n",
    "        assert(percentage_of_sentences> 0 and percentage_of_sentences<=100)\n",
    "        \n",
    "        len_train = int(percentage_of_sentences/100*len(train_sentences))\n",
    "        train_sentences, y_train = train_sentences[:len_train], y_train[:len_train]\n",
    "    X_train = [text_to_word_sequence(_) for _ in train_sentences]\n",
    "    \n",
    "  \n",
    "    return X_train, y_train\n",
    "\n"
   ]
  },
  {
   "cell_type": "code",
   "execution_count": 11,
   "id": "cbe2431c",
   "metadata": {},
   "outputs": [],
   "source": [
    "X_train, y_train = load_data(df, percentage_of_sentences=10)"
   ]
  },
  {
   "cell_type": "code",
   "execution_count": null,
   "id": "f4bdb6aa",
   "metadata": {},
   "outputs": [],
   "source": []
  },
  {
   "cell_type": "code",
   "execution_count": 12,
   "id": "eb7488d3",
   "metadata": {},
   "outputs": [],
   "source": [
    "X_test, y_test = load_data(df_test, percentage_of_sentences=10)"
   ]
  },
  {
   "cell_type": "code",
   "execution_count": null,
   "id": "5dd4e993",
   "metadata": {},
   "outputs": [],
   "source": []
  },
  {
   "cell_type": "code",
   "execution_count": 13,
   "id": "02b74304",
   "metadata": {},
   "outputs": [],
   "source": [
    "len_train = int(10/100*len(df_test['text']))\n",
    "X_test = df_test['text']\n",
    "X_test = X_test[:len_train]"
   ]
  },
  {
   "cell_type": "code",
   "execution_count": 14,
   "id": "0dfd9efb",
   "metadata": {},
   "outputs": [
    {
     "data": {
      "text/plain": [
       "0       Contrary to other reviews, I have zero complai...\n",
       "1       Last summer I had an appointment to get new ti...\n",
       "2       Friendly staff, same starbucks fair you get an...\n",
       "3       The food is good. Unfortunately the service is...\n",
       "4       Even when we didn't have a car Filene's Baseme...\n",
       "                              ...                        \n",
       "3795    Came here on a Tues night at 6pm. Warning. If ...\n",
       "3796    I've been here since my teeny bopper years and...\n",
       "3797    Friendly staff and quick service for auto tint...\n",
       "3798    Please be warned! Do not patronize Home Fabric...\n",
       "3799    I only went for an event in the back room. As ...\n",
       "Name: text, Length: 3800, dtype: object"
      ]
     },
     "execution_count": 14,
     "metadata": {},
     "output_type": "execute_result"
    }
   ],
   "source": [
    "X_test"
   ]
  },
  {
   "cell_type": "code",
   "execution_count": 15,
   "id": "9a2c941c",
   "metadata": {},
   "outputs": [],
   "source": [
    "y_test_adj = y_test -1"
   ]
  },
  {
   "cell_type": "code",
   "execution_count": 16,
   "id": "2e8f9aea",
   "metadata": {},
   "outputs": [],
   "source": [
    "from tensorflow.keras.preprocessing.text import Tokenizer\n",
    "from tensorflow.keras.preprocessing.sequence import pad_sequences\n",
    "\n",
    "tokenizer = Tokenizer()\n",
    "tokenizer.fit_on_texts(X_train)\n",
    "    \n",
    "# We apply the tokenization to the train and test set\n",
    "X_train_token = tokenizer.texts_to_sequences(X_train)\n",
    "X_test_token = tokenizer.texts_to_sequences(X_test)\n",
    "\n",
    "\n",
    "X_train_pad = pad_sequences(X_train_token, maxlen=50, dtype='float32', padding=\"post\")\n",
    "X_test_pad = pad_sequences(X_test_token, maxlen=50, dtype='float32', padding=\"post\")\n",
    "\n",
    "vocab_size = len(tokenizer.word_index)"
   ]
  },
  {
   "cell_type": "code",
   "execution_count": 17,
   "id": "5041e6d0",
   "metadata": {},
   "outputs": [],
   "source": [
    "from tensorflow.keras import Sequential, layers\n",
    "\n",
    "def init_cnn_model(vocab_size):\n",
    "    model = Sequential()\n",
    "    model.add(layers.Embedding(input_dim=vocab_size + 1, output_dim=20, mask_zero=True, input_length=50))\n",
    "    model.add(layers.Conv1D(32, 3))\n",
    "    model.add(layers.Flatten())\n",
    "    model.add(layers.Dense(50, activation=\"relu\"))\n",
    "    model.add(layers.Dense(1, activation='sigmoid'))\n",
    "\n",
    "    model.compile(loss='binary_crossentropy', optimizer='adam', metrics=['accuracy'])\n",
    "    return model\n",
    "\n",
    "model_cnn = init_cnn_model(vocab_size)"
   ]
  },
  {
   "cell_type": "code",
   "execution_count": 18,
   "id": "7cac7020",
   "metadata": {},
   "outputs": [
    {
     "name": "stdout",
     "output_type": "stream",
     "text": [
      "Model: \"sequential\"\n",
      "_________________________________________________________________\n",
      " Layer (type)                Output Shape              Param #   \n",
      "=================================================================\n",
      " embedding (Embedding)       (None, 50, 20)            1378040   \n",
      "                                                                 \n",
      " conv1d (Conv1D)             (None, 48, 32)            1952      \n",
      "                                                                 \n",
      " flatten (Flatten)           (None, 1536)              0         \n",
      "                                                                 \n",
      " dense (Dense)               (None, 50)                76850     \n",
      "                                                                 \n",
      " dense_1 (Dense)             (None, 1)                 51        \n",
      "                                                                 \n",
      "=================================================================\n",
      "Total params: 1,456,893\n",
      "Trainable params: 1,456,893\n",
      "Non-trainable params: 0\n",
      "_________________________________________________________________\n"
     ]
    }
   ],
   "source": [
    "model_cnn.summary()"
   ]
  },
  {
   "cell_type": "code",
   "execution_count": 19,
   "id": "d926d329",
   "metadata": {},
   "outputs": [],
   "source": [
    "y_train_adj = y_train -1"
   ]
  },
  {
   "cell_type": "code",
   "execution_count": 20,
   "id": "2a142dae",
   "metadata": {},
   "outputs": [
    {
     "name": "stdout",
     "output_type": "stream",
     "text": [
      "Epoch 1/20\n"
     ]
    },
    {
     "name": "stderr",
     "output_type": "stream",
     "text": [
      "2022-12-03 22:27:09.232442: W tensorflow/core/platform/profile_utils/cpu_utils.cc:128] Failed to get CPU frequency: 0 Hz\n"
     ]
    },
    {
     "name": "stdout",
     "output_type": "stream",
     "text": [
      "1225/1225 [==============================] - 7s 6ms/step - loss: 0.3580 - accuracy: 0.8371 - val_loss: 0.2827 - val_accuracy: 0.8827\n",
      "Epoch 2/20\n",
      "1225/1225 [==============================] - 7s 6ms/step - loss: 0.1992 - accuracy: 0.9201 - val_loss: 0.3171 - val_accuracy: 0.8716\n",
      "Epoch 3/20\n",
      "1225/1225 [==============================] - 6s 5ms/step - loss: 0.0810 - accuracy: 0.9699 - val_loss: 0.4644 - val_accuracy: 0.8505\n",
      "Epoch 4/20\n",
      "1225/1225 [==============================] - 6s 5ms/step - loss: 0.0257 - accuracy: 0.9914 - val_loss: 0.6262 - val_accuracy: 0.8542\n",
      "Epoch 5/20\n",
      "1225/1225 [==============================] - 7s 5ms/step - loss: 0.0129 - accuracy: 0.9955 - val_loss: 0.6918 - val_accuracy: 0.8411\n",
      "Epoch 6/20\n",
      "1225/1225 [==============================] - 6s 5ms/step - loss: 0.0105 - accuracy: 0.9961 - val_loss: 0.9219 - val_accuracy: 0.8485\n"
     ]
    },
    {
     "data": {
      "text/plain": [
       "<keras.callbacks.History at 0x2ec334b50>"
      ]
     },
     "execution_count": 20,
     "metadata": {},
     "output_type": "execute_result"
    }
   ],
   "source": [
    "from tensorflow.keras.callbacks import EarlyStopping\n",
    "\n",
    "es = EarlyStopping(patience=5, restore_best_weights=True)\n",
    "\n",
    "model_cnn.fit(X_train_pad, y_train_adj, \n",
    "          epochs=20, \n",
    "          batch_size=32,\n",
    "          validation_split=0.3,\n",
    "          callbacks=[es]\n",
    "         )\n"
   ]
  },
  {
   "cell_type": "code",
   "execution_count": 21,
   "id": "bc7445a5",
   "metadata": {},
   "outputs": [
    {
     "name": "stdout",
     "output_type": "stream",
     "text": [
      "119/119 [==============================] - 0s 633us/step - loss: 0.2794 - accuracy: 0.8829\n"
     ]
    }
   ],
   "source": [
    "res = model_cnn.evaluate(X_test_pad, y_test_adj)"
   ]
  },
  {
   "cell_type": "code",
   "execution_count": 22,
   "id": "4c2bbb73",
   "metadata": {},
   "outputs": [
    {
     "name": "stdout",
     "output_type": "stream",
     "text": [
      "119/119 [==============================] - 0s 626us/step\n"
     ]
    }
   ],
   "source": [
    "y_pred = model_cnn.predict(X_test_pad)"
   ]
  },
  {
   "cell_type": "code",
   "execution_count": 23,
   "id": "9394e387",
   "metadata": {},
   "outputs": [
    {
     "data": {
      "text/plain": [
       "array([[0.3370884 ],\n",
       "       [0.01962742],\n",
       "       [0.96878624],\n",
       "       ...,\n",
       "       [0.03655507],\n",
       "       [0.04790182],\n",
       "       [0.28231007]], dtype=float32)"
      ]
     },
     "execution_count": 23,
     "metadata": {},
     "output_type": "execute_result"
    }
   ],
   "source": [
    "y_pred"
   ]
  },
  {
   "cell_type": "code",
   "execution_count": 24,
   "id": "0e3b35a8",
   "metadata": {},
   "outputs": [],
   "source": [
    "y_pred = np.round(y_pred)"
   ]
  },
  {
   "cell_type": "code",
   "execution_count": 25,
   "id": "dc865b43",
   "metadata": {},
   "outputs": [],
   "source": [
    "y_pred = y_pred+1"
   ]
  },
  {
   "cell_type": "code",
   "execution_count": 26,
   "id": "d8816496",
   "metadata": {},
   "outputs": [],
   "source": [
    "y_pred = pd.DataFrame(y_pred)"
   ]
  },
  {
   "cell_type": "code",
   "execution_count": 27,
   "id": "08057cff",
   "metadata": {},
   "outputs": [
    {
     "data": {
      "text/html": [
       "<div>\n",
       "<style scoped>\n",
       "    .dataframe tbody tr th:only-of-type {\n",
       "        vertical-align: middle;\n",
       "    }\n",
       "\n",
       "    .dataframe tbody tr th {\n",
       "        vertical-align: top;\n",
       "    }\n",
       "\n",
       "    .dataframe thead th {\n",
       "        text-align: right;\n",
       "    }\n",
       "</style>\n",
       "<table border=\"1\" class=\"dataframe\">\n",
       "  <thead>\n",
       "    <tr style=\"text-align: right;\">\n",
       "      <th></th>\n",
       "      <th>0</th>\n",
       "    </tr>\n",
       "  </thead>\n",
       "  <tbody>\n",
       "    <tr>\n",
       "      <th>0</th>\n",
       "      <td>1.0</td>\n",
       "    </tr>\n",
       "    <tr>\n",
       "      <th>1</th>\n",
       "      <td>1.0</td>\n",
       "    </tr>\n",
       "    <tr>\n",
       "      <th>2</th>\n",
       "      <td>2.0</td>\n",
       "    </tr>\n",
       "    <tr>\n",
       "      <th>3</th>\n",
       "      <td>1.0</td>\n",
       "    </tr>\n",
       "    <tr>\n",
       "      <th>4</th>\n",
       "      <td>1.0</td>\n",
       "    </tr>\n",
       "    <tr>\n",
       "      <th>...</th>\n",
       "      <td>...</td>\n",
       "    </tr>\n",
       "    <tr>\n",
       "      <th>3795</th>\n",
       "      <td>2.0</td>\n",
       "    </tr>\n",
       "    <tr>\n",
       "      <th>3796</th>\n",
       "      <td>2.0</td>\n",
       "    </tr>\n",
       "    <tr>\n",
       "      <th>3797</th>\n",
       "      <td>1.0</td>\n",
       "    </tr>\n",
       "    <tr>\n",
       "      <th>3798</th>\n",
       "      <td>1.0</td>\n",
       "    </tr>\n",
       "    <tr>\n",
       "      <th>3799</th>\n",
       "      <td>1.0</td>\n",
       "    </tr>\n",
       "  </tbody>\n",
       "</table>\n",
       "<p>3800 rows × 1 columns</p>\n",
       "</div>"
      ],
      "text/plain": [
       "        0\n",
       "0     1.0\n",
       "1     1.0\n",
       "2     2.0\n",
       "3     1.0\n",
       "4     1.0\n",
       "...   ...\n",
       "3795  2.0\n",
       "3796  2.0\n",
       "3797  1.0\n",
       "3798  1.0\n",
       "3799  1.0\n",
       "\n",
       "[3800 rows x 1 columns]"
      ]
     },
     "execution_count": 27,
     "metadata": {},
     "output_type": "execute_result"
    }
   ],
   "source": [
    "y_pred"
   ]
  },
  {
   "cell_type": "code",
   "execution_count": null,
   "id": "710bcc44",
   "metadata": {},
   "outputs": [],
   "source": []
  },
  {
   "cell_type": "code",
   "execution_count": 28,
   "id": "5f59e2ca",
   "metadata": {},
   "outputs": [],
   "source": [
    "X_test = pd.DataFrame(X_test)"
   ]
  },
  {
   "cell_type": "code",
   "execution_count": 29,
   "id": "9bc4185f",
   "metadata": {},
   "outputs": [],
   "source": [
    "X_test['label_pred'] = y_pred"
   ]
  },
  {
   "cell_type": "code",
   "execution_count": 30,
   "id": "8526686c",
   "metadata": {},
   "outputs": [
    {
     "data": {
      "text/html": [
       "<div>\n",
       "<style scoped>\n",
       "    .dataframe tbody tr th:only-of-type {\n",
       "        vertical-align: middle;\n",
       "    }\n",
       "\n",
       "    .dataframe tbody tr th {\n",
       "        vertical-align: top;\n",
       "    }\n",
       "\n",
       "    .dataframe thead th {\n",
       "        text-align: right;\n",
       "    }\n",
       "</style>\n",
       "<table border=\"1\" class=\"dataframe\">\n",
       "  <thead>\n",
       "    <tr style=\"text-align: right;\">\n",
       "      <th></th>\n",
       "      <th>text</th>\n",
       "      <th>label_pred</th>\n",
       "    </tr>\n",
       "  </thead>\n",
       "  <tbody>\n",
       "    <tr>\n",
       "      <th>0</th>\n",
       "      <td>Contrary to other reviews, I have zero complai...</td>\n",
       "      <td>1.0</td>\n",
       "    </tr>\n",
       "    <tr>\n",
       "      <th>1</th>\n",
       "      <td>Last summer I had an appointment to get new ti...</td>\n",
       "      <td>1.0</td>\n",
       "    </tr>\n",
       "    <tr>\n",
       "      <th>2</th>\n",
       "      <td>Friendly staff, same starbucks fair you get an...</td>\n",
       "      <td>2.0</td>\n",
       "    </tr>\n",
       "    <tr>\n",
       "      <th>3</th>\n",
       "      <td>The food is good. Unfortunately the service is...</td>\n",
       "      <td>1.0</td>\n",
       "    </tr>\n",
       "    <tr>\n",
       "      <th>4</th>\n",
       "      <td>Even when we didn't have a car Filene's Baseme...</td>\n",
       "      <td>1.0</td>\n",
       "    </tr>\n",
       "    <tr>\n",
       "      <th>...</th>\n",
       "      <td>...</td>\n",
       "      <td>...</td>\n",
       "    </tr>\n",
       "    <tr>\n",
       "      <th>3795</th>\n",
       "      <td>Came here on a Tues night at 6pm. Warning. If ...</td>\n",
       "      <td>2.0</td>\n",
       "    </tr>\n",
       "    <tr>\n",
       "      <th>3796</th>\n",
       "      <td>I've been here since my teeny bopper years and...</td>\n",
       "      <td>2.0</td>\n",
       "    </tr>\n",
       "    <tr>\n",
       "      <th>3797</th>\n",
       "      <td>Friendly staff and quick service for auto tint...</td>\n",
       "      <td>1.0</td>\n",
       "    </tr>\n",
       "    <tr>\n",
       "      <th>3798</th>\n",
       "      <td>Please be warned! Do not patronize Home Fabric...</td>\n",
       "      <td>1.0</td>\n",
       "    </tr>\n",
       "    <tr>\n",
       "      <th>3799</th>\n",
       "      <td>I only went for an event in the back room. As ...</td>\n",
       "      <td>1.0</td>\n",
       "    </tr>\n",
       "  </tbody>\n",
       "</table>\n",
       "<p>3800 rows × 2 columns</p>\n",
       "</div>"
      ],
      "text/plain": [
       "                                                   text  label_pred\n",
       "0     Contrary to other reviews, I have zero complai...         1.0\n",
       "1     Last summer I had an appointment to get new ti...         1.0\n",
       "2     Friendly staff, same starbucks fair you get an...         2.0\n",
       "3     The food is good. Unfortunately the service is...         1.0\n",
       "4     Even when we didn't have a car Filene's Baseme...         1.0\n",
       "...                                                 ...         ...\n",
       "3795  Came here on a Tues night at 6pm. Warning. If ...         2.0\n",
       "3796  I've been here since my teeny bopper years and...         2.0\n",
       "3797  Friendly staff and quick service for auto tint...         1.0\n",
       "3798  Please be warned! Do not patronize Home Fabric...         1.0\n",
       "3799  I only went for an event in the back room. As ...         1.0\n",
       "\n",
       "[3800 rows x 2 columns]"
      ]
     },
     "execution_count": 30,
     "metadata": {},
     "output_type": "execute_result"
    }
   ],
   "source": [
    "X_test"
   ]
  },
  {
   "cell_type": "code",
   "execution_count": 31,
   "id": "3f3ee574",
   "metadata": {},
   "outputs": [],
   "source": [
    "X_test['sentiment'] = X_test['label_pred'].apply(lambda x: 'negative' if x == 1.0 else 'positive')"
   ]
  },
  {
   "cell_type": "code",
   "execution_count": 32,
   "id": "b776a6a6",
   "metadata": {},
   "outputs": [
    {
     "data": {
      "text/html": [
       "<div>\n",
       "<style scoped>\n",
       "    .dataframe tbody tr th:only-of-type {\n",
       "        vertical-align: middle;\n",
       "    }\n",
       "\n",
       "    .dataframe tbody tr th {\n",
       "        vertical-align: top;\n",
       "    }\n",
       "\n",
       "    .dataframe thead th {\n",
       "        text-align: right;\n",
       "    }\n",
       "</style>\n",
       "<table border=\"1\" class=\"dataframe\">\n",
       "  <thead>\n",
       "    <tr style=\"text-align: right;\">\n",
       "      <th></th>\n",
       "      <th>text</th>\n",
       "      <th>label_pred</th>\n",
       "      <th>sentiment</th>\n",
       "    </tr>\n",
       "  </thead>\n",
       "  <tbody>\n",
       "    <tr>\n",
       "      <th>0</th>\n",
       "      <td>Contrary to other reviews, I have zero complai...</td>\n",
       "      <td>1.0</td>\n",
       "      <td>negative</td>\n",
       "    </tr>\n",
       "    <tr>\n",
       "      <th>1</th>\n",
       "      <td>Last summer I had an appointment to get new ti...</td>\n",
       "      <td>1.0</td>\n",
       "      <td>negative</td>\n",
       "    </tr>\n",
       "    <tr>\n",
       "      <th>2</th>\n",
       "      <td>Friendly staff, same starbucks fair you get an...</td>\n",
       "      <td>2.0</td>\n",
       "      <td>positive</td>\n",
       "    </tr>\n",
       "    <tr>\n",
       "      <th>3</th>\n",
       "      <td>The food is good. Unfortunately the service is...</td>\n",
       "      <td>1.0</td>\n",
       "      <td>negative</td>\n",
       "    </tr>\n",
       "    <tr>\n",
       "      <th>4</th>\n",
       "      <td>Even when we didn't have a car Filene's Baseme...</td>\n",
       "      <td>1.0</td>\n",
       "      <td>negative</td>\n",
       "    </tr>\n",
       "    <tr>\n",
       "      <th>...</th>\n",
       "      <td>...</td>\n",
       "      <td>...</td>\n",
       "      <td>...</td>\n",
       "    </tr>\n",
       "    <tr>\n",
       "      <th>3795</th>\n",
       "      <td>Came here on a Tues night at 6pm. Warning. If ...</td>\n",
       "      <td>2.0</td>\n",
       "      <td>positive</td>\n",
       "    </tr>\n",
       "    <tr>\n",
       "      <th>3796</th>\n",
       "      <td>I've been here since my teeny bopper years and...</td>\n",
       "      <td>2.0</td>\n",
       "      <td>positive</td>\n",
       "    </tr>\n",
       "    <tr>\n",
       "      <th>3797</th>\n",
       "      <td>Friendly staff and quick service for auto tint...</td>\n",
       "      <td>1.0</td>\n",
       "      <td>negative</td>\n",
       "    </tr>\n",
       "    <tr>\n",
       "      <th>3798</th>\n",
       "      <td>Please be warned! Do not patronize Home Fabric...</td>\n",
       "      <td>1.0</td>\n",
       "      <td>negative</td>\n",
       "    </tr>\n",
       "    <tr>\n",
       "      <th>3799</th>\n",
       "      <td>I only went for an event in the back room. As ...</td>\n",
       "      <td>1.0</td>\n",
       "      <td>negative</td>\n",
       "    </tr>\n",
       "  </tbody>\n",
       "</table>\n",
       "<p>3800 rows × 3 columns</p>\n",
       "</div>"
      ],
      "text/plain": [
       "                                                   text  label_pred sentiment\n",
       "0     Contrary to other reviews, I have zero complai...         1.0  negative\n",
       "1     Last summer I had an appointment to get new ti...         1.0  negative\n",
       "2     Friendly staff, same starbucks fair you get an...         2.0  positive\n",
       "3     The food is good. Unfortunately the service is...         1.0  negative\n",
       "4     Even when we didn't have a car Filene's Baseme...         1.0  negative\n",
       "...                                                 ...         ...       ...\n",
       "3795  Came here on a Tues night at 6pm. Warning. If ...         2.0  positive\n",
       "3796  I've been here since my teeny bopper years and...         2.0  positive\n",
       "3797  Friendly staff and quick service for auto tint...         1.0  negative\n",
       "3798  Please be warned! Do not patronize Home Fabric...         1.0  negative\n",
       "3799  I only went for an event in the back room. As ...         1.0  negative\n",
       "\n",
       "[3800 rows x 3 columns]"
      ]
     },
     "execution_count": 32,
     "metadata": {},
     "output_type": "execute_result"
    }
   ],
   "source": [
    "X_test"
   ]
  },
  {
   "cell_type": "code",
   "execution_count": 34,
   "id": "771516ee",
   "metadata": {},
   "outputs": [
    {
     "data": {
      "text/html": [
       "<div>\n",
       "<style scoped>\n",
       "    .dataframe tbody tr th:only-of-type {\n",
       "        vertical-align: middle;\n",
       "    }\n",
       "\n",
       "    .dataframe tbody tr th {\n",
       "        vertical-align: top;\n",
       "    }\n",
       "\n",
       "    .dataframe thead th {\n",
       "        text-align: right;\n",
       "    }\n",
       "</style>\n",
       "<table border=\"1\" class=\"dataframe\">\n",
       "  <thead>\n",
       "    <tr style=\"text-align: right;\">\n",
       "      <th></th>\n",
       "      <th>text</th>\n",
       "      <th>sentiment</th>\n",
       "    </tr>\n",
       "  </thead>\n",
       "  <tbody>\n",
       "    <tr>\n",
       "      <th>0</th>\n",
       "      <td>Contrary to other reviews, I have zero complai...</td>\n",
       "      <td>negative</td>\n",
       "    </tr>\n",
       "    <tr>\n",
       "      <th>1</th>\n",
       "      <td>Last summer I had an appointment to get new ti...</td>\n",
       "      <td>negative</td>\n",
       "    </tr>\n",
       "    <tr>\n",
       "      <th>2</th>\n",
       "      <td>Friendly staff, same starbucks fair you get an...</td>\n",
       "      <td>positive</td>\n",
       "    </tr>\n",
       "    <tr>\n",
       "      <th>3</th>\n",
       "      <td>The food is good. Unfortunately the service is...</td>\n",
       "      <td>negative</td>\n",
       "    </tr>\n",
       "    <tr>\n",
       "      <th>4</th>\n",
       "      <td>Even when we didn't have a car Filene's Baseme...</td>\n",
       "      <td>negative</td>\n",
       "    </tr>\n",
       "    <tr>\n",
       "      <th>...</th>\n",
       "      <td>...</td>\n",
       "      <td>...</td>\n",
       "    </tr>\n",
       "    <tr>\n",
       "      <th>3795</th>\n",
       "      <td>Came here on a Tues night at 6pm. Warning. If ...</td>\n",
       "      <td>positive</td>\n",
       "    </tr>\n",
       "    <tr>\n",
       "      <th>3796</th>\n",
       "      <td>I've been here since my teeny bopper years and...</td>\n",
       "      <td>positive</td>\n",
       "    </tr>\n",
       "    <tr>\n",
       "      <th>3797</th>\n",
       "      <td>Friendly staff and quick service for auto tint...</td>\n",
       "      <td>negative</td>\n",
       "    </tr>\n",
       "    <tr>\n",
       "      <th>3798</th>\n",
       "      <td>Please be warned! Do not patronize Home Fabric...</td>\n",
       "      <td>negative</td>\n",
       "    </tr>\n",
       "    <tr>\n",
       "      <th>3799</th>\n",
       "      <td>I only went for an event in the back room. As ...</td>\n",
       "      <td>negative</td>\n",
       "    </tr>\n",
       "  </tbody>\n",
       "</table>\n",
       "<p>3800 rows × 2 columns</p>\n",
       "</div>"
      ],
      "text/plain": [
       "                                                   text sentiment\n",
       "0     Contrary to other reviews, I have zero complai...  negative\n",
       "1     Last summer I had an appointment to get new ti...  negative\n",
       "2     Friendly staff, same starbucks fair you get an...  positive\n",
       "3     The food is good. Unfortunately the service is...  negative\n",
       "4     Even when we didn't have a car Filene's Baseme...  negative\n",
       "...                                                 ...       ...\n",
       "3795  Came here on a Tues night at 6pm. Warning. If ...  positive\n",
       "3796  I've been here since my teeny bopper years and...  positive\n",
       "3797  Friendly staff and quick service for auto tint...  negative\n",
       "3798  Please be warned! Do not patronize Home Fabric...  negative\n",
       "3799  I only went for an event in the back room. As ...  negative\n",
       "\n",
       "[3800 rows x 2 columns]"
      ]
     },
     "execution_count": 34,
     "metadata": {},
     "output_type": "execute_result"
    }
   ],
   "source": [
    "X_test.drop(columns='label_pred')"
   ]
  },
  {
   "cell_type": "code",
   "execution_count": 35,
   "id": "da9e2e76",
   "metadata": {},
   "outputs": [
    {
     "data": {
      "text/plain": [
       "negative    0.545263\n",
       "positive    0.454737\n",
       "Name: sentiment, dtype: float64"
      ]
     },
     "execution_count": 35,
     "metadata": {},
     "output_type": "execute_result"
    }
   ],
   "source": [
    "X_test.sentiment.value_counts(normalize=True)"
   ]
  },
  {
   "cell_type": "code",
   "execution_count": 37,
   "id": "395718cc",
   "metadata": {},
   "outputs": [
    {
     "name": "stderr",
     "output_type": "stream",
     "text": [
      "WARNING:absl:Found untraced functions such as _jit_compiled_convolution_op while saving (showing 1 of 1). These functions will not be directly callable after loading.\n"
     ]
    },
    {
     "name": "stdout",
     "output_type": "stream",
     "text": [
      "INFO:tensorflow:Assets written to: /Users/marikhomeriki/code/marikhomeriki/product_review_analysis/CNN_model/assets\n"
     ]
    },
    {
     "name": "stderr",
     "output_type": "stream",
     "text": [
      "INFO:tensorflow:Assets written to: /Users/marikhomeriki/code/marikhomeriki/product_review_analysis/CNN_model/assets\n"
     ]
    }
   ],
   "source": [
    "model_cnn.save('/Users/marikhomeriki/code/marikhomeriki/product_review_analysis/CNN_model')"
   ]
  },
  {
   "cell_type": "code",
   "execution_count": null,
   "id": "2d0c03ff",
   "metadata": {},
   "outputs": [],
   "source": []
  }
 ],
 "metadata": {
  "kernelspec": {
   "display_name": "Python 3 (ipykernel)",
   "language": "python",
   "name": "python3"
  },
  "language_info": {
   "codemirror_mode": {
    "name": "ipython",
    "version": 3
   },
   "file_extension": ".py",
   "mimetype": "text/x-python",
   "name": "python",
   "nbconvert_exporter": "python",
   "pygments_lexer": "ipython3",
   "version": "3.10.6"
  },
  "toc": {
   "base_numbering": 1,
   "nav_menu": {},
   "number_sections": true,
   "sideBar": true,
   "skip_h1_title": false,
   "title_cell": "Table of Contents",
   "title_sidebar": "Contents",
   "toc_cell": false,
   "toc_position": {},
   "toc_section_display": true,
   "toc_window_display": false
  },
  "vscode": {
   "interpreter": {
    "hash": "ea0e7ef60c28ff33ddfdfe82d339f0b9700433ae3bfa8cf7780f713fc04da71b"
   }
  }
 },
 "nbformat": 4,
 "nbformat_minor": 5
}
