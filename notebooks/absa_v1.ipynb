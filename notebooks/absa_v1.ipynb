{
 "cells": [
  {
   "cell_type": "code",
   "execution_count": 125,
   "id": "1b7289ee",
   "metadata": {},
   "outputs": [],
   "source": [
    "import pandas as pd\n",
    "import os\n",
    "import numpy as np\n",
    "from wordcloud import WordCloud\n",
    "from nltk.corpus import stopwords\n",
    "import matplotlib.pyplot as plt"
   ]
  },
  {
   "cell_type": "code",
   "execution_count": 154,
   "id": "8730cfae",
   "metadata": {},
   "outputs": [
    {
     "name": "stdout",
     "output_type": "stream",
     "text": [
      "Load aspect extractor from checkpoints/ATEPC_MULTILINGUAL-256-2_CHECKPOINT\n",
      "config: checkpoints/ATEPC_MULTILINGUAL-256-2_CHECKPOINT/fast_lcf_atepc.config\n",
      "state_dict: checkpoints/ATEPC_MULTILINGUAL-256-2_CHECKPOINT/fast_lcf_atepc.state_dict\n",
      "model: None\n",
      "tokenizer: checkpoints/ATEPC_MULTILINGUAL-256-2_CHECKPOINT/fast_lcf_atepc.tokenizer\n"
     ]
    },
    {
     "name": "stderr",
     "output_type": "stream",
     "text": [
      "Some weights of the model checkpoint at microsoft/mdeberta-v3-base were not used when initializing DebertaV2Model: ['mask_predictions.dense.weight', 'lm_predictions.lm_head.LayerNorm.weight', 'mask_predictions.dense.bias', 'mask_predictions.classifier.bias', 'lm_predictions.lm_head.dense.weight', 'lm_predictions.lm_head.bias', 'lm_predictions.lm_head.LayerNorm.bias', 'mask_predictions.LayerNorm.weight', 'lm_predictions.lm_head.dense.bias', 'mask_predictions.classifier.weight', 'mask_predictions.LayerNorm.bias']\n",
      "- This IS expected if you are initializing DebertaV2Model from the checkpoint of a model trained on another task or with another architecture (e.g. initializing a BertForSequenceClassification model from a BertForPreTraining model).\n",
      "- This IS NOT expected if you are initializing DebertaV2Model from the checkpoint of a model that you expect to be exactly identical (initializing a BertForSequenceClassification model from a BertForSequenceClassification model).\n",
      "Special tokens have been added in the vocabulary, make sure the associated word embeddings are fine-tuned or trained.\n",
      "/Users/marikhomeriki/.pyenv/versions/3.10.6/envs/product_review_analysis/lib/python3.10/site-packages/transformers/convert_slow_tokenizer.py:446: UserWarning: The sentencepiece tokenizer that you are converting to a fast tokenizer uses the byte fallback option which is not implemented in the fast tokenizers. In practice this means that the fast version of the tokenizer can produce unknown tokens whereas the sentencepiece version would have converted these unknown tokens into a sequence of byte tokens matching the original piece of text.\n",
      "  warnings.warn(\n",
      "Special tokens have been added in the vocabulary, make sure the associated word embeddings are fine-tuned or trained.\n"
     ]
    }
   ],
   "source": [
    "import pandas as pd\n",
    "\n",
    "from pyabsa import ATEPCCheckpointManager\n",
    "\n",
    "aspect_extractor = ATEPCCheckpointManager.get_aspect_extractor(checkpoint='multilingual-256-2')\n",
    "\n",
    "\n",
    "def perform_inference(text):\n",
    "    result = aspect_extractor.extract_aspect(inference_source=[text],\n",
    "                                             pred_sentiment=True)\n",
    "\n",
    "    result = pd.DataFrame({\n",
    "        'aspect': result[0]['aspect'],\n",
    "        'sentiment': result[0]['sentiment'],\n",
    "        # 'probability': result[0]['probs'],\n",
    "        'confidence': [round(x, 4) for x in result[0]['confidence']],\n",
    "        'position': result[0]['position']\n",
    "    })\n",
    "    return result, '{}'.format(text)\n",
    "\n",
    "\n",
    "\n"
   ]
  },
  {
   "cell_type": "code",
   "execution_count": 155,
   "id": "3d7e34f2",
   "metadata": {},
   "outputs": [],
   "source": [
    "text = \"This McDonald's has gotten much better. Usually my order would be wrong every single time so I would not leave that window until I checked every single item. I only hit up fast food once a month or so and it needs to be worth it. Also the fries used to be cold and the cheese on the burger was never melted. Everything was just lukewarm. Now my order has been right a few times in a row and my food hot. Also, I love dining room. Usually you wouldn't find me actually inside a fast food joint but this place has nice flooring, stacked stone, lots of large windows and a flat screen TV usually on HLN. Sometimes its nice to sneak away for a quick weekend breakfast, you know, a little budget and time friendly mommy and me date.\"\n",
    "\n"
   ]
  },
  {
   "cell_type": "code",
   "execution_count": 156,
   "id": "767d933e",
   "metadata": {},
   "outputs": [
    {
     "name": "stdout",
     "output_type": "stream",
     "text": [
      "The results of aspect term extraction have been saved in /Users/marikhomeriki/code/marikhomeriki/product_review_analysis/notebooks/atepc_inference.result.json\n",
      "Example 0: This McDonald ' s has gotten much better . Usually my order would be wrong every single time so I would not leave that window until I checked every single item . I only hit up fast food once a month or so and it needs to be worth it . Also the <fries:Negative Confidence:0.9426096081733704> used to be cold and the <cheese:Negative Confidence:0.58629310131073> on the burger was never melted . Everything was just lukewarm . Now my order has been right a few times in a row and my food hot . Also , I love dining room . Usually you wouldn ' t find me actually inside a fast food joint but this place has nice <flooring:Positive Confidence:0.9997575879096985> , stacked stone , lots of large windows and a flat screen TV usually on HLN . Sometimes its nice to sneak away for a quick weekend breakfast , you know , a little budget and time friendly mommy and me date .\n"
     ]
    },
    {
     "name": "stderr",
     "output_type": "stream",
     "text": [
      "/Users/marikhomeriki/.pyenv/versions/3.10.6/envs/product_review_analysis/lib/python3.10/site-packages/pyabsa/core/atepc/prediction/aspect_extractor.py:410: UserWarning: Implicit dimension choice for softmax has been deprecated. Change the call to include dim=X as an argument.\n",
      "  probs = [float(x) for x in F.softmax(i_apc_logits).cpu().numpy().tolist()]\n"
     ]
    }
   ],
   "source": [
    "res = perform_inference(text)"
   ]
  },
  {
   "cell_type": "code",
   "execution_count": 157,
   "id": "762b246c",
   "metadata": {},
   "outputs": [
    {
     "data": {
      "text/html": [
       "<div>\n",
       "<style scoped>\n",
       "    .dataframe tbody tr th:only-of-type {\n",
       "        vertical-align: middle;\n",
       "    }\n",
       "\n",
       "    .dataframe tbody tr th {\n",
       "        vertical-align: top;\n",
       "    }\n",
       "\n",
       "    .dataframe thead th {\n",
       "        text-align: right;\n",
       "    }\n",
       "</style>\n",
       "<table border=\"1\" class=\"dataframe\">\n",
       "  <thead>\n",
       "    <tr style=\"text-align: right;\">\n",
       "      <th></th>\n",
       "      <th>aspect</th>\n",
       "      <th>sentiment</th>\n",
       "      <th>confidence</th>\n",
       "      <th>position</th>\n",
       "    </tr>\n",
       "  </thead>\n",
       "  <tbody>\n",
       "    <tr>\n",
       "      <th>0</th>\n",
       "      <td>fries</td>\n",
       "      <td>Negative</td>\n",
       "      <td>0.9426</td>\n",
       "      <td>[54]</td>\n",
       "    </tr>\n",
       "    <tr>\n",
       "      <th>1</th>\n",
       "      <td>cheese</td>\n",
       "      <td>Negative</td>\n",
       "      <td>0.5863</td>\n",
       "      <td>[61]</td>\n",
       "    </tr>\n",
       "    <tr>\n",
       "      <th>2</th>\n",
       "      <td>flooring</td>\n",
       "      <td>Positive</td>\n",
       "      <td>0.9998</td>\n",
       "      <td>[116]</td>\n",
       "    </tr>\n",
       "  </tbody>\n",
       "</table>\n",
       "</div>"
      ],
      "text/plain": [
       "     aspect sentiment  confidence position\n",
       "0     fries  Negative      0.9426     [54]\n",
       "1    cheese  Negative      0.5863     [61]\n",
       "2  flooring  Positive      0.9998    [116]"
      ]
     },
     "execution_count": 157,
     "metadata": {},
     "output_type": "execute_result"
    }
   ],
   "source": [
    "res[0]"
   ]
  },
  {
   "cell_type": "code",
   "execution_count": 158,
   "id": "23f269b2",
   "metadata": {},
   "outputs": [],
   "source": [
    "df = pd.read_csv('/Users/marikhomeriki/code/marikhomeriki/product_review_analysis/temp_data/duck-and-waffle-london.csv', header = None)\n",
    "df = df.rename({1: 'text'}, axis = 1)"
   ]
  },
  {
   "cell_type": "code",
   "execution_count": 159,
   "id": "06891c0f",
   "metadata": {},
   "outputs": [],
   "source": [
    "df = df.dropna()"
   ]
  },
  {
   "cell_type": "code",
   "execution_count": 160,
   "id": "85dd4181",
   "metadata": {},
   "outputs": [],
   "source": [
    "df = pd.DataFrame(df.text)"
   ]
  },
  {
   "cell_type": "code",
   "execution_count": 161,
   "id": "225abb8c",
   "metadata": {},
   "outputs": [
    {
     "data": {
      "text/html": [
       "<div>\n",
       "<style scoped>\n",
       "    .dataframe tbody tr th:only-of-type {\n",
       "        vertical-align: middle;\n",
       "    }\n",
       "\n",
       "    .dataframe tbody tr th {\n",
       "        vertical-align: top;\n",
       "    }\n",
       "\n",
       "    .dataframe thead th {\n",
       "        text-align: right;\n",
       "    }\n",
       "</style>\n",
       "<table border=\"1\" class=\"dataframe\">\n",
       "  <thead>\n",
       "    <tr style=\"text-align: right;\">\n",
       "      <th></th>\n",
       "      <th>text</th>\n",
       "    </tr>\n",
       "  </thead>\n",
       "  <tbody>\n",
       "    <tr>\n",
       "      <th>1</th>\n",
       "      <td>The best food &amp; service of our day. The mushro...</td>\n",
       "    </tr>\n",
       "    <tr>\n",
       "      <th>2</th>\n",
       "      <td>We are Californians in London for the first ti...</td>\n",
       "    </tr>\n",
       "    <tr>\n",
       "      <th>3</th>\n",
       "      <td>Don't trust the listed hours! Mother Mash clos...</td>\n",
       "    </tr>\n",
       "    <tr>\n",
       "      <th>4</th>\n",
       "      <td>Arrived 6pm and after waiting a considerable t...</td>\n",
       "    </tr>\n",
       "    <tr>\n",
       "      <th>5</th>\n",
       "      <td>Tucked away in Soho along a street of other ea...</td>\n",
       "    </tr>\n",
       "    <tr>\n",
       "      <th>6</th>\n",
       "      <td>First meal in London and knew I had to try ban...</td>\n",
       "    </tr>\n",
       "    <tr>\n",
       "      <th>7</th>\n",
       "      <td>We came here at around 6 pm but the place was ...</td>\n",
       "    </tr>\n",
       "    <tr>\n",
       "      <th>8</th>\n",
       "      <td>Perfect comfort food meal! Sausages were nicel...</td>\n",
       "    </tr>\n",
       "    <tr>\n",
       "      <th>9</th>\n",
       "      <td>Omg! If you are in London, you have got to eat...</td>\n",
       "    </tr>\n",
       "    <tr>\n",
       "      <th>10</th>\n",
       "      <td>We had to try Bangers and Mash while visiting ...</td>\n",
       "    </tr>\n",
       "    <tr>\n",
       "      <th>11</th>\n",
       "      <td>Was desperately craving authentic British meat...</td>\n",
       "    </tr>\n",
       "    <tr>\n",
       "      <th>12</th>\n",
       "      <td>Lovely. My husband and I got to spend 5 beauti...</td>\n",
       "    </tr>\n",
       "    <tr>\n",
       "      <th>13</th>\n",
       "      <td>This place is small but super friendly service...</td>\n",
       "    </tr>\n",
       "    <tr>\n",
       "      <th>14</th>\n",
       "      <td>We had a classic -- bangers and mash. It was g...</td>\n",
       "    </tr>\n",
       "    <tr>\n",
       "      <th>15</th>\n",
       "      <td>I heard great things about this place and coul...</td>\n",
       "    </tr>\n",
       "    <tr>\n",
       "      <th>16</th>\n",
       "      <td>We tried the beef steak and minced meat pies w...</td>\n",
       "    </tr>\n",
       "    <tr>\n",
       "      <th>17</th>\n",
       "      <td>Traditional British food with plenty of vegan/...</td>\n",
       "    </tr>\n",
       "    <tr>\n",
       "      <th>18</th>\n",
       "      <td>Looking for a really tasty dinner in London th...</td>\n",
       "    </tr>\n",
       "    <tr>\n",
       "      <th>19</th>\n",
       "      <td>If you are looking for authentic British cuisi...</td>\n",
       "    </tr>\n",
       "    <tr>\n",
       "      <th>20</th>\n",
       "      <td>So so so good. I'm trying to figure out how to...</td>\n",
       "    </tr>\n",
       "  </tbody>\n",
       "</table>\n",
       "</div>"
      ],
      "text/plain": [
       "                                                 text\n",
       "1   The best food & service of our day. The mushro...\n",
       "2   We are Californians in London for the first ti...\n",
       "3   Don't trust the listed hours! Mother Mash clos...\n",
       "4   Arrived 6pm and after waiting a considerable t...\n",
       "5   Tucked away in Soho along a street of other ea...\n",
       "6   First meal in London and knew I had to try ban...\n",
       "7   We came here at around 6 pm but the place was ...\n",
       "8   Perfect comfort food meal! Sausages were nicel...\n",
       "9   Omg! If you are in London, you have got to eat...\n",
       "10  We had to try Bangers and Mash while visiting ...\n",
       "11  Was desperately craving authentic British meat...\n",
       "12  Lovely. My husband and I got to spend 5 beauti...\n",
       "13  This place is small but super friendly service...\n",
       "14  We had a classic -- bangers and mash. It was g...\n",
       "15  I heard great things about this place and coul...\n",
       "16  We tried the beef steak and minced meat pies w...\n",
       "17  Traditional British food with plenty of vegan/...\n",
       "18  Looking for a really tasty dinner in London th...\n",
       "19  If you are looking for authentic British cuisi...\n",
       "20  So so so good. I'm trying to figure out how to..."
      ]
     },
     "execution_count": 161,
     "metadata": {},
     "output_type": "execute_result"
    }
   ],
   "source": [
    "df"
   ]
  },
  {
   "cell_type": "code",
   "execution_count": 259,
   "id": "877ee3de",
   "metadata": {},
   "outputs": [],
   "source": [
    "def get_aspect_dfs(data):\n",
    "    dfs = []\n",
    "    for row in data.iterrows():\n",
    "        text = row[1][0]\n",
    "        df = perform_inference(text)\n",
    "        dfs.append(df)\n",
    "    return dfs\n",
    "        "
   ]
  },
  {
   "cell_type": "code",
   "execution_count": 260,
   "id": "f0f60bf0",
   "metadata": {},
   "outputs": [],
   "source": [
    "def get_aspect_distribution(dataframes):\n",
    "    aspects = {}\n",
    "    sents = []\n",
    "    for df in dataframes:\n",
    "        for a, s in df[0].iterrows():\n",
    "            word_all = s[0].split()\n",
    "            word = word_all[0].lower()\n",
    "            if aspects.get(word) is None:\n",
    "                sents = []\n",
    "                sents.append(s[1])\n",
    "                aspects[word] = sents\n",
    "            else:\n",
    "                sents = aspects.get(word)\n",
    "                sents.append(s[1])\n",
    "                aspects[word] = sents\n",
    "    return aspects\n",
    "            \n"
   ]
  },
  {
   "cell_type": "code",
   "execution_count": null,
   "id": "b9f361f4",
   "metadata": {},
   "outputs": [],
   "source": []
  },
  {
   "cell_type": "code",
   "execution_count": 164,
   "id": "0e4a0c8c",
   "metadata": {},
   "outputs": [
    {
     "name": "stderr",
     "output_type": "stream",
     "text": [
      "/Users/marikhomeriki/.pyenv/versions/3.10.6/envs/product_review_analysis/lib/python3.10/site-packages/pyabsa/core/atepc/prediction/aspect_extractor.py:410: UserWarning: Implicit dimension choice for softmax has been deprecated. Change the call to include dim=X as an argument.\n",
      "  probs = [float(x) for x in F.softmax(i_apc_logits).cpu().numpy().tolist()]\n"
     ]
    },
    {
     "name": "stdout",
     "output_type": "stream",
     "text": [
      "The results of aspect term extraction have been saved in /Users/marikhomeriki/code/marikhomeriki/product_review_analysis/notebooks/atepc_inference.result.json\n",
      "Example 0: The best <food:Positive Confidence:0.999914288520813> & <service:Positive Confidence:0.9999076128005981> of our day . The mushroom & ale pie along with the apple & blackberry crumble with custard - beyond delish . <Service:Positive Confidence:0.9999016523361206> was amazing ! Cute <area:Positive Confidence:0.9998873472213745> - great people watching\n",
      "The results of aspect term extraction have been saved in /Users/marikhomeriki/code/marikhomeriki/product_review_analysis/notebooks/atepc_inference.result.json\n",
      "Example 0: We are Californians in London for the first time . We stopped here and we ' re helped and served by the cutest women . We weren ' t sure what to order so they filled us in on the popular choices . They were spot on and we loved the champ potatoes and 2 sausages . Then had dessert , the sticky toffee and custard sauce was just what the doctor ordered . We added a scoop of ice cream but wished we hadn ' t it was perfect without . It was the perfect filling and warming <meal:Positive Confidence:0.9998016953468323> for a cool London day . Sorry no pics we were halfway through when I thought about it .\n",
      "The results of aspect term extraction have been saved in /Users/marikhomeriki/code/marikhomeriki/product_review_analysis/notebooks/atepc_inference.result.json\n",
      "Example 0: Don ' t trust the listed hours ! Mother Mash closes when it wants to , regardless of any times posted online . We were staying near Buckingham Palace , and decided to walk to the nearest Mother Mash , a twenty - five minute walk . We didn ' t think anything of it , considering on their website it says that they close at 10 PM . We arrived around 8 : 00 PM . We walked in and a man with his hand outstretched comes toward us , and we start to back out as he comes closer . He all but pushes us out the door stating , \" We ' re closed , bruv ! \" We were shocked . Imagine walking all that way for something specific , to be turned away so rudely . We had had a fine experience at another location and had been looking forward to having Mother Mash as our last meal in the city . We ended up having Chinese food . Not ideal . What a shame .\n",
      "The results of aspect term extraction have been saved in /Users/marikhomeriki/code/marikhomeriki/product_review_analysis/notebooks/atepc_inference.result.json\n",
      "Example 0: Arrived 6pm and after <waiting:Negative Confidence:0.8675894737243652> a considerable time for <service:Negative Confidence:0.9994656443595886> at the door , they rudely turned me away saying they were full despite only seeing 2 <tables:Neutral Confidence:0.9997465014457703> with people . I requested take out but was refused any service and was quickly shoo ' d out the door . Very saddening and disappointed experience .\n",
      "The results of aspect term extraction have been saved in /Users/marikhomeriki/code/marikhomeriki/product_review_analysis/notebooks/atepc_inference.result.json\n",
      "Example 0: Tucked away in Soho along a street of other eateries , Mother Mash was open on a rainy Sunday evening . I always want to try the local dishes while I ' m traveling so this was a perfect opportunity to try some bangers and mash ( a traditional British dish , consisting of sausages served with mashed potatoes ) before we headed back home . Surprisingly , it was quiet and we were able to be seated right away . The space is small , but has a handful of seats inside and outside . The toilet , along with the kitchen is downstairs . Menu is straightforward . You pick your mash , your sausage , and type of gravy . I went with the cheesy mash , Lincolnshire sausage , and traditional gravy . It wasn ' t before long that our dishes came out . The mashed potatoes were a bit thick and gummy - and honestly I kind of like them that way . However , it ' s a sign that the potatoes have been overworked and too much starch was released . Not sure if that ' s how it ' s normally served , BUT again , I like them that way . The sausage was nice and flavorful and paired nicely with my gravy . They did mix up my gravy with my husband ' s though , but that worked out in my favor , lol . Go for the caramelized onion gravy as the traditional gravy didn ' t have as much flavor . For dessert I ordered the sticky toffee pudding for takeaway and shared it with my family back home . It was delish , but what made it even more tasty was adding a scoop of caramel ice cream . Yum ! Overall , good spot to try some traditional British dishes if you ' re nearby .\n",
      "The results of aspect term extraction have been saved in /Users/marikhomeriki/code/marikhomeriki/product_review_analysis/notebooks/atepc_inference.result.json\n",
      "Example 0: First meal in London and knew I had to try bangers and <mash:Positive Confidence:0.9881625771522522> so we made a stop by here while exploring Soho ! Basically you can choose your type of mash , sausage ( or pie ) and gravy . I had the champ mash which came with green onions , mother plucker sausage which was flavoured with sundried tomatoes , all topped with a farmer ' s sauce ( red wine sauce with bacon ) . The mash was so creamy but the green onions cut the heaviness . The sausage reminded me a bit of the Chinese sausage in hot rice bowls . The best part though was the gravy . . didn ' t leave a drop of it on my plate . Such a delicious comforting <food:Positive Confidence:0.9983142614364624> ! I ordered the ginger beer for my <drink:Positive Confidence:0.9962526559829712> which was so yummy as well . Definitely recommend visiting here to try the bangers and mash ! !\n",
      "The results of aspect term extraction have been saved in /Users/marikhomeriki/code/marikhomeriki/product_review_analysis/notebooks/atepc_inference.result.json\n",
      "Example 0: We came here at around 6 pm but the <place:Negative Confidence:0.9588811993598938> was packed , so we decided to come back at 8 pm to have dessert . The best <sticky toffee pudding:Positive Confidence:0.9898646473884583> , it ' s definitely lived up to its reputation ! We ordered a few <desserts:Positive Confidence:0.9038312435150146> and all came with two scoops of <ice cream:Positive Confidence:0.9676580429077148> . 1 . Sticky <toffee pudding:Positive Confidence:0.98819899559021> - very tasty & flavorful 2 . <Ginger bread pudding:Positive Confidence:0.916744589805603> - lots of ginger flavor3 . Saucy <chocolate:Positive Confidence:0.8348731994628906> - if you ' re a <chocolate:Positive Confidence:0.8348731994628906> lover , this one is for you ! 4 . <Apple Crumbl pie:Positive Confidence:0.6589229106903076> - this was ok\n",
      "The results of aspect term extraction have been saved in /Users/marikhomeriki/code/marikhomeriki/product_review_analysis/notebooks/atepc_inference.result.json\n",
      "Example 0: Perfect <comfort food:Positive Confidence:0.9998679161071777> meal ! <Sausages:Positive Confidence:0.9998701810836792> were nicely seasoned . <Mashed potatoes:Positive Confidence:0.9994377493858337> were creamy and buttery . The <meat pie:Positive Confidence:0.9996863603591919> had a good crispy outer layer and the <filling:Positive Confidence:0.9998823404312134> was hardy . Everything we ordered including the <side dishes:Positive Confidence:0.9998961687088013> were good . Highly recommend if you ' re looking for a warm and satisfying meal !\n",
      "The results of aspect term extraction have been saved in /Users/marikhomeriki/code/marikhomeriki/product_review_analysis/notebooks/atepc_inference.result.json\n",
      "Example 0: Omg ! If you are in London , you have got to eat here ! they have a simple menu , but the food is so delicious ! ! You choose a type of mashed potato you want , either a sausage or pie and a gravy to put on top . We picked the sausage option and it comes with 2 - we got to try two different flavors plus ordered two extra sausages to try out the other flavors . One plate was enough for two people and we left satisfied . All sausages we tried were great ! They also give you extra gravy if you need more - free of charge . It ' s great comfort food that won ' t leave your pockets empty . What we enjoyed in this place was the great customer service as well . The woman who served us was so nice and friendly , and also attentive . That is always so appreciated ! This place hit the spot - added plus was the great service ! Would recommend this place to anyone looking to eat great comfort food in London !\n"
     ]
    },
    {
     "name": "stdout",
     "output_type": "stream",
     "text": [
      "The results of aspect term extraction have been saved in /Users/marikhomeriki/code/marikhomeriki/product_review_analysis/notebooks/atepc_inference.result.json\n",
      "Example 0: We had to try Bangers and Mash while visiting The Big Smoke so we Yelped it and found Mother Mash to be top rated for this dish . This place specializes in Bangers & Mash and they do a great job . My Vegan daughter had a delicious vegan take on this classic while I had the original . You get to choose your type of mash , main ( banger ) and then gravy . You can also have it in a pie form . It ' s very customizable . We added a side of Mushy Peas and Cheesy Cauliflower . The <dishes:Positive Confidence:0.7822072505950928> were very filling and we left there stuffed . We felt bad for the <waitress:Positive Confidence:0.957792341709137> as apparently the kitchen is downstairs and she has to go up and down stairs for every dish . They need a dumbwaiter there . Overall , great <food:Positive Confidence:0.9251585006713867> in a very popular and busy location . Great to try !\n",
      "The results of aspect term extraction have been saved in /Users/marikhomeriki/code/marikhomeriki/product_review_analysis/notebooks/atepc_inference.result.json\n",
      "Example 0: Was desperately craving authentic British meat pies and thankfully found this place relatively close to our hotel ! We got in without a <reservation:Neutral Confidence:0.9499800801277161> right at opening time but sadly they were out of both the Bubble and Squeak mash AND the steak and Guinness stout pie . No matter , the minced beef pie with champ mash and traditional gravy was still very delicious ! <Prices:Positive Confidence:0.9995757937431335> are reasonable and the <food:Positive Confidence:0.999862551689148> was satisfying . We would definitely return again to try the other pies on our next trip back to London !\n",
      "The results of aspect term extraction have been saved in /Users/marikhomeriki/code/marikhomeriki/product_review_analysis/notebooks/atepc_inference.result.json\n",
      "Example 0: Lovely . My husband and I got to spend 5 beautiful ( kid free ! ) days in London . We got in , I believe it was Saturday , around lunch time with no wait . The <waitress:Positive Confidence:0.9996379613876343> was lovely and very helpful . I had the steak pie with Irish mash and onion gravy . As an American this was very different for me , but I loved it ! ! My husband enjoyed his chipotle chicken sausage , Irish mash , with onion gravy . At the end of the <meal:Positive Confidence:0.8737064599990845> an older gentleman took our payment and recommended we see Fortnum and Mason , which we ended up enjoying very much and most likely wouldn ' t have know about it otherwise .\n",
      "The results of aspect term extraction have been saved in /Users/marikhomeriki/code/marikhomeriki/product_review_analysis/notebooks/atepc_inference.result.json\n",
      "Example 0: This place is small but super friendly <service:Positive Confidence:0.9996564388275146> ! The <food:Positive Confidence:0.9998637437820435> is so delicious . My mouth watered as the food hit my pallet ! Must try , literally brought tears to my eye reminding me of some fresh home cooking on a vacation .\n",
      "The results of aspect term extraction have been saved in /Users/marikhomeriki/code/marikhomeriki/product_review_analysis/notebooks/atepc_inference.result.json\n",
      "Example 0: We had a classic - - bangers and mash . It was good but nothing special . It ' s not a huge <portion:Negative Confidence:0.9537022113800049> , so I ' d order some mashy peas or green beans to accompany . The <view:Positive Confidence:0.9985646605491638> from the back booth is nice - looks like Diagon Alley . Wish I ' d ordered a pie and some sticky toffee pud , but we were in a hurry to get out of there . It was cute , and the <service:Positive Confidence:0.9997041821479797> was fine , but it was scorching hot inside , like stuffy , can ' t breathe . Sweating through one ' s clothes is not a pleasant <dining:Negative Confidence:0.8092461228370667> experience ! !\n",
      "The results of aspect term extraction have been saved in /Users/marikhomeriki/code/marikhomeriki/product_review_analysis/notebooks/atepc_inference.result.json\n",
      "Example 0: I heard great things about this place and couldn ' t wait to try it . I decided to let the waiter choose my meal and couldn ' t be happier <!:Positive Confidence:0.9999173879623413> ! ! Steak pie , bubbles and squeak mash with farmer gravy . <Food:Positive Confidence:0.9999113082885742> endorphin heaven . I wish they had this place in Bakersfield ! ! ! Best service , great 70 ' s music . More of a gastric experience than just a great meal . I have one complaint . I couldn ' t finish and we have no way to heat it up . SAD . I am SO glad we found Mother Mash . Must do in London !\n",
      "The results of aspect term extraction have been saved in /Users/marikhomeriki/code/marikhomeriki/product_review_analysis/notebooks/atepc_inference.result.json\n",
      "Example 0: We tried the <beef steak:Positive Confidence:0.9991549253463745> and <minced meat pies:Positive Confidence:0.9991863369941711> which were both very good but everyone preferred the beef steak by a lot . I recommend the farmers gravy as it added good flavour to the <mashed potatoes:Positive Confidence:0.7107769250869751> . The <crust:Positive Confidence:0.9739499092102051> was flaky but firm and there were good chunks of beef in the steak pies . The <interior:Positive Confidence:0.9505917429924011> is nothing fancy so this is a good place to fill up and then get back to shopping or sightseeing . <Service:Positive Confidence:0.9993144273757935> was fast and friendly . It was a great place to bring the family to experience a traditional meat pie while in London .\n",
      "The results of aspect term extraction have been saved in /Users/marikhomeriki/code/marikhomeriki/product_review_analysis/notebooks/atepc_inference.result.json\n",
      "Example 0: Traditional British food with plenty of vegan / vegetarian options . Enjoyed the mushroom and ale pie with diary free mash . & toffee pudding for dessert ! <Service:Positive Confidence:0.9566240906715393> was great and we enjoyed people watching during our 20ish min wait for good ( granted , it was packed ! )\n",
      "The results of aspect term extraction have been saved in /Users/marikhomeriki/code/marikhomeriki/product_review_analysis/notebooks/atepc_inference.result.json\n",
      "Example 0: Looking for a really tasty <dinner:Positive Confidence:0.9997333884239197> in London that will fill you up and won ' t break the bank . Welcome to Mother Mash . Our trip to England was full of <meat pies:Positive Confidence:0.9954272508621216> and this place had some of our favorites ! We sat outside on the patio - if you do the same be prepared for some entertainment - this is a high traffic area full of fun and nightlife and some folks will stop and talk with you , or zoom past on a bike blasting <music:Neutral Confidence:0.703592836856842> .\n",
      "The results of aspect term extraction have been saved in /Users/marikhomeriki/code/marikhomeriki/product_review_analysis/notebooks/atepc_inference.result.json\n",
      "Example 0: If you are looking for authentic <British cuisine:Positive Confidence:0.9999034404754639> surrounded by beautiful <architecture:Positive Confidence:0.9998918771743774> this is it ! Their bangers and <mash:Positive Confidence:0.9998387098312378> was fresh , delicious , and incredibly flavorful . I traveled across town to eat here and was not disappointed ! ! !\n",
      "The results of aspect term extraction have been saved in /Users/marikhomeriki/code/marikhomeriki/product_review_analysis/notebooks/atepc_inference.result.json\n",
      "Example 0: So so so good . I ' m trying to figure out how to go back a second day in a row . I had the steak pie with horseradish mash , and the farmers gravy . The pie crust was lovely and the interior was just delicious and the farmers gravy was the perfect compliment to it all . The horseradish came on the side of the mash ( not incorporated ) , which was good because hubby isn ' t a fan and he could still sample some of the amazing steak pie ! I loved the horseradish with a bit of the mash and the steak pie - great bite for me ! The gravy was luscious and the mash was silky but not thin . . . just perfection . We also ordered the green beans and they were very nicely done . We ended with sticky toffee pudding which was very good - a nice cake with a lovely toffee sauce and another sauce on the side ( like a crème anglais ) and some vanilla ice cream . Service was good and friendly !\n"
     ]
    }
   ],
   "source": [
    "dfs = get_aspect_dfs(df)"
   ]
  },
  {
   "cell_type": "code",
   "execution_count": 261,
   "id": "67b903b2",
   "metadata": {},
   "outputs": [],
   "source": [
    "aspects = get_aspect_distribution(dfs)"
   ]
  },
  {
   "cell_type": "code",
   "execution_count": 196,
   "id": "bedcde57",
   "metadata": {},
   "outputs": [
    {
     "data": {
      "text/plain": [
       "{'food': ['Positive',\n",
       "  'Positive',\n",
       "  'Positive',\n",
       "  'Positive',\n",
       "  'Positive',\n",
       "  'Positive'],\n",
       " 'service': ['Positive',\n",
       "  'Positive',\n",
       "  'Negative',\n",
       "  'Positive',\n",
       "  'Positive',\n",
       "  'Positive',\n",
       "  'Positive'],\n",
       " 'area': ['Positive'],\n",
       " 'meal': ['Positive', 'Positive'],\n",
       " 'waiting': ['Negative'],\n",
       " 'tables': ['Neutral'],\n",
       " 'mash': ['Positive', 'Positive'],\n",
       " 'drink': ['Positive'],\n",
       " 'place': ['Negative'],\n",
       " 'sticky': ['Positive'],\n",
       " 'desserts': ['Positive'],\n",
       " 'ice': ['Positive'],\n",
       " 'toffee': ['Positive'],\n",
       " 'ginger': ['Positive'],\n",
       " 'chocolate': ['Positive', 'Positive'],\n",
       " 'apple': ['Positive'],\n",
       " 'comfort': ['Positive'],\n",
       " 'sausages': ['Positive'],\n",
       " 'mashed': ['Positive', 'Positive'],\n",
       " 'meat': ['Positive', 'Positive'],\n",
       " 'filling': ['Positive'],\n",
       " 'side': ['Positive'],\n",
       " 'dishes': ['Positive'],\n",
       " 'waitress': ['Positive', 'Positive'],\n",
       " 'reservation': ['Neutral'],\n",
       " 'prices': ['Positive'],\n",
       " 'portion': ['Negative'],\n",
       " 'view': ['Positive'],\n",
       " 'dining': ['Negative'],\n",
       " '!': ['Positive'],\n",
       " 'beef': ['Positive'],\n",
       " 'minced': ['Positive'],\n",
       " 'crust': ['Positive'],\n",
       " 'interior': ['Positive'],\n",
       " 'dinner': ['Positive'],\n",
       " 'music': ['Neutral'],\n",
       " 'british': ['Positive'],\n",
       " 'architecture': ['Positive']}"
      ]
     },
     "execution_count": 196,
     "metadata": {},
     "output_type": "execute_result"
    }
   ],
   "source": [
    "aspects"
   ]
  },
  {
   "cell_type": "code",
   "execution_count": 262,
   "id": "5cab0c1f",
   "metadata": {},
   "outputs": [
    {
     "data": {
      "text/plain": [
       "['food',\n",
       " 'service',\n",
       " 'area',\n",
       " 'meal',\n",
       " 'waiting',\n",
       " 'tables',\n",
       " 'mash',\n",
       " 'drink',\n",
       " 'place',\n",
       " 'sticky',\n",
       " 'desserts',\n",
       " 'ice',\n",
       " 'toffee',\n",
       " 'ginger',\n",
       " 'chocolate',\n",
       " 'apple',\n",
       " 'comfort',\n",
       " 'sausages',\n",
       " 'mashed',\n",
       " 'meat',\n",
       " 'filling',\n",
       " 'side',\n",
       " 'dishes',\n",
       " 'waitress',\n",
       " 'reservation',\n",
       " 'prices',\n",
       " 'portion',\n",
       " 'view',\n",
       " 'dining',\n",
       " '!',\n",
       " 'beef',\n",
       " 'minced',\n",
       " 'crust',\n",
       " 'interior',\n",
       " 'dinner',\n",
       " 'music',\n",
       " 'british',\n",
       " 'architecture']"
      ]
     },
     "execution_count": 262,
     "metadata": {},
     "output_type": "execute_result"
    }
   ],
   "source": [
    "lss = list(aspects.keys())\n",
    "lss"
   ]
  },
  {
   "cell_type": "code",
   "execution_count": null,
   "id": "c5017d26",
   "metadata": {},
   "outputs": [],
   "source": []
  },
  {
   "cell_type": "code",
   "execution_count": 198,
   "id": "3f1f64f4",
   "metadata": {},
   "outputs": [],
   "source": [
    "frequent_aspects = sorted(lss, key = lambda x: -len(aspects[x]))[:5]"
   ]
  },
  {
   "cell_type": "code",
   "execution_count": 199,
   "id": "ccd939cc",
   "metadata": {},
   "outputs": [
    {
     "data": {
      "text/plain": [
       "['service', 'food', 'meal', 'mash', 'chocolate']"
      ]
     },
     "execution_count": 199,
     "metadata": {},
     "output_type": "execute_result"
    }
   ],
   "source": [
    "frequent_aspects"
   ]
  },
  {
   "cell_type": "code",
   "execution_count": 201,
   "id": "525bd548",
   "metadata": {},
   "outputs": [],
   "source": [
    "def get_sent_asps():\n",
    "    sent_asps = {}\n",
    "    sent_counts = []\n",
    "    for aspect in frequent_aspects:\n",
    "        sent_counts.append(aspects[aspect].count('Positive'))\n",
    "        sent_counts.append(aspects[aspect].count('Negative'))\n",
    "        sent_counts.append(aspects[aspect].count('Neutral'))\n",
    "        sent_asps[aspect] = sent_counts\n",
    "        sent_counts = []\n",
    "    return sent_asps\n"
   ]
  },
  {
   "cell_type": "code",
   "execution_count": 202,
   "id": "fdf72f35",
   "metadata": {},
   "outputs": [],
   "source": [
    "sent_asps = get_sent_asps()"
   ]
  },
  {
   "cell_type": "code",
   "execution_count": 211,
   "id": "e5b7ee35",
   "metadata": {},
   "outputs": [
    {
     "data": {
      "text/html": [
       "<div>\n",
       "<style scoped>\n",
       "    .dataframe tbody tr th:only-of-type {\n",
       "        vertical-align: middle;\n",
       "    }\n",
       "\n",
       "    .dataframe tbody tr th {\n",
       "        vertical-align: top;\n",
       "    }\n",
       "\n",
       "    .dataframe thead th {\n",
       "        text-align: right;\n",
       "    }\n",
       "</style>\n",
       "<table border=\"1\" class=\"dataframe\">\n",
       "  <thead>\n",
       "    <tr style=\"text-align: right;\">\n",
       "      <th></th>\n",
       "      <th>Positive</th>\n",
       "      <th>Negative</th>\n",
       "      <th>Neutral</th>\n",
       "    </tr>\n",
       "  </thead>\n",
       "  <tbody>\n",
       "    <tr>\n",
       "      <th>service</th>\n",
       "      <td>6</td>\n",
       "      <td>1</td>\n",
       "      <td>0</td>\n",
       "    </tr>\n",
       "    <tr>\n",
       "      <th>food</th>\n",
       "      <td>6</td>\n",
       "      <td>0</td>\n",
       "      <td>0</td>\n",
       "    </tr>\n",
       "    <tr>\n",
       "      <th>meal</th>\n",
       "      <td>2</td>\n",
       "      <td>0</td>\n",
       "      <td>0</td>\n",
       "    </tr>\n",
       "    <tr>\n",
       "      <th>mash</th>\n",
       "      <td>2</td>\n",
       "      <td>0</td>\n",
       "      <td>0</td>\n",
       "    </tr>\n",
       "    <tr>\n",
       "      <th>chocolate</th>\n",
       "      <td>2</td>\n",
       "      <td>0</td>\n",
       "      <td>0</td>\n",
       "    </tr>\n",
       "  </tbody>\n",
       "</table>\n",
       "</div>"
      ],
      "text/plain": [
       "           Positive  Negative  Neutral\n",
       "service           6         1        0\n",
       "food              6         0        0\n",
       "meal              2         0        0\n",
       "mash              2         0        0\n",
       "chocolate         2         0        0"
      ]
     },
     "execution_count": 211,
     "metadata": {},
     "output_type": "execute_result"
    }
   ],
   "source": [
    "sent_asps = pd.DataFrame(sent_asps)\n",
    "sent_asps_tr = sent_asps.T\n",
    "sent_asps_tr.rename({0: 'Positive', 1: 'Negative', 2: 'Neutral'}, axis=1, inplace = True)\n",
    "sent_asps_tr"
   ]
  },
  {
   "cell_type": "code",
   "execution_count": 263,
   "id": "93c18b99",
   "metadata": {},
   "outputs": [],
   "source": [
    "aspects_ls = list(aspects.keys())"
   ]
  },
  {
   "cell_type": "code",
   "execution_count": 264,
   "id": "a3ad3532",
   "metadata": {},
   "outputs": [
    {
     "data": {
      "text/plain": [
       "38"
      ]
     },
     "execution_count": 264,
     "metadata": {},
     "output_type": "execute_result"
    }
   ],
   "source": [
    "len(aspects_ls)"
   ]
  },
  {
   "cell_type": "code",
   "execution_count": 265,
   "id": "926d6723",
   "metadata": {},
   "outputs": [],
   "source": [
    "import matplotlib.pyplot as plt\n",
    "import seaborn as sns\n"
   ]
  },
  {
   "cell_type": "code",
   "execution_count": null,
   "id": "7a9c1f69",
   "metadata": {},
   "outputs": [],
   "source": []
  },
  {
   "cell_type": "code",
   "execution_count": 267,
   "id": "b9d8aaaf",
   "metadata": {},
   "outputs": [],
   "source": [
    "from sklearn.decomposition import LatentDirichletAllocation\n",
    "from sklearn.feature_extraction.text import CountVectorizer\n",
    "\n",
    "vectorizer = CountVectorizer()\n",
    "\n",
    "data_vectorized = vectorizer.fit_transform(aspects_ls)\n",
    "\n",
    "lda_model = LatentDirichletAllocation(n_components=3)\n",
    "\n",
    "lda_vectors = lda_model.fit_transform(data_vectorized)"
   ]
  },
  {
   "cell_type": "code",
   "execution_count": null,
   "id": "387e1512",
   "metadata": {},
   "outputs": [],
   "source": []
  },
  {
   "cell_type": "code",
   "execution_count": 269,
   "id": "2f1d0160",
   "metadata": {},
   "outputs": [
    {
     "data": {
      "text/plain": [
       "<38x37 sparse matrix of type '<class 'numpy.int64'>'\n",
       "\twith 37 stored elements in Compressed Sparse Row format>"
      ]
     },
     "execution_count": 269,
     "metadata": {},
     "output_type": "execute_result"
    }
   ],
   "source": [
    "data_vectorized"
   ]
  },
  {
   "cell_type": "code",
   "execution_count": 270,
   "id": "12cf86fa",
   "metadata": {},
   "outputs": [],
   "source": [
    "def get_topics(model, vectorizer):\n",
    "    topics = {}\n",
    "    for idx, topic in enumerate(model.components_):\n",
    "        topics[idx] = [(vectorizer.get_feature_names_out()[i], topic[i])\n",
    "                        for i in topic.argsort()[:-1 - 1:-1]]\n",
    "    return topics\n",
    "   "
   ]
  },
  {
   "cell_type": "code",
   "execution_count": 271,
   "id": "160b9f21",
   "metadata": {},
   "outputs": [],
   "source": [
    "def get_topics_all(model, vectorizer):\n",
    "    topics = {}\n",
    "    for idx, topic in enumerate(model.components_):\n",
    "        topics[idx] = [(vectorizer.get_feature_names_out()[i], topic[i])\n",
    "                        for i in topic.argsort()[:-10 - 1:-1]]\n",
    "    return topics"
   ]
  },
  {
   "cell_type": "code",
   "execution_count": 272,
   "id": "40275a5b",
   "metadata": {},
   "outputs": [],
   "source": [
    "topic = get_topics(lda_model, vectorizer)"
   ]
  },
  {
   "cell_type": "code",
   "execution_count": 273,
   "id": "8e6cbc85",
   "metadata": {},
   "outputs": [],
   "source": [
    "topic_all = get_topics_all(lda_model, vectorizer)"
   ]
  },
  {
   "cell_type": "code",
   "execution_count": 274,
   "id": "f454ab0b",
   "metadata": {},
   "outputs": [],
   "source": [
    "topic_ls = [t[0][0] for t in topic.values()]"
   ]
  },
  {
   "cell_type": "code",
   "execution_count": 275,
   "id": "9ce376af",
   "metadata": {},
   "outputs": [
    {
     "data": {
      "text/plain": [
       "{0: [('mash', 1.3288258491457126),\n",
       "  ('comfort', 1.328825844551487),\n",
       "  ('minced', 1.3288258421891534),\n",
       "  ('dining', 1.3288258406466913),\n",
       "  ('meal', 1.3288258394689905),\n",
       "  ('food', 1.3288258364779932),\n",
       "  ('waiting', 1.3288258355725977),\n",
       "  ('service', 1.3288258330027827),\n",
       "  ('ice', 1.3288258264231232),\n",
       "  ('filling', 1.3288258232947086)],\n",
       " 1: [('beef', 1.3274554673735004),\n",
       "  ('reservation', 1.3274554662572557),\n",
       "  ('architecture', 1.3274554516592698),\n",
       "  ('prices', 1.3274554453191039),\n",
       "  ('place', 1.3274554410279564),\n",
       "  ('drink', 1.3274554247908086),\n",
       "  ('dinner', 1.327455408364715),\n",
       "  ('music', 1.327455407938705),\n",
       "  ('ginger', 1.3274554049126266),\n",
       "  ('mashed', 1.3274553952418424)],\n",
       " 2: [('portion', 1.3278007729411696),\n",
       "  ('sticky', 1.3278007529828562),\n",
       "  ('chocolate', 1.3278007268796324),\n",
       "  ('dishes', 1.327800724814796),\n",
       "  ('crust', 1.3278007246224672),\n",
       "  ('waitress', 1.3278007199681843),\n",
       "  ('side', 1.3278007162857177),\n",
       "  ('toffee', 1.327800715946603),\n",
       "  ('sausages', 1.3278007105944984),\n",
       "  ('desserts', 1.327800694659411)]}"
      ]
     },
     "execution_count": 275,
     "metadata": {},
     "output_type": "execute_result"
    }
   ],
   "source": [
    "topic_all"
   ]
  },
  {
   "cell_type": "code",
   "execution_count": 276,
   "id": "28131f0b",
   "metadata": {},
   "outputs": [
    {
     "data": {
      "text/plain": [
       "['mash', 'beef', 'portion']"
      ]
     },
     "execution_count": 276,
     "metadata": {},
     "output_type": "execute_result"
    }
   ],
   "source": [
    "topic_ls"
   ]
  },
  {
   "cell_type": "code",
   "execution_count": null,
   "id": "6818cf6e",
   "metadata": {},
   "outputs": [],
   "source": []
  },
  {
   "cell_type": "code",
   "execution_count": 283,
   "id": "6a1f92d2",
   "metadata": {},
   "outputs": [
    {
     "data": {
      "image/png": "[encoded data removed]",
      "text/plain": [
       "<Figure size 2000x1000 with 3 Axes>"
      ]
     },
     "metadata": {},
     "output_type": "display_data"
    }
   ],
   "source": [
    "fig = plt.figure(figsize=(20,10))\n",
    "\n",
    "for key in topic_all.keys():\n",
    "    plt.subplot(2, 3, key + 1)\n",
    "    words = [tup[0] for tup in topic_all[key]]\n",
    "    scores = [tup[1] for tup in topic_all[key]]\n",
    "    plt.barh(words, scores)\n",
    "    plt.title(f\"Topic {key}\")\n",
    "    \n",
    "\n",
    "plt.show()"
   ]
  },
  {
   "cell_type": "code",
   "execution_count": 303,
   "id": "418d1b04",
   "metadata": {},
   "outputs": [],
   "source": [
    "from sklearn.feature_extraction.text import TfidfVectorizer\n",
    "from sklearn.cluster import KMeans\n",
    "import re\n",
    "from collections import Counter\n"
   ]
  },
  {
   "cell_type": "code",
   "execution_count": 304,
   "id": "606d7bac",
   "metadata": {},
   "outputs": [],
   "source": [
    "tfidf_vectorizer = TfidfVectorizer()\n",
    "tfidf = tfidf_vectorizer.fit_transform(aspects)\n",
    "kmeans = KMeans(n_clusters=3).fit(tfidf)"
   ]
  },
  {
   "cell_type": "code",
   "execution_count": 305,
   "id": "70b494bd",
   "metadata": {},
   "outputs": [],
   "source": [
    "labels = list(kmeans.labels_)\n",
    "keys = aspects_ls"
   ]
  },
  {
   "cell_type": "code",
   "execution_count": 306,
   "id": "4637c0ef",
   "metadata": {},
   "outputs": [],
   "source": [
    "# Need for method \n",
    "\n",
    "c = {}\n",
    "for i, l in enumerate(labels):\n",
    "    if c.get(labels[i]) is None:\n",
    "        w = []\n",
    "        w.append(keys[i])\n",
    "        c[labels[i]] = w\n",
    "    else:\n",
    "        w = c.get(labels[i])\n",
    "        w.append(keys[i])\n",
    "        c[labels[i]] = w\n",
    "        \n",
    "    "
   ]
  },
  {
   "cell_type": "code",
   "execution_count": 310,
   "id": "f7cc9b9a",
   "metadata": {},
   "outputs": [],
   "source": [
    "# Need for method \n",
    "def get_clusters(clusters):\n",
    "    all_clusters = []\n",
    "    sent_clust_0 = []\n",
    "    for fs in clusters[0]:\n",
    "        for sent in aspects[fs]:\n",
    "            sent_clust_0.append(sent) \n",
    "    all_clusters.append(sent_clust_0)\n",
    "\n",
    "    sent_clust_1 = []\n",
    "    for fs in clusters[1]:\n",
    "        for sent in aspects[fs]:\n",
    "            sent_clust_1.append(sent) \n",
    "            \n",
    "    all_clusters.append(sent_clust_1)\n",
    "\n",
    "    sent_clust_2 = []\n",
    "    for fs in clusters[2]:\n",
    "        for sent in aspects[fs]:\n",
    "            sent_clust_2.append(sent)  \n",
    "            \n",
    "    all_clusters.append(sent_clust_2)\n",
    "    \n",
    "#     sent_clust_3 = []\n",
    "#     for fs in clusters[3]:\n",
    "#         for sent in aspects[fs]:\n",
    "#             sent_clust_3.append(sent)   \n",
    "#     all_clusters.append(sent_clust_3)\n",
    "    \n",
    "#     sent_clust_4 = []\n",
    "#     for fs in clusters[4]:\n",
    "#         for sent in aspects[fs]:\n",
    "#             sent_clust_4.append(sent)  \n",
    "#     all_clusters.append(sent_clust_4)\n",
    "    \n",
    "    return all_clusters\n",
    "\n"
   ]
  },
  {
   "cell_type": "code",
   "execution_count": 311,
   "id": "b390953a",
   "metadata": {},
   "outputs": [],
   "source": [
    "clusters = get_clusters(c)"
   ]
  },
  {
   "cell_type": "code",
   "execution_count": 312,
   "id": "de1dd6ef",
   "metadata": {},
   "outputs": [
    {
     "data": {
      "text/plain": [
       "[{'Positive': 45, 'Negative': 5, 'Neutral': 3},\n",
       " {'Positive': 1},\n",
       " {'Positive': 1}]"
      ]
     },
     "execution_count": 312,
     "metadata": {},
     "output_type": "execute_result"
    }
   ],
   "source": [
    "sent_dfs = []\n",
    "\n",
    "for cluster in clusters:\n",
    "    sentiments = Counter()\n",
    "    for s in cluster:\n",
    "        sentiments[s] += 1\n",
    "    sentiments = dict(sentiments)\n",
    "    sent_dfs.append(sentiments)\n",
    "        \n",
    "sent_dfs  "
   ]
  },
  {
   "cell_type": "code",
   "execution_count": 313,
   "id": "470d2261",
   "metadata": {},
   "outputs": [],
   "source": [
    "df_1 = pd.DataFrame(sent_dfs)\n"
   ]
  },
  {
   "cell_type": "code",
   "execution_count": 314,
   "id": "19e9c2e0",
   "metadata": {},
   "outputs": [
    {
     "data": {
      "text/html": [
       "<div>\n",
       "<style scoped>\n",
       "    .dataframe tbody tr th:only-of-type {\n",
       "        vertical-align: middle;\n",
       "    }\n",
       "\n",
       "    .dataframe tbody tr th {\n",
       "        vertical-align: top;\n",
       "    }\n",
       "\n",
       "    .dataframe thead th {\n",
       "        text-align: right;\n",
       "    }\n",
       "</style>\n",
       "<table border=\"1\" class=\"dataframe\">\n",
       "  <thead>\n",
       "    <tr style=\"text-align: right;\">\n",
       "      <th></th>\n",
       "      <th>Positive</th>\n",
       "      <th>Negative</th>\n",
       "      <th>Neutral</th>\n",
       "    </tr>\n",
       "  </thead>\n",
       "  <tbody>\n",
       "    <tr>\n",
       "      <th>0</th>\n",
       "      <td>45</td>\n",
       "      <td>5.0</td>\n",
       "      <td>3.0</td>\n",
       "    </tr>\n",
       "    <tr>\n",
       "      <th>1</th>\n",
       "      <td>1</td>\n",
       "      <td>NaN</td>\n",
       "      <td>NaN</td>\n",
       "    </tr>\n",
       "    <tr>\n",
       "      <th>2</th>\n",
       "      <td>1</td>\n",
       "      <td>NaN</td>\n",
       "      <td>NaN</td>\n",
       "    </tr>\n",
       "  </tbody>\n",
       "</table>\n",
       "</div>"
      ],
      "text/plain": [
       "   Positive  Negative  Neutral\n",
       "0        45       5.0      3.0\n",
       "1         1       NaN      NaN\n",
       "2         1       NaN      NaN"
      ]
     },
     "execution_count": 314,
     "metadata": {},
     "output_type": "execute_result"
    }
   ],
   "source": [
    "df_1"
   ]
  },
  {
   "cell_type": "code",
   "execution_count": null,
   "id": "82677370",
   "metadata": {},
   "outputs": [],
   "source": []
  },
  {
   "cell_type": "code",
   "execution_count": null,
   "id": "b225aebc",
   "metadata": {},
   "outputs": [],
   "source": []
  },
  {
   "cell_type": "code",
   "execution_count": null,
   "id": "a25074de",
   "metadata": {},
   "outputs": [],
   "source": []
  }
 ],
 "metadata": {
  "kernelspec": {
   "display_name": "Python 3 (ipykernel)",
   "language": "python",
   "name": "python3"
  },
  "language_info": {
   "codemirror_mode": {
    "name": "ipython",
    "version": 3
   },
   "file_extension": ".py",
   "mimetype": "text/x-python",
   "name": "python",
   "nbconvert_exporter": "python",
   "pygments_lexer": "ipython3",
   "version": "3.10.6"
  },
  "toc": {
   "base_numbering": 1,
   "nav_menu": {},
   "number_sections": true,
   "sideBar": true,
   "skip_h1_title": false,
   "title_cell": "Table of Contents",
   "title_sidebar": "Contents",
   "toc_cell": false,
   "toc_position": {},
   "toc_section_display": true,
   "toc_window_display": false
  }
 },
 "nbformat": 4,
 "nbformat_minor": 5
}
