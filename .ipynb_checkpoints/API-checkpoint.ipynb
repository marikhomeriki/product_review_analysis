{
 "cells": [
  {
   "cell_type": "markdown",
   "id": "f02e1ace",
   "metadata": {},
   "source": [
    "# Yelp Review Analysis"
   ]
  },
  {
   "cell_type": "markdown",
   "id": "2bc5bbc6",
   "metadata": {},
   "source": [
    "## doing API stuff"
   ]
  },
  {
   "cell_type": "markdown",
   "id": "4ca57f9d",
   "metadata": {},
   "source": [
    "Login credentials Yelp:\n",
    "Username: lewagon1050\n",
    "Password: Lewagon123!\n",
    "\n",
    "Client ID\n",
    "qcjN9OTPgwtPb6ecSV22pA\n",
    "\n",
    "API Key\n",
    "9s8a-biE80cuF-goHhalkb7g9zOS_fQLYJD20fS1vd76xs7lHYDIQk3QjGG_hmM3ahIa7ZiNBY94IuJZebipC3f1EKAOk0yQ7htCnZvIOD3eYXFtPSUV02wGuMaEY3Yx\n",
    "\n",
    "Authenticate API calls with the API Key\n",
    "To authenticate API calls with the API Key, set the Authorization HTTP header value as Bearer API_KEY.\n",
    "\n",
    "With just API Keys the process to authenticate is:\n",
    "\n",
    "Get your API Key from the Manage App page.\n",
    "Put the API Key in the request header as \"Authorization: Bearer <YOUR API KEY>\".\n",
    "    \n",
    "Reviews Endpoint:\n",
    "/businesses/{id}/reviews\n",
    "    \n",
    "By default, a client is limited to 5,000 API calls per 24 hours, resetting every midnight UTC. Your remaining calls, along with your maximum and the time at which your limit will reset are returned in the header of each response."
   ]
  },
  {
   "cell_type": "code",
   "execution_count": null,
   "id": "12bec73c",
   "metadata": {},
   "outputs": [],
   "source": [
    "#eg \"dishoom-london\"\n",
    "#url = 'https://api.yelp.com/v3/businesses/dishoom-london/reviews'\n",
    "#GET https://api.yelp.com/v3/businesses/{id}/reviews\n",
    "#response = requests.get(url).json()"
   ]
  },
  {
   "cell_type": "code",
   "execution_count": null,
   "id": "bf765f09",
   "metadata": {},
   "outputs": [],
   "source": [
    "#tried a call for \"dishoom-london\" with Postman (postman.co)\n",
    "#response:\n",
    "\n",
    "#{\n",
    "#    \"reviews\": [\n",
    "#        {\n",
    "#            \"id\": \"QZyYM179Be4QgIc4jQZD4g\",\n",
    "#            \"url\": \"https://www.yelp.com/biz/dishoom-london?adjust_creative=qcjN9OTPgwtPb6ecSV22pA&hrid=QZyYM179Be4QgIc4jQZD4g&utm_campaign=yelp_api_v3&utm_medium=api_v3_business_reviews&utm_source=qcjN9OTPgwtPb6ecSV22pA\",\n",
    "#            \"text\": \"the most authentic Indian restaurant in London by far. Every dish we had was amazing and reminded me of my home country. Also the atmosphere and vibe is...\",\n",
    "#            \"rating\": 5,\n",
    "#            \"time_created\": \"2022-10-10 10:15:18\",\n",
    "#            \"user\": {\n",
    "#                \"id\": \"uQ7XfI2pjH7kgZJoxPRIkA\",\n",
    "#                \"profile_url\": \"https://www.yelp.com/user_details?userid=uQ7XfI2pjH7kgZJoxPRIkA\",\n",
    "#                \"image_url\": null,\n",
    "#                \"name\": \"Marco L.\"\n",
    "#            }\n",
    "#        },\n",
    "#        {\n",
    "#            \"id\": \"1px57SaDMShk5J991VKTag\",\n",
    "#            \"url\": \"https://www.yelp.com/biz/dishoom-london?adjust_creative=qcjN9OTPgwtPb6ecSV22pA&hrid=1px57SaDMShk5J991VKTag&utm_campaign=yelp_api_v3&utm_medium=api_v3_business_reviews&utm_source=qcjN9OTPgwtPb6ecSV22pA\",\n",
    "#            \"text\": \"Hundreds of happy customers come through every hour.  Don't let the outdoor queue scare you off as it did me last night but I came back for lunch today and...\",\n",
    "#            \"rating\": 5,\n",
    "#            \"time_created\": \"2022-11-27 07:45:02\",\n",
    "#            \"user\": {\n",
    "#                \"id\": \"AizlLNBn83FJh29KXigCLw\",\n",
    "#                \"profile_url\": \"https://www.yelp.com/user_details?userid=AizlLNBn83FJh29KXigCLw\",\n",
    "#                \"image_url\": \"https://s3-media3.fl.yelpcdn.com/photo/bPufU7K5JQSqUjMHoB8tVg/o.jpg\",\n",
    "#                \"name\": \"Tony B.\"\n",
    "#            }\n",
    "#        },\n",
    "#        {\n",
    "#            \"id\": \"F803e3xKNSTK6Ct-ilS3Jw\",\n",
    "#            \"url\": \"https://www.yelp.com/biz/dishoom-london?adjust_creative=qcjN9OTPgwtPb6ecSV22pA&hrid=F803e3xKNSTK6Ct-ilS3Jw&utm_campaign=yelp_api_v3&utm_medium=api_v3_business_reviews&utm_source=qcjN9OTPgwtPb6ecSV22pA\",\n",
    "#            \"text\": \"Have been wanting to go to Dishoom for years and I was glad it conveniently fit into my morning schedule. I passed it several times in the days before in...\",\n",
    "#            \"rating\": 4,\n",
    "#            \"time_created\": \"2022-11-23 00:52:05\",\n",
    "#            \"user\": {\n",
    "#                \"id\": \"2PeqtdiehYm82TXymQUGow\",\n",
    "#                \"profile_url\": \"https://www.yelp.com/user_details?userid=2PeqtdiehYm82TXymQUGow\",\n",
    "#                \"image_url\": \"https://s3-media1.fl.yelpcdn.com/photo/3OobBd7_oFk_6T87U3QwGw/o.jpg\",\n",
    "#                \"name\": \"Michelle V.\"\n",
    "#            }\n",
    "#        }\n",
    "#    ],\n",
    "#    \"total\": 2157,\n",
    "#    \"possible_languages\": [\n",
    "#        \"en\",\n",
    "#        \"fr\",\n",
    "#        \"de\",\n",
    "#        \"sv\",\n",
    "#        \"pl\",\n",
    "#        \"cs\",\n",
    "#        \"ja\",\n",
    "#        \"es\",\n",
    "#        \"it\",\n",
    "#        \"zh\",\n",
    "#        \"nl\"\n",
    "#    ]\n",
    "#}"
   ]
  },
  {
   "cell_type": "markdown",
   "id": "6d325cfc",
   "metadata": {},
   "source": [
    "/businesses/{id}/reviews\n",
    "\"This endpoint returns up to three review excerpts for a given business ordered by\"\n",
    "\n",
    "=> We decided to go for Scraping\n",
    "\n",
    "discussion also here:\n",
    "https://stackoverflow.com/questions/49373125/how-to-get-more-than-3-reviews-from-yelp-api-request"
   ]
  },
  {
   "cell_type": "code",
   "execution_count": 1,
   "id": "887ca122",
   "metadata": {},
   "outputs": [],
   "source": [
    "# we WILL need a list of all the restaurants (or rather IDs) though"
   ]
  }
 ],
 "metadata": {
  "kernelspec": {
   "display_name": "Python 3 (ipykernel)",
   "language": "python",
   "name": "python3"
  },
  "language_info": {
   "codemirror_mode": {
    "name": "ipython",
    "version": 3
   },
   "file_extension": ".py",
   "mimetype": "text/x-python",
   "name": "python",
   "nbconvert_exporter": "python",
   "pygments_lexer": "ipython3",
   "version": "3.10.6"
  },
  "toc": {
   "base_numbering": 1,
   "nav_menu": {},
   "number_sections": true,
   "sideBar": true,
   "skip_h1_title": false,
   "title_cell": "Table of Contents",
   "title_sidebar": "Contents",
   "toc_cell": false,
   "toc_position": {},
   "toc_section_display": true,
   "toc_window_display": false
  }
 },
 "nbformat": 4,
 "nbformat_minor": 5
}
