{
 "cells": [
  {
   "cell_type": "code",
   "execution_count": 53,
   "id": "6c5ea8e1",
   "metadata": {},
   "outputs": [],
   "source": [
    "import pandas as pd\n",
    "import os\n",
    "import numpy as np\n",
    "from wordcloud import WordCloud\n",
    "from nltk.corpus import stopwords\n",
    "import matplotlib.pyplot as plt"
   ]
  },
  {
   "cell_type": "code",
   "execution_count": 56,
   "id": "4e435519",
   "metadata": {},
   "outputs": [],
   "source": [
    "df = pd.read_csv('/Users/marikhomeriki/code/marikhomeriki/product_review_analysis/raw_data/train_data/train.csv', header = None)\n",
    "# df_test = pd.read_csv('/Users/marikhomeriki/code/marikhomeriki/product_review_analysis/raw_data/test_data/test.csv', header=None)\n",
    "# df_test = df.rename({0: 'label', 1: 'text'}, axis = 1)\n",
    "df = df.rename({0: 'label', 1: 'text'}, axis = 1)"
   ]
  },
  {
   "cell_type": "code",
   "execution_count": 58,
   "id": "b6bead00",
   "metadata": {},
   "outputs": [],
   "source": [
    "df = df['text']"
   ]
  },
  {
   "cell_type": "code",
   "execution_count": 59,
   "id": "23c70a5b",
   "metadata": {},
   "outputs": [],
   "source": [
    "df = pd.DataFrame(df)"
   ]
  },
  {
   "cell_type": "code",
   "execution_count": 60,
   "id": "a48e4fce",
   "metadata": {},
   "outputs": [
    {
     "data": {
      "text/html": [
       "<div>\n",
       "<style scoped>\n",
       "    .dataframe tbody tr th:only-of-type {\n",
       "        vertical-align: middle;\n",
       "    }\n",
       "\n",
       "    .dataframe tbody tr th {\n",
       "        vertical-align: top;\n",
       "    }\n",
       "\n",
       "    .dataframe thead th {\n",
       "        text-align: right;\n",
       "    }\n",
       "</style>\n",
       "<table border=\"1\" class=\"dataframe\">\n",
       "  <thead>\n",
       "    <tr style=\"text-align: right;\">\n",
       "      <th></th>\n",
       "      <th>text</th>\n",
       "    </tr>\n",
       "  </thead>\n",
       "  <tbody>\n",
       "    <tr>\n",
       "      <th>0</th>\n",
       "      <td>Unfortunately, the frustration of being Dr. Go...</td>\n",
       "    </tr>\n",
       "    <tr>\n",
       "      <th>1</th>\n",
       "      <td>Been going to Dr. Goldberg for over 10 years. ...</td>\n",
       "    </tr>\n",
       "    <tr>\n",
       "      <th>2</th>\n",
       "      <td>I don't know what Dr. Goldberg was like before...</td>\n",
       "    </tr>\n",
       "    <tr>\n",
       "      <th>3</th>\n",
       "      <td>I'm writing this review to give you a heads up...</td>\n",
       "    </tr>\n",
       "    <tr>\n",
       "      <th>4</th>\n",
       "      <td>All the food is great here. But the best thing...</td>\n",
       "    </tr>\n",
       "  </tbody>\n",
       "</table>\n",
       "</div>"
      ],
      "text/plain": [
       "                                                text\n",
       "0  Unfortunately, the frustration of being Dr. Go...\n",
       "1  Been going to Dr. Goldberg for over 10 years. ...\n",
       "2  I don't know what Dr. Goldberg was like before...\n",
       "3  I'm writing this review to give you a heads up...\n",
       "4  All the food is great here. But the best thing..."
      ]
     },
     "execution_count": 60,
     "metadata": {},
     "output_type": "execute_result"
    }
   ],
   "source": [
    "df.head()"
   ]
  },
  {
   "cell_type": "code",
   "execution_count": 61,
   "id": "8bf4bf76",
   "metadata": {},
   "outputs": [],
   "source": [
    "from nltk.corpus import stopwords \n",
    "import string\n",
    "from nltk.stem.wordnet import WordNetLemmatizer\n",
    "from nltk import word_tokenize \n",
    "\n",
    "def clean (text):\n",
    "    for punctuation in string.punctuation:\n",
    "        text = text.replace(punctuation, ' ') # Remove Punctuation\n",
    "    lowercased = text.lower() # Lower Case\n",
    "    tokenized = word_tokenize(lowercased) # Tokenize\n",
    "    words_only = [word for word in tokenized if word.isalpha()] # Remove numbers\n",
    "    stop_words = set(stopwords.words('english')) # Make stopword list\n",
    "    without_stopwords = [word for word in words_only if not word in stop_words] # Remove Stop Words\n",
    "    lemma=WordNetLemmatizer() # Initiate Lemmatizer\n",
    "    lemmatized = [lemma.lemmatize(word) for word in without_stopwords] # Lemmatize\n",
    "    return lemmatized"
   ]
  },
  {
   "cell_type": "code",
   "execution_count": 62,
   "id": "9fbe6539",
   "metadata": {},
   "outputs": [],
   "source": [
    "df_text = df.text"
   ]
  },
  {
   "cell_type": "code",
   "execution_count": 63,
   "id": "e0851ad5",
   "metadata": {},
   "outputs": [],
   "source": [
    "df_text = pd.DataFrame(df_text)"
   ]
  },
  {
   "cell_type": "code",
   "execution_count": 64,
   "id": "04095137",
   "metadata": {},
   "outputs": [
    {
     "data": {
      "text/html": [
       "<div>\n",
       "<style scoped>\n",
       "    .dataframe tbody tr th:only-of-type {\n",
       "        vertical-align: middle;\n",
       "    }\n",
       "\n",
       "    .dataframe tbody tr th {\n",
       "        vertical-align: top;\n",
       "    }\n",
       "\n",
       "    .dataframe thead th {\n",
       "        text-align: right;\n",
       "    }\n",
       "</style>\n",
       "<table border=\"1\" class=\"dataframe\">\n",
       "  <thead>\n",
       "    <tr style=\"text-align: right;\">\n",
       "      <th></th>\n",
       "      <th>text</th>\n",
       "    </tr>\n",
       "  </thead>\n",
       "  <tbody>\n",
       "    <tr>\n",
       "      <th>0</th>\n",
       "      <td>Unfortunately, the frustration of being Dr. Go...</td>\n",
       "    </tr>\n",
       "    <tr>\n",
       "      <th>1</th>\n",
       "      <td>Been going to Dr. Goldberg for over 10 years. ...</td>\n",
       "    </tr>\n",
       "    <tr>\n",
       "      <th>2</th>\n",
       "      <td>I don't know what Dr. Goldberg was like before...</td>\n",
       "    </tr>\n",
       "    <tr>\n",
       "      <th>3</th>\n",
       "      <td>I'm writing this review to give you a heads up...</td>\n",
       "    </tr>\n",
       "    <tr>\n",
       "      <th>4</th>\n",
       "      <td>All the food is great here. But the best thing...</td>\n",
       "    </tr>\n",
       "    <tr>\n",
       "      <th>...</th>\n",
       "      <td>...</td>\n",
       "    </tr>\n",
       "    <tr>\n",
       "      <th>559995</th>\n",
       "      <td>Ryan was as good as everyone on yelp has claim...</td>\n",
       "    </tr>\n",
       "    <tr>\n",
       "      <th>559996</th>\n",
       "      <td>Professional \\nFriendly\\nOn time AND affordabl...</td>\n",
       "    </tr>\n",
       "    <tr>\n",
       "      <th>559997</th>\n",
       "      <td>Phone calls always go to voicemail and message...</td>\n",
       "    </tr>\n",
       "    <tr>\n",
       "      <th>559998</th>\n",
       "      <td>Looks like all of the good reviews have gone t...</td>\n",
       "    </tr>\n",
       "    <tr>\n",
       "      <th>559999</th>\n",
       "      <td>Ryan Rocks! I called him this morning for some...</td>\n",
       "    </tr>\n",
       "  </tbody>\n",
       "</table>\n",
       "<p>560000 rows × 1 columns</p>\n",
       "</div>"
      ],
      "text/plain": [
       "                                                     text\n",
       "0       Unfortunately, the frustration of being Dr. Go...\n",
       "1       Been going to Dr. Goldberg for over 10 years. ...\n",
       "2       I don't know what Dr. Goldberg was like before...\n",
       "3       I'm writing this review to give you a heads up...\n",
       "4       All the food is great here. But the best thing...\n",
       "...                                                   ...\n",
       "559995  Ryan was as good as everyone on yelp has claim...\n",
       "559996  Professional \\nFriendly\\nOn time AND affordabl...\n",
       "559997  Phone calls always go to voicemail and message...\n",
       "559998  Looks like all of the good reviews have gone t...\n",
       "559999  Ryan Rocks! I called him this morning for some...\n",
       "\n",
       "[560000 rows x 1 columns]"
      ]
     },
     "execution_count": 64,
     "metadata": {},
     "output_type": "execute_result"
    }
   ],
   "source": [
    "df_text"
   ]
  },
  {
   "cell_type": "code",
   "execution_count": 65,
   "id": "cf8c3911",
   "metadata": {},
   "outputs": [],
   "source": [
    "len_train = int(10/100*len(df_text['text']))\n",
    "df_text = df_text['text']\n",
    "df_text = df_text[:len_train]"
   ]
  },
  {
   "cell_type": "code",
   "execution_count": 66,
   "id": "8d0d0b6b",
   "metadata": {},
   "outputs": [],
   "source": [
    "df_text = pd.DataFrame(df_text)"
   ]
  },
  {
   "cell_type": "code",
   "execution_count": 67,
   "id": "cd2a7a98",
   "metadata": {},
   "outputs": [],
   "source": [
    "df_text['clean_text'] = df_text.text.apply(clean)\n",
    "df_text['clean_text'] = df_text['clean_text'].astype('str')"
   ]
  },
  {
   "cell_type": "code",
   "execution_count": 68,
   "id": "37b8c836",
   "metadata": {},
   "outputs": [
    {
     "data": {
      "text/html": [
       "<div>\n",
       "<style scoped>\n",
       "    .dataframe tbody tr th:only-of-type {\n",
       "        vertical-align: middle;\n",
       "    }\n",
       "\n",
       "    .dataframe tbody tr th {\n",
       "        vertical-align: top;\n",
       "    }\n",
       "\n",
       "    .dataframe thead th {\n",
       "        text-align: right;\n",
       "    }\n",
       "</style>\n",
       "<table border=\"1\" class=\"dataframe\">\n",
       "  <thead>\n",
       "    <tr style=\"text-align: right;\">\n",
       "      <th></th>\n",
       "      <th>text</th>\n",
       "      <th>clean_text</th>\n",
       "    </tr>\n",
       "  </thead>\n",
       "  <tbody>\n",
       "    <tr>\n",
       "      <th>0</th>\n",
       "      <td>Unfortunately, the frustration of being Dr. Go...</td>\n",
       "      <td>['unfortunately', 'frustration', 'dr', 'goldbe...</td>\n",
       "    </tr>\n",
       "    <tr>\n",
       "      <th>1</th>\n",
       "      <td>Been going to Dr. Goldberg for over 10 years. ...</td>\n",
       "      <td>['going', 'dr', 'goldberg', 'year', 'think', '...</td>\n",
       "    </tr>\n",
       "    <tr>\n",
       "      <th>2</th>\n",
       "      <td>I don't know what Dr. Goldberg was like before...</td>\n",
       "      <td>['know', 'dr', 'goldberg', 'like', 'moving', '...</td>\n",
       "    </tr>\n",
       "    <tr>\n",
       "      <th>3</th>\n",
       "      <td>I'm writing this review to give you a heads up...</td>\n",
       "      <td>['writing', 'review', 'give', 'head', 'see', '...</td>\n",
       "    </tr>\n",
       "    <tr>\n",
       "      <th>4</th>\n",
       "      <td>All the food is great here. But the best thing...</td>\n",
       "      <td>['food', 'great', 'best', 'thing', 'wing', 'wi...</td>\n",
       "    </tr>\n",
       "    <tr>\n",
       "      <th>...</th>\n",
       "      <td>...</td>\n",
       "      <td>...</td>\n",
       "    </tr>\n",
       "    <tr>\n",
       "      <th>55995</th>\n",
       "      <td>I took a party of 6 friends and co-workers the...</td>\n",
       "      <td>['took', 'party', 'friend', 'co', 'worker', 'l...</td>\n",
       "    </tr>\n",
       "    <tr>\n",
       "      <th>55996</th>\n",
       "      <td>Stop by for lunch based on Yelp reviews. Tasty...</td>\n",
       "      <td>['stop', 'lunch', 'based', 'yelp', 'review', '...</td>\n",
       "    </tr>\n",
       "    <tr>\n",
       "      <th>55997</th>\n",
       "      <td>Best persian food ever.\\nWOW!\\n\\nPossibly the ...</td>\n",
       "      <td>['best', 'persian', 'food', 'ever', 'nwow', 'n...</td>\n",
       "    </tr>\n",
       "    <tr>\n",
       "      <th>55998</th>\n",
       "      <td>Habibbbbbb is the rudest, meanest, uglyist, gu...</td>\n",
       "      <td>['habibbbbbb', 'rudest', 'meanest', 'uglyist',...</td>\n",
       "    </tr>\n",
       "    <tr>\n",
       "      <th>55999</th>\n",
       "      <td>First if there is a way to give zero stars, I ...</td>\n",
       "      <td>['first', 'way', 'give', 'zero', 'star', 'woul...</td>\n",
       "    </tr>\n",
       "  </tbody>\n",
       "</table>\n",
       "<p>56000 rows × 2 columns</p>\n",
       "</div>"
      ],
      "text/plain": [
       "                                                    text  \\\n",
       "0      Unfortunately, the frustration of being Dr. Go...   \n",
       "1      Been going to Dr. Goldberg for over 10 years. ...   \n",
       "2      I don't know what Dr. Goldberg was like before...   \n",
       "3      I'm writing this review to give you a heads up...   \n",
       "4      All the food is great here. But the best thing...   \n",
       "...                                                  ...   \n",
       "55995  I took a party of 6 friends and co-workers the...   \n",
       "55996  Stop by for lunch based on Yelp reviews. Tasty...   \n",
       "55997  Best persian food ever.\\nWOW!\\n\\nPossibly the ...   \n",
       "55998  Habibbbbbb is the rudest, meanest, uglyist, gu...   \n",
       "55999  First if there is a way to give zero stars, I ...   \n",
       "\n",
       "                                              clean_text  \n",
       "0      ['unfortunately', 'frustration', 'dr', 'goldbe...  \n",
       "1      ['going', 'dr', 'goldberg', 'year', 'think', '...  \n",
       "2      ['know', 'dr', 'goldberg', 'like', 'moving', '...  \n",
       "3      ['writing', 'review', 'give', 'head', 'see', '...  \n",
       "4      ['food', 'great', 'best', 'thing', 'wing', 'wi...  \n",
       "...                                                  ...  \n",
       "55995  ['took', 'party', 'friend', 'co', 'worker', 'l...  \n",
       "55996  ['stop', 'lunch', 'based', 'yelp', 'review', '...  \n",
       "55997  ['best', 'persian', 'food', 'ever', 'nwow', 'n...  \n",
       "55998  ['habibbbbbb', 'rudest', 'meanest', 'uglyist',...  \n",
       "55999  ['first', 'way', 'give', 'zero', 'star', 'woul...  \n",
       "\n",
       "[56000 rows x 2 columns]"
      ]
     },
     "execution_count": 68,
     "metadata": {},
     "output_type": "execute_result"
    }
   ],
   "source": [
    "df_text"
   ]
  },
  {
   "cell_type": "code",
   "execution_count": 69,
   "id": "cd411451",
   "metadata": {},
   "outputs": [],
   "source": [
    "from sklearn.decomposition import LatentDirichletAllocation\n",
    "from sklearn.feature_extraction.text import CountVectorizer\n",
    "\n",
    "vectorizer = CountVectorizer()\n",
    "\n",
    "data_vectorized = vectorizer.fit_transform(df_text['clean_text'])\n",
    "\n",
    "lda_model = LatentDirichletAllocation(n_components=3)\n",
    "\n",
    "lda_vectors = lda_model.fit_transform(data_vectorized)"
   ]
  },
  {
   "cell_type": "code",
   "execution_count": 36,
   "id": "4a38686f",
   "metadata": {},
   "outputs": [],
   "source": [
    "def print_topics(model, vectorizer):\n",
    "    for idx, topic in enumerate(model.components_):\n",
    "        print(\"Topic %d:\" % (idx))\n",
    "        print([(vectorizer.get_feature_names_out()[i], topic[i])\n",
    "                        for i in topic.argsort()[:-10 - 1:-1]])"
   ]
  },
  {
   "cell_type": "code",
   "execution_count": 37,
   "id": "0ee6eb03",
   "metadata": {},
   "outputs": [
    {
     "name": "stdout",
     "output_type": "stream",
     "text": [
      "Topic 0:\n",
      "[('place', 8.304408244297012), ('food', 7.2839309646861965), ('like', 5.229908612708771), ('restaurant', 2.2501345473192442), ('ripped', 2.249826955583492), ('worst', 2.249789990173925), ('found', 2.249759044912799), ('delicious', 2.249694723126523), ('amazing', 2.246201682670819), ('never', 2.245548352429745)]\n",
      "Topic 1:\n",
      "[('like', 3.2552473101840214), ('never', 3.2542074205515674), ('service', 3.238949213629143), ('customer', 2.263019747740604), ('ever', 2.2499159234942154), ('still', 2.249900485708298), ('care', 2.2498887724529624), ('also', 2.2498318167045452), ('place', 2.195283831088168), ('back', 1.266797087531936)]\n",
      "Topic 2:\n",
      "[('good', 3.2500571968787937), ('really', 3.249877039650768), ('salad', 2.261752052476135), ('party', 2.2532704806375747), ('tender', 2.251341805302101), ('greek', 2.2499248396107783), ('bye', 2.249859750025168), ('damn', 2.2498280706053486), ('like', 2.2488985653514), ('time', 2.2484185876633953)]\n",
      "Topic 3:\n",
      "[('good', 8.149608302896468), ('great', 7.272871017113324), ('service', 6.257669729935276), ('time', 4.283438384355979), ('like', 4.265945511755555), ('portion', 3.2497434561467657), ('go', 2.278196880072801), ('want', 2.2542464192890486), ('made', 2.2520304294198366), ('feel', 2.249920024328641)]\n"
     ]
    }
   ],
   "source": [
    "print_topics(lda_model, vectorizer)"
   ]
  },
  {
   "cell_type": "code",
   "execution_count": null,
   "id": "c3852c1a",
   "metadata": {},
   "outputs": [],
   "source": []
  }
 ],
 "metadata": {
  "kernelspec": {
   "display_name": "Python 3 (ipykernel)",
   "language": "python",
   "name": "python3"
  },
  "language_info": {
   "codemirror_mode": {
    "name": "ipython",
    "version": 3
   },
   "file_extension": ".py",
   "mimetype": "text/x-python",
   "name": "python",
   "nbconvert_exporter": "python",
   "pygments_lexer": "ipython3",
   "version": "3.10.6"
  },
  "toc": {
   "base_numbering": 1,
   "nav_menu": {},
   "number_sections": true,
   "sideBar": true,
   "skip_h1_title": false,
   "title_cell": "Table of Contents",
   "title_sidebar": "Contents",
   "toc_cell": false,
   "toc_position": {},
   "toc_section_display": true,
   "toc_window_display": false
  }
 },
 "nbformat": 4,
 "nbformat_minor": 5
}
