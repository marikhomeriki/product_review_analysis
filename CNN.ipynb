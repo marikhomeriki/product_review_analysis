{
 "cells": [
  {
   "cell_type": "code",
   "execution_count": null,
   "id": "7a6975ac",
   "metadata": {},
   "outputs": [],
   "source": [
    "vocab_size = len(tokenizer.word_index)"
   ]
  },
  {
   "cell_type": "code",
   "execution_count": null,
   "id": "446ebf50",
   "metadata": {},
   "outputs": [],
   "source": [
    "#Using 1D CNN\n",
    "\n",
    "def init_cnn_model():\n",
    "    model = Sequential(input_dim= x, output_dim=10, mask_zero=True, input_length=150)\n",
    "    model.add(layers.Conv1D(20, kernel_size=2))\n",
    "    model.add(layers.Flatten())\n",
    "    #model.add(layers.Dense(20,))\n",
    "    model.add(layers.Dense(1, activation='sigmoid'))\n",
    "\n",
    "    model.compile(loss='binary_crossentropy', optimizer='x', metrics=['accuracy'])\n",
    "    return model\n",
    "\n",
    "model_cnn = init_cnn_model()\n",
    "\n",
    "\n",
    "es = EarlyStopping(patience=5, restore_best_weights=True)\n",
    "\n",
    "model_cnn.fit(#X_train_pad, y_train, \n",
    "          epochs=20, \n",
    "          batch_size=32,\n",
    "          validation_split=0.3,\n",
    "          callbacks=[es]\n",
    "         )\n",
    "\n",
    "\n",
    "res = model_cnn.evaluate(#X_test_pad_2, y_test, verbose=0)"
   ]
  },
  {
   "cell_type": "code",
   "execution_count": null,
   "id": "1706d709",
   "metadata": {},
   "outputs": [],
   "source": []
  },
  {
   "cell_type": "code",
   "execution_count": null,
   "id": "56fbb97c",
   "metadata": {},
   "outputs": [],
   "source": [
    "# #Using 2D CNN\n",
    "\n",
    "# cnn = Sequential([\n",
    "#     layers.Embedding(input_dim=5000, input_length=20, output_dim=30, mask_zero=True),\n",
    "#     layers.Conv2D(2,3, strides = (1,1), kernel size = x),\n",
    "#     layers.Flatten(),\n",
    "#     layers.Dense(1, activation=\"sigmoid\"),\n",
    "# ])"
   ]
  }
 ],
 "metadata": {
  "kernelspec": {
   "display_name": "Python 3 (ipykernel)",
   "language": "python",
   "name": "python3"
  },
  "language_info": {
   "codemirror_mode": {
    "name": "ipython",
    "version": 3
   },
   "file_extension": ".py",
   "mimetype": "text/x-python",
   "name": "python",
   "nbconvert_exporter": "python",
   "pygments_lexer": "ipython3",
   "version": "3.10.6"
  },
  "toc": {
   "base_numbering": 1,
   "nav_menu": {},
   "number_sections": true,
   "sideBar": true,
   "skip_h1_title": false,
   "title_cell": "Table of Contents",
   "title_sidebar": "Contents",
   "toc_cell": false,
   "toc_position": {},
   "toc_section_display": true,
   "toc_window_display": false
  }
 },
 "nbformat": 4,
 "nbformat_minor": 5
}
